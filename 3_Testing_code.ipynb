{
 "cells": [
  {
   "cell_type": "markdown",
   "metadata": {},
   "source": [
    "# MailerLite Testing\n",
    "\n",
    "This is just some quick code, so we can do our MailerLite testing"
   ]
  },
  {
   "cell_type": "code",
   "execution_count": 1,
   "metadata": {},
   "outputs": [],
   "source": [
    "import pandas as pd\n",
    "import numpy as np\n",
    "import os \n",
    "import datetime\n",
    "from datetime import timedelta\n",
    "\n",
    "today = datetime.datetime.today().strftime('%Y-%m-%d')\n",
    "current_conference_folder= \"May2025\"\n"
   ]
  },
  {
   "cell_type": "code",
   "execution_count": 3,
   "metadata": {},
   "outputs": [],
   "source": [
    "mailerlite = pd.read_csv(f\"{current_conference_folder}/Outputs/For Mail Merge/MailerLite_update_all_custom_fields_{today}.csv\")"
   ]
  },
  {
   "cell_type": "markdown",
   "metadata": {},
   "source": [
    "Let's replace all the emails with my own email, and then"
   ]
  },
  {
   "cell_type": "code",
   "execution_count": 14,
   "metadata": {},
   "outputs": [],
   "source": [
    "test_ds = mailerlite.copy()\n",
    "test_ds['Email'] = 'bhodge@udel.edu'\n",
    "test_ds['First Name'] = 'Becky'\n",
    "test_ds['Last Name'] = 'Hodge'\n",
    "test_ds['phone'] = 3022906560\n",
    "test_ds = test_ds.drop(columns=['Session'])\n",
    "\n",
    "test_ds = test_ds.drop_duplicates()"
   ]
  },
  {
   "cell_type": "code",
   "execution_count": 20,
   "metadata": {},
   "outputs": [
    {
     "name": "stdout",
     "output_type": "stream",
     "text": [
      "    First Name Last Name                                           workshop  ... pitch_any  timekeeper  days_attending\n",
      "0        Becky     Hodge                                                NaN  ...      True       False            Both\n",
      "1        Becky     Hodge                                                NaN  ...     False       False            Both\n",
      "2        Becky     Hodge                                                NaN  ...     False       False            Both\n",
      "3        Becky     Hodge                                                NaN  ...      True       False            Both\n",
      "4        Becky     Hodge                                                NaN  ...     False       False            Both\n",
      "..         ...       ...                                                ...  ...       ...         ...             ...\n",
      "187      Becky     Hodge  04:00 PM - 06:00 PM: Workshop, \"Writer Beware:...  ...      True       False            Both\n",
      "188      Becky     Hodge                                                NaN  ...      True       False            Both\n",
      "194      Becky     Hodge  04:00 PM - 06:00 PM: Workshop, \"Writer Beware:...  ...      True       False            Both\n",
      "200      Becky     Hodge                                                NaN  ...      True       False            Both\n",
      "205      Becky     Hodge  04:00 PM - 06:00 PM: Workshop, \"Writer Beware:...  ...      True       False            Both\n",
      "\n",
      "[99 rows x 37 columns]\n"
     ]
    }
   ],
   "source": [
    "def create_test_dataset(df):\n",
    "    \"\"\"\n",
    "    Creates a test dataset with boolean columns indicating the presence of values,\n",
    "    removes duplicate boolean combinations, and retains one row with actual values.\n",
    "\n",
    "    Args:\n",
    "        df (pd.DataFrame): The input DataFrame.\n",
    "\n",
    "    Returns:\n",
    "        pd.DataFrame: The processed test DataFrame.\n",
    "    \"\"\"\n",
    "\n",
    "    # Create a copy of the input DataFrame to avoid modifying the original\n",
    "    test_df = df.copy()\n",
    "\n",
    "    # Columns to ignore\n",
    "    ignore_cols = ['ms2','ms3', 'coach2', 'pitch2', 'pitch3', 'ws_ms1', 'wl_ms2', 'wl_ms3', 'wl_pitch2', 'wl_pitch3', 'virtual', 'friday_activities', \n",
    "                    'saturday_activities', 'timekeeper', 'days_attending', 'qlc_any', 'pitch_any', 'ms_any', 'registered']\n",
    "\n",
    "    # Create boolean columns for each non-email column\n",
    "    for col in test_df.columns:\n",
    "        if col not in ignore_cols:\n",
    "            test_df[f'{col}_bool'] = test_df[col].notna()\n",
    "\n",
    "    # Select only the boolean columns and the original non-email columns.\n",
    "    bool_cols = [col for col in test_df.columns if col.endswith('_bool')]\n",
    "    keep_cols = [col for col in test_df.columns if col != 'Email' and not col.endswith('_bool')]\n",
    "\n",
    "    test_df_bool = test_df[bool_cols + keep_cols]\n",
    "\n",
    "    # Drop duplicate combinations of boolean columns, keeping the first\n",
    "    test_df_unique = test_df_bool.drop_duplicates(subset=bool_cols, keep='first')\n",
    "    final_df = test_df_unique.drop(columns=bool_cols)\n",
    "\n",
    "    return final_df\n",
    "\n",
    "test_dataset = create_test_dataset(test_ds)\n",
    "print(test_dataset)"
   ]
  },
  {
   "cell_type": "code",
   "execution_count": 21,
   "metadata": {},
   "outputs": [],
   "source": [
    "# Print this out and do some clenaing on my end to get it how I want\n",
    "test_dataset.to_excel(f\"{current_conference_folder}/Testing/MailerLite_testing.xlsx\", index=False)"
   ]
  }
 ],
 "metadata": {
  "language_info": {
   "name": "python"
  }
 },
 "nbformat": 4,
 "nbformat_minor": 2
}
