{
 "cells": [
  {
   "cell_type": "markdown",
   "metadata": {},
   "source": [
    "# Scheduling Participants for the May 2025 Atlanta Writer's Conference\n",
    "*Becky Hodge*\n",
    "\n",
    "#### Summary\n",
    "This code should be run ~1 month prior to the conference, and will need to be run repeatedly in the weeks and days prior to accomodate any changes.\n",
    "\n",
    "The code in this notebook imports the full list of registered and waitlist participants for the May 2025 conference, loads the (manually created) list of fiction and non-fiction genres, as well as the list of agents and timekeepers, and makes any corrections needed before moving on to the next section of code, which involves scheduling Friday's query letter critique sessions."
   ]
  },
  {
   "cell_type": "markdown",
   "metadata": {},
   "source": [
    "<font color='red'>**NOTE:**</font> Prior to running this code, make sure you update the *timekeepers* sheet in the *List_of_agents_editors.xlsx* document. If the assigments of the timekeepers is still TBD, that's okay - what's more important is making sure at minimum all the emails for everyone who's going to timekeeper is listed in there. That's the only part needed for this code."
   ]
  },
  {
   "cell_type": "code",
   "execution_count": null,
   "metadata": {
    "vscode": {
     "languageId": "python"
    }
   },
   "outputs": [],
   "source": [
    "# Install any needed packages\n",
    "import pandas as pd\n",
    "import numpy as np\n",
    "import datetime\n",
    "import os \n",
    "\n",
    "today = datetime.datetime.today().strftime('%Y-%m-%d')"
   ]
  },
  {
   "cell_type": "code",
   "execution_count": null,
   "metadata": {
    "vscode": {
     "languageId": "python"
    }
   },
   "outputs": [],
   "source": [
    "# Set the conference dates\n",
    "date_str_fri = '2025-05-02'\n",
    "date_str_sat = '2025-05-03'\n",
    "\n",
    "# Reference the current conference folder we should be pulling and storing all datasets/excel files/templates\n",
    "current_conference_folder= \"May2025\""
   ]
  },
  {
   "cell_type": "markdown",
   "metadata": {},
   "source": [
    "## 1. Data Cleaning"
   ]
  },
  {
   "cell_type": "markdown",
   "metadata": {},
   "source": [
    "#### Load and clean the different files/reports"
   ]
  },
  {
   "cell_type": "code",
   "execution_count": 117,
   "metadata": {
    "vscode": {
     "languageId": "python"
    }
   },
   "outputs": [],
   "source": [
    "# Select the file with the most recent date\n",
    "directory = f'{current_conference_folder}/Cvent_report_downloads'\n",
    "\n",
    "most_recent_file = max(\n",
    "    (f for f in os.listdir(directory) if f.startswith('Registered_') and f.endswith('.csv')),\n",
    "    key=lambda x: datetime.datetime.strptime(x.split('_')[1].split('.')[0], '%m-%d-%y'),\n",
    ")\n",
    "\n",
    "# Load the most recent file\n",
    "most_recent_path = os.path.join(directory, most_recent_file)\n",
    "registered = pd.read_csv(most_recent_path)\n"
   ]
  },
  {
   "cell_type": "code",
   "execution_count": 118,
   "metadata": {
    "vscode": {
     "languageId": "python"
    }
   },
   "outputs": [],
   "source": [
    "most_recent_file = max(\n",
    "    (f for f in os.listdir(directory) if f.startswith('Waitlists_') and f.endswith('.csv')),\n",
    "    key=lambda x: datetime.datetime.strptime(x.split('_')[1].split('.')[0], '%m-%d-%y'),\n",
    ")\n",
    "\n",
    "# Load the most recent file\n",
    "most_recent_path = os.path.join(directory, most_recent_file)\n",
    "waitlist = pd.read_csv(most_recent_path)"
   ]
  },
  {
   "cell_type": "markdown",
   "metadata": {},
   "source": [
    "The below code brings in ALL participants, which is key for knowing whether any waitlist only people are virtual or in person."
   ]
  },
  {
   "cell_type": "code",
   "execution_count": 119,
   "metadata": {
    "vscode": {
     "languageId": "python"
    }
   },
   "outputs": [],
   "source": [
    "most_recent_file = max(\n",
    "    (f for f in os.listdir(directory) if f.startswith('Allparticipants_') and f.endswith('.csv')),\n",
    "    key=lambda x: datetime.datetime.strptime(x.split('_')[1].split('.')[0], '%m-%d-%y'),\n",
    ")\n",
    "\n",
    "# Load the most recent file\n",
    "most_recent_path = os.path.join(directory, most_recent_file)\n",
    "all_participants = pd.read_csv(most_recent_path)"
   ]
  },
  {
   "cell_type": "code",
   "execution_count": 120,
   "metadata": {
    "vscode": {
     "languageId": "python"
    }
   },
   "outputs": [],
   "source": [
    "all_participants = all_participants.rename(columns={'Email Address':'Email'})"
   ]
  },
  {
   "cell_type": "code",
   "execution_count": 121,
   "metadata": {
    "vscode": {
     "languageId": "python"
    }
   },
   "outputs": [],
   "source": [
    "# Filter this dataset to just virtual people\n",
    "virtual_only = all_participants.loc[all_participants['Hotel vs. Zoom'] == 'Virtually via Zoom (only available for query letter critiques, manuscript sample critiques, and pitches)', :]"
   ]
  },
  {
   "cell_type": "code",
   "execution_count": 122,
   "metadata": {
    "vscode": {
     "languageId": "python"
    }
   },
   "outputs": [],
   "source": [
    "del(directory, most_recent_file, most_recent_path)\n",
    "\n",
    "fict_gen = pd.read_excel('List_of_genres_agents_editors.xlsx', sheet_name='fiction')\n",
    "nonfict_gen = pd.read_excel('List_of_genres_agents_editors.xlsx', sheet_name='nonfiction')\n",
    "pubs = pd.read_excel('List_of_genres_agents_editors.xlsx', sheet_name='agents_editors')"
   ]
  },
  {
   "cell_type": "markdown",
   "metadata": {},
   "source": [
    "Oh gosh, some of the column names are hefty...  Let's fix those."
   ]
  },
  {
   "cell_type": "code",
   "execution_count": 123,
   "metadata": {
    "vscode": {
     "languageId": "python"
    }
   },
   "outputs": [],
   "source": [
    "registered = registered.rename(columns={'Hotel vs. Zoom':'Virtual', \n",
    "                                        \"What fiction genre(s) will you be presenting to agents/editors at the conference? (If you're not signing up for any agent/editor meetings, indicate which genre(s) you write.)\":'Fiction genre', \n",
    "                                        \"What nonfiction topic(s) will you be presenting to agents/editors at the conference? (If you're not signing up for any agent/editor meetings, indicate which topic(s) you write.)\":'Nonfiction genre', \n",
    "                                        'Registration Date (GMT)':'Registration Date',\n",
    "                                        'Email Address':'Email'})"
   ]
  },
  {
   "cell_type": "code",
   "execution_count": 124,
   "metadata": {
    "vscode": {
     "languageId": "python"
    }
   },
   "outputs": [],
   "source": [
    "waitlist = waitlist.rename(columns={'Registration Date (GMT)':'Registration Date',\n",
    "                                     'Email Address':'Email'})"
   ]
  },
  {
   "cell_type": "markdown",
   "metadata": {},
   "source": [
    "Let's also fix so that we drop the 'Not applicable --I don't write fiction' and 'Not applicable--I don't write nonfiction'. We'll set them to missing."
   ]
  },
  {
   "cell_type": "code",
   "execution_count": 125,
   "metadata": {
    "vscode": {
     "languageId": "python"
    }
   },
   "outputs": [],
   "source": [
    "registered['Fiction genre']= registered['Fiction genre'].replace(\"Not Applicable --I don't write fiction\", np.nan)\n",
    "registered['Nonfiction genre']= registered['Nonfiction genre'].replace(\"Not Applicable--I don't write nonfiction\", np.nan)"
   ]
  },
  {
   "cell_type": "markdown",
   "metadata": {},
   "source": [
    "Also, there's people who wrote in 'Other',  but for our purposes, we don't care about that info for the purposes of matching to agents/editors. Let's remove those."
   ]
  },
  {
   "cell_type": "code",
   "execution_count": 126,
   "metadata": {
    "vscode": {
     "languageId": "python"
    }
   },
   "outputs": [],
   "source": [
    "import re\n",
    "import numpy as np\n",
    "def clean_genres(genre_string):\n",
    "    if genre_string is None or pd.isna(genre_string) or \"\":\n",
    "        return \"\"\n",
    "\n",
    "    genres = [genre.strip() for genre in genre_string.split(',')]\n",
    "    cleaned_genres = [genre for genre in genres if not re.match(r\"^Other \\(please specify\\):\", genre)]\n",
    "\n",
    "    return \", \".join(cleaned_genres)\n",
    "\n",
    "registered['Fiction genre'] = registered['Fiction genre'].apply(clean_genres)\n",
    "registered['Nonfiction genre'] = registered['Nonfiction genre'].apply(clean_genres)\n"
   ]
  },
  {
   "cell_type": "markdown",
   "metadata": {},
   "source": [
    "Lastly, let's replace a few of the ones that have ' in them, which make things tricky"
   ]
  },
  {
   "cell_type": "code",
   "execution_count": 127,
   "metadata": {
    "vscode": {
     "languageId": "python"
    }
   },
   "outputs": [],
   "source": [
    "registered['Fiction genre'] = registered['Fiction genre'].str.replace(\"Women’s\", \"Women's\")\n",
    "registered['Fiction genre'] = registered['Fiction genre'].str.replace(\"Children’s picture/chapter books\", \"Children's picture/chapter books\")\n",
    "\n",
    "registered['Nonfiction genre'] = registered['Nonfiction genre'].str.replace(\"Women’s issues\", \"Women's issues\")\n"
   ]
  },
  {
   "cell_type": "markdown",
   "metadata": {},
   "source": [
    "##### Fix date-times and emails\n",
    "\n",
    "We need to change the registration date to a date_time variable"
   ]
  },
  {
   "cell_type": "code",
   "execution_count": 128,
   "metadata": {
    "vscode": {
     "languageId": "python"
    }
   },
   "outputs": [],
   "source": [
    "registered[\"datetime\"] = pd.to_datetime(registered[\"Registration Date\"])\n",
    "waitlist[\"datetime\"] = pd.to_datetime(waitlist[\"Registration Date\"])"
   ]
  },
  {
   "cell_type": "markdown",
   "metadata": {},
   "source": [
    "Let's check to see if every Email Address is associated with a unique first and last name, since ideally we just use email as our unique identifier. It's possible spouses use the same email."
   ]
  },
  {
   "cell_type": "code",
   "execution_count": 129,
   "metadata": {
    "vscode": {
     "languageId": "python"
    }
   },
   "outputs": [
    {
     "data": {
      "text/plain": [
       "172"
      ]
     },
     "execution_count": null,
     "metadata": {},
     "output_type": "execute_result"
    }
   ],
   "source": [
    "len(registered['Email'].unique())"
   ]
  },
  {
   "cell_type": "code",
   "execution_count": 130,
   "metadata": {
    "vscode": {
     "languageId": "python"
    }
   },
   "outputs": [
    {
     "data": {
      "text/plain": [
       "172"
      ]
     },
     "execution_count": null,
     "metadata": {},
     "output_type": "execute_result"
    }
   ],
   "source": [
    "check = registered[['Email', 'First Name']].value_counts().reset_index()\n",
    "len(check['Email'].unique())"
   ]
  },
  {
   "cell_type": "markdown",
   "metadata": {},
   "source": [
    "Perfect. The number of unique emails match, whether we just look at email, or if we also look at email and first name. Moving forward, we can use email address as a unique identifier."
   ]
  },
  {
   "cell_type": "code",
   "execution_count": 131,
   "metadata": {
    "vscode": {
     "languageId": "python"
    }
   },
   "outputs": [],
   "source": [
    "del(check)"
   ]
  },
  {
   "cell_type": "markdown",
   "metadata": {},
   "source": [
    "##### Fix phone numbers"
   ]
  },
  {
   "cell_type": "markdown",
   "metadata": {},
   "source": [
    "Check for any phone numbers (in both the waitlist and registered files) that aren't just 10 digits"
   ]
  },
  {
   "cell_type": "code",
   "execution_count": 132,
   "metadata": {
    "vscode": {
     "languageId": "python"
    }
   },
   "outputs": [
    {
     "name": "stdout",
     "output_type": "stream",
     "text": [
      "26     678-708-3046\n",
      "119    801-390-4595\n",
      "120    801-390-4595\n",
      "Name: Mobile Phone Number, dtype: object\n",
      "After fixing waitlist phone numbers, there are now 0 phones with dashes or parentheses\n"
     ]
    }
   ],
   "source": [
    "phonecheck_wait = waitlist.loc[waitlist['Mobile Phone Number'].str.contains(\"-\")]\n",
    "print(phonecheck_wait['Mobile Phone Number'])\n",
    "\n",
    "waitlist['phone'] = waitlist['Mobile Phone Number'].str.replace(r'^(?:\\(\\+\\d+\\))|\\D', '', regex=True)\n",
    "print(\"After fixing waitlist phone numbers, there are now\", len(waitlist.loc[waitlist['phone'].str.contains(\"-\")]), \"phones with dashes or parentheses\")"
   ]
  },
  {
   "cell_type": "code",
   "execution_count": 133,
   "metadata": {
    "vscode": {
     "languageId": "python"
    }
   },
   "outputs": [
    {
     "name": "stdout",
     "output_type": "stream",
     "text": [
      "1         404-429-4890\n",
      "26        828-279-6154\n",
      "105       801-390-4595\n",
      "134       828-279-6154\n",
      "138       678-457-7878\n",
      "             ...      \n",
      "1826      801-390-4595\n",
      "1848      404-429-4890\n",
      "1884      410-746-0590\n",
      "1897    (517) 944-2233\n",
      "1915      678-708-3046\n",
      "Name: Mobile Phone Number, Length: 101, dtype: object\n",
      "After fixing registered phone numbers, there are now 0 phones with dashes or parentheses\n"
     ]
    }
   ],
   "source": [
    "phonecheck_reg = registered.loc[registered['Mobile Phone Number'].str.contains(\"-\")]\n",
    "print(phonecheck_reg['Mobile Phone Number'])\n",
    "\n",
    "registered['phone'] = registered['Mobile Phone Number'].str.replace(r'^(?:\\(\\+\\d+\\))|\\D', '', regex=True)\n",
    "print(\"After fixing registered phone numbers, there are now\", len(registered.loc[registered['phone'].str.contains(\"-\")]), \"phones with dashes or parentheses\")"
   ]
  },
  {
   "cell_type": "markdown",
   "metadata": {},
   "source": [
    "Now let's check that all phone numbers are ten digits"
   ]
  },
  {
   "cell_type": "code",
   "execution_count": 134,
   "metadata": {
    "vscode": {
     "languageId": "python"
    }
   },
   "outputs": [
    {
     "name": "stdout",
     "output_type": "stream",
     "text": [
      "     Mobile Phone Number         phone\n",
      "28       '+49 1704174774  491704174774\n",
      "117      '+49 1704174774  491704174774\n",
      "308      '+49 1704174774  491704174774\n",
      "585      '+49 1704174774  491704174774\n",
      "788      '+49 1704174774  491704174774\n",
      "807      '+49 1704174774  491704174774\n",
      "891      '+49 1704174774  491704174774\n",
      "920      '+49 1704174774  491704174774\n",
      "996      '+49 1704174774  491704174774\n",
      "1124     '+49 1704174774  491704174774\n",
      "1200     '+49 1704174774  491704174774\n",
      "1327     '+49 1704174774  491704174774\n",
      "1484     '+49 1704174774  491704174774\n",
      "1558     '+49 1704174774  491704174774\n",
      "1618     '+49 1704174774  491704174774\n",
      "1805     '+49 1704174774  491704174774\n"
     ]
    }
   ],
   "source": [
    "phonecheck_reg = registered.loc[registered['phone'].str.len()>10]\n",
    "print(phonecheck_reg[['Mobile Phone Number', 'phone']])"
   ]
  },
  {
   "cell_type": "code",
   "execution_count": 135,
   "metadata": {
    "vscode": {
     "languageId": "python"
    }
   },
   "outputs": [
    {
     "name": "stdout",
     "output_type": "stream",
     "text": [
      "Empty DataFrame\n",
      "Columns: [Mobile Phone Number, phone]\n",
      "Index: []\n"
     ]
    }
   ],
   "source": [
    "phonecheck_wait = waitlist.loc[waitlist['phone'].str.len()>10]\n",
    "print(phonecheck_wait[['Mobile Phone Number', 'phone']])"
   ]
  },
  {
   "cell_type": "markdown",
   "metadata": {},
   "source": [
    "Let's fix both these datasets, so anyone with an international number gets their phone reset to missing (though we'll keep the original Mobile Phone Number column intact)"
   ]
  },
  {
   "cell_type": "code",
   "execution_count": 136,
   "metadata": {
    "vscode": {
     "languageId": "python"
    }
   },
   "outputs": [
    {
     "name": "stdout",
     "output_type": "stream",
     "text": [
      "0\n",
      "16\n",
      "0\n",
      "0\n"
     ]
    }
   ],
   "source": [
    "registered.loc[registered['phone'].str.len()>10, 'phone'] = None\n",
    "registered['phone'].head()\n",
    "\n",
    "waitlist.loc[waitlist['phone'].str.len()>10, 'phone'] = None\n",
    "waitlist['phone'].head()\n",
    "\n",
    "print(registered['Mobile Phone Number'].isna().sum())\n",
    "print(registered['phone'].isna().sum())\n",
    "\n",
    "print(waitlist['Mobile Phone Number'].isna().sum())\n",
    "print(waitlist['phone'].isna().sum())"
   ]
  },
  {
   "cell_type": "markdown",
   "metadata": {},
   "source": [
    "Good! We didn't have any missing values to begin with, but we reset those 16 international numbers to missing for the phone column, but not the Mobile Phone Number column.\n",
    "\n",
    "Let's move on to email addresses now, and check for any that are missing or problematic. First, we'll check if any are missing:"
   ]
  },
  {
   "cell_type": "markdown",
   "metadata": {},
   "source": [
    "##### Fix emails"
   ]
  },
  {
   "cell_type": "code",
   "execution_count": 137,
   "metadata": {
    "vscode": {
     "languageId": "python"
    }
   },
   "outputs": [],
   "source": [
    "weird_emails = registered.loc[registered['Email'].isna(), ]"
   ]
  },
  {
   "cell_type": "markdown",
   "metadata": {},
   "source": [
    "Yay! Everyone filled out an email. So now we just need to check that nobody put in faulty emails that will cause problems later:"
   ]
  },
  {
   "cell_type": "code",
   "execution_count": 138,
   "metadata": {
    "vscode": {
     "languageId": "python"
    }
   },
   "outputs": [
    {
     "name": "stdout",
     "output_type": "stream",
     "text": [
      "262     jlary@alumni.iu.edu\n",
      "383     jlary@alumni.iu.edu\n",
      "623     jlary@alumni.iu.edu\n",
      "643     jlary@alumni.iu.edu\n",
      "1010    jlary@alumni.iu.edu\n",
      "1279    jlary@alumni.iu.edu\n",
      "1337    jlary@alumni.iu.edu\n",
      "1487    jlary@alumni.iu.edu\n",
      "1671    jlary@alumni.iu.edu\n",
      "1863    jlary@alumni.iu.edu\n",
      "Name: Email, dtype: object\n"
     ]
    }
   ],
   "source": [
    "weird_emails = registered.loc[registered['Email'].str.contains(r'^[\\w\\.-]+@[a-zA-Z\\d-]+\\.[a-zA-Z]{2,}$', regex=True)==False, ]\n",
    "print(weird_emails['Email'])"
   ]
  },
  {
   "cell_type": "code",
   "execution_count": 139,
   "metadata": {
    "vscode": {
     "languageId": "python"
    }
   },
   "outputs": [
    {
     "name": "stdout",
     "output_type": "stream",
     "text": [
      "Series([], Name: Email, dtype: object)\n"
     ]
    }
   ],
   "source": [
    "weird_emails = waitlist.loc[waitlist['Email'].str.contains(r'^[\\w\\.-]+@[a-zA-Z\\d-]+\\.[a-zA-Z]{2,}$', regex=True)==False, ]\n",
    "print(weird_emails['Email'])"
   ]
  },
  {
   "cell_type": "markdown",
   "metadata": {},
   "source": [
    "Okay, the emails all look fine. That particular Alumni email isn't a problem, so emails are good to go."
   ]
  },
  {
   "cell_type": "markdown",
   "metadata": {},
   "source": [
    "##### Add in virtual variable to the waitlist dataset"
   ]
  },
  {
   "cell_type": "code",
   "execution_count": 140,
   "metadata": {
    "vscode": {
     "languageId": "python"
    }
   },
   "outputs": [],
   "source": [
    "waitlist['virtual'] = waitlist['Email'].apply(\n",
    "    lambda email: 'Virtual' if email in virtual_only['Email'].values else 'In person'\n",
    ")"
   ]
  },
  {
   "cell_type": "markdown",
   "metadata": {},
   "source": [
    "#### Drop any unneeded variables"
   ]
  },
  {
   "cell_type": "markdown",
   "metadata": {},
   "source": [
    "Let's drop any extraneous variables from the waitlist and registration datasets"
   ]
  },
  {
   "cell_type": "code",
   "execution_count": 141,
   "metadata": {
    "vscode": {
     "languageId": "python"
    }
   },
   "outputs": [],
   "source": [
    "waitlist.drop(columns=['Registration Date', 'Invitee Status', 'Action', 'Confirmation Number'],axis=1, inplace=True) # columns are 1, rows are 0\n",
    "\n",
    "registered.drop(columns=['Agenda Item Type', 'Registration Date', 'Registration Type', 'Action'],axis=1, inplace=True) # columns are 1, rows are 0"
   ]
  },
  {
   "cell_type": "code",
   "execution_count": 142,
   "metadata": {
    "vscode": {
     "languageId": "python"
    }
   },
   "outputs": [],
   "source": [
    "del(weird_emails, phonecheck_reg, phonecheck_wait)"
   ]
  },
  {
   "cell_type": "code",
   "execution_count": 143,
   "metadata": {
    "vscode": {
     "languageId": "python"
    }
   },
   "outputs": [],
   "source": [
    "today = datetime.date.today().strftime('%Y-%m-%d') # Let's save today's date for when writing excel files"
   ]
  },
  {
   "cell_type": "markdown",
   "metadata": {},
   "source": [
    "#### Bring in timekeeper information"
   ]
  },
  {
   "cell_type": "code",
   "execution_count": 144,
   "metadata": {
    "vscode": {
     "languageId": "python"
    }
   },
   "outputs": [],
   "source": [
    "# Load the time keepers\n",
    "timekeepers = pd.read_excel(f'{current_conference_folder}/List_of_genres_agents_editors.xlsx', sheet_name='timekeepers')"
   ]
  },
  {
   "cell_type": "markdown",
   "metadata": {},
   "source": [
    "#### Create lists with all time-by-room values\n",
    "We need to pull in the start times for each of the time slots for Friday afternoon (query letter critiques), Saturday morning (manuscript critiques), and Saturday afternoon (pitches) sessions. Without worrying about who our timekeepers are, or which agents are assigned to those rooms, we'll create 3 lists with the times-by-room."
   ]
  },
  {
   "cell_type": "code",
   "execution_count": 145,
   "metadata": {
    "vscode": {
     "languageId": "python"
    }
   },
   "outputs": [],
   "source": [
    "room_fr = pd.read_excel('List_of_genres_agents_editors.xlsx', sheet_name='rooms_friday')\n",
    "room_sat = pd.read_excel('List_of_genres_agents_editors.xlsx', sheet_name='rooms_sat')\n",
    "timeslots = pd.read_excel('List_of_genres_agents_editors.xlsx', sheet_name='timeslots')"
   ]
  },
  {
   "cell_type": "code",
   "execution_count": 146,
   "metadata": {
    "vscode": {
     "languageId": "python"
    }
   },
   "outputs": [],
   "source": [
    "rooms_friday = room_fr.loc[:, 'day':'room_name']\n",
    "rooms_saturday = room_sat.loc[:, 'day':'room_name']"
   ]
  },
  {
   "cell_type": "markdown",
   "metadata": {},
   "source": [
    "Now let's combine the timeslots dataset with the friday and saturday rooms datasets to get the lists we need"
   ]
  },
  {
   "cell_type": "code",
   "execution_count": 147,
   "metadata": {
    "vscode": {
     "languageId": "python"
    }
   },
   "outputs": [],
   "source": [
    "tslist_fri = pd.merge(timeslots.loc[(timeslots['day']=='Friday') & (timeslots['day_session']=='Afternoon'), :], rooms_friday, how='outer', on='day')"
   ]
  },
  {
   "cell_type": "code",
   "execution_count": 148,
   "metadata": {
    "vscode": {
     "languageId": "python"
    }
   },
   "outputs": [],
   "source": [
    "rooms_coach = pd.read_excel('List_of_genres_agents_editors.xlsx', sheet_name='coaches')"
   ]
  },
  {
   "cell_type": "code",
   "execution_count": 149,
   "metadata": {
    "vscode": {
     "languageId": "python"
    }
   },
   "outputs": [],
   "source": [
    "tslist_coach = pd.merge(timeslots.loc[(timeslots['day']=='Friday') & (timeslots['day_session']=='Coaching'), :], rooms_coach, how='outer', on='day')"
   ]
  },
  {
   "cell_type": "markdown",
   "metadata": {},
   "source": [
    "## 2. Friday Query Letter Critiques"
   ]
  },
  {
   "cell_type": "markdown",
   "metadata": {},
   "source": [
    "### Create pairwise agent-editor genre combos\n",
    "We need to create a dataset that pairs all agents and editors with each other (18x18), so that we get their combined fiction and non-fiction genre listings. We will need this to ensure that the participants assigned to them for the Friday query letter critiques are a good match."
   ]
  },
  {
   "cell_type": "code",
   "execution_count": 150,
   "metadata": {
    "vscode": {
     "languageId": "python"
    }
   },
   "outputs": [],
   "source": [
    "cross_pubs = pd.merge(pubs, pubs, how='cross')\n",
    "\n",
    "# Drop rows where they cross-reference themselves\n",
    "cross_pubs = cross_pubs.loc[cross_pubs['lit_guest_name_x'] != cross_pubs['lit_guest_name_y'], :]\n",
    "\n",
    "# Rename\n",
    "cross_pubs = cross_pubs.rename(columns={'lit_guest_name_x': 'pubname1', 'lit_guest_type_x': 'pubtype1', 'lit_guest_company_x': 'comp1', 'lit_guest_fiction_x': 'fict1', 'lit_guest_nonfiction_x': 'nonfict1', 'lit_guest_name_y': 'pubname2', 'lit_guest_type_y': 'pubtype2', 'lit_guest_company_y': 'comp2', 'lit_guest_fiction_y': 'fict2', 'lit_guest_nonfiction_y': 'nonfict2'})"
   ]
  },
  {
   "cell_type": "markdown",
   "metadata": {},
   "source": [
    "Now we need to make two columns that are the full combination of elements in the 'fiction' and 'nonfiction' genre columns."
   ]
  },
  {
   "cell_type": "code",
   "execution_count": 151,
   "metadata": {
    "vscode": {
     "languageId": "python"
    }
   },
   "outputs": [
    {
     "name": "stdout",
     "output_type": "stream",
     "text": [
      "1    Coming-of-age, Contemporary, Family saga/drama...\n",
      "2    Christian, Coming-of-age, Contemporary, Family...\n",
      "3    Coming-of-age, Contemporary, Fantasy, Humor, L...\n",
      "4    Coming-of-age, Contemporary, Fantasy, Horror/S...\n",
      "5    Coming-of-age, Contemporary, Family saga/drama...\n",
      "Name: combined_fiction, dtype: object\n"
     ]
    }
   ],
   "source": [
    "cross_pubs['combined_fiction'] = cross_pubs.apply(\n",
    "    lambda row: ', '.join(\n",
    "        sorted(set(row['fict1'].split(', ') + row['fict2'].split(', ')))\n",
    "    ),\n",
    "    axis=1\n",
    ")\n",
    "\n",
    "print(cross_pubs['combined_fiction'].head())\n"
   ]
  },
  {
   "cell_type": "markdown",
   "metadata": {},
   "source": [
    "Looks great! We have all the unique fiction genres now. We'll just do the same for nonfiction, though that has some missing values, so the code below adjusts for that (not every agent or editor represents nonfiction)."
   ]
  },
  {
   "cell_type": "code",
   "execution_count": 152,
   "metadata": {
    "vscode": {
     "languageId": "python"
    }
   },
   "outputs": [
    {
     "name": "stdout",
     "output_type": "stream",
     "text": [
      "1                                                 None\n",
      "2    Business/leadership/law, Cooking/food/cookbook...\n",
      "3    Business/leadership/law, Health/diet/wellness,...\n",
      "4    Essay collection, Self-help/relationships, Tru...\n",
      "5    Current events/politics/social commentary, Ess...\n",
      "Name: combined_nonfiction, dtype: object\n"
     ]
    }
   ],
   "source": [
    "cross_pubs['combined_nonfiction'] = cross_pubs.apply(\n",
    "    lambda row: ', '.join(\n",
    "        sorted(\n",
    "            set(\n",
    "                (row['nonfict1'].split(', ') if pd.notna(row['nonfict1']) else []) +\n",
    "                (row['nonfict2'].split(', ') if pd.notna(row['nonfict2']) else [])\n",
    "            )\n",
    "        )\n",
    "    ) if pd.notna(row['nonfict1']) or pd.notna(row['nonfict2']) else None,\n",
    "    axis=1\n",
    ")\n",
    "\n",
    "print(cross_pubs['combined_nonfiction'].head())"
   ]
  },
  {
   "cell_type": "markdown",
   "metadata": {},
   "source": [
    "Perfect! Now, just to be certain it worked, let's count up the unique fiction and nonfiction genres for each guest, as well as for their combined list."
   ]
  },
  {
   "cell_type": "code",
   "execution_count": 153,
   "metadata": {
    "vscode": {
     "languageId": "python"
    }
   },
   "outputs": [
    {
     "name": "stdout",
     "output_type": "stream",
     "text": [
      "   num_fict1  num_fict2  num_combined_fict\n",
      "1         14         16                 18\n",
      "2         14         23                 23\n",
      "3         14          6                 16\n",
      "4         14          8                 16\n",
      "5         14         11                 20\n"
     ]
    }
   ],
   "source": [
    "cross_pubs['num_fict1'] = cross_pubs['fict1'].apply(\n",
    "    lambda x: len(x.split(', ')) if pd.notna(x) else 0\n",
    ")\n",
    "cross_pubs['num_fict2'] = cross_pubs['fict2'].apply(\n",
    "    lambda x: len(x.split(', ')) if pd.notna(x) else 0\n",
    ")\n",
    "cross_pubs['num_nonfict1'] = cross_pubs['nonfict1'].apply(\n",
    "    lambda x: len(x.split(', ')) if pd.notna(x) else 0\n",
    ")\n",
    "cross_pubs['num_nonfict2'] = cross_pubs['nonfict2'].apply(\n",
    "    lambda x: len(x.split(', ')) if pd.notna(x) else 0\n",
    ")\n",
    "cross_pubs['num_combined_fict'] = cross_pubs['combined_fiction'].apply(\n",
    "    lambda x: len(x.split(', ')) if pd.notna(x) else 0\n",
    ")\n",
    "cross_pubs['num_combined_nonfict'] = cross_pubs['combined_nonfiction'].apply(\n",
    "    lambda x: len(x.split(', ')) if pd.notna(x) else 0\n",
    ")\n",
    "\n",
    "print(cross_pubs.loc[0:5, ['num_fict1', 'num_fict2', 'num_combined_fict']].head())"
   ]
  },
  {
   "cell_type": "markdown",
   "metadata": {},
   "source": [
    "Awesome. This worked great, and now the last bit on this step is to calculate the number of *overlapping* fiction and nonfiction genres per pairing."
   ]
  },
  {
   "cell_type": "code",
   "execution_count": 154,
   "metadata": {
    "vscode": {
     "languageId": "python"
    }
   },
   "outputs": [],
   "source": [
    "def count_overlapping_genres(df):\n",
    "    df['fict1'] = df['fict1'].str.split(',')\n",
    "    df['fict2'] = df['fict2'].str.split(',')\n",
    "\n",
    "    df['fiction_overlap'] = df.apply(lambda row: \n",
    "                                  len(set(row['fict1']).intersection(set(row['fict2']))), \n",
    "                                  axis=1)\n",
    "    return df\n",
    "\n",
    "fiction_overlaps = count_overlapping_genres(cross_pubs)\n"
   ]
  },
  {
   "cell_type": "code",
   "execution_count": 155,
   "metadata": {
    "vscode": {
     "languageId": "python"
    }
   },
   "outputs": [],
   "source": [
    "def count_overlapping_nonfiction(df):\n",
    "\n",
    "    def clean_genres(genre_list):\n",
    "        if pd.isna(genre_list) or genre_list == 'None' or not genre_list:\n",
    "            return []\n",
    "        else:\n",
    "            try:\n",
    "                return genre_list.split(',')\n",
    "            except AttributeError:\n",
    "                # Handle cases where genre_list is not a string \n",
    "                # (e.g., if it's a list or another object)\n",
    "                return [] \n",
    "\n",
    "    df['nonfict1'] = df['nonfict1'].astype(str).apply(clean_genres) \n",
    "    df['nonfict2'] = df['nonfict2'].astype(str).apply(clean_genres) \n",
    "\n",
    "    df['nonfiction_overlap'] = df.apply(lambda row: \n",
    "                                  len(set(row['nonfict1']).intersection(set(row['nonfict2']))), \n",
    "                                  axis=1)\n",
    "    return df\n",
    "\n",
    "final_cross_pubs = count_overlapping_nonfiction(fiction_overlaps)"
   ]
  },
  {
   "cell_type": "markdown",
   "metadata": {},
   "source": [
    "Perfect. Now let's drop any unncessary variables and JUST keep both guests names, their types (agent or editor), and their combined lists of fiction and nonfiction."
   ]
  },
  {
   "cell_type": "code",
   "execution_count": 156,
   "metadata": {
    "vscode": {
     "languageId": "python"
    }
   },
   "outputs": [],
   "source": [
    "del(cross_pubs, fiction_overlaps)\n",
    "final_cross_pubs = final_cross_pubs.drop(['comp1', 'comp2', 'fict1', 'fict2', 'nonfict1', 'nonfict2', 'num_fict1', 'num_fict2', 'num_nonfict1', 'num_nonfict2'], axis=1)"
   ]
  },
  {
   "cell_type": "markdown",
   "metadata": {},
   "source": [
    "Whoops - last thing I noticed is that we have some duplicates. Specifically, we have the same 80 rows duplicated, because we have them as agent-editor pairings, and then also as editor-agent pairings. Let's delete one of these sets.\n",
    "\n",
    "<font color = 'red'>**NOTE**:</font> Even though there are duplicates, we actually want to keep these, since otherwise our code later on will have issues."
   ]
  },
  {
   "cell_type": "code",
   "execution_count": 157,
   "metadata": {
    "vscode": {
     "languageId": "python"
    }
   },
   "outputs": [],
   "source": [
    "#final_cross_pubs = final_cross_pubs.loc[((final_cross_pubs['pubtype1']=='Editor') & (final_cross_pubs['pubtype2']=='Editor')) |\n",
    "#                            ((final_cross_pubs['pubtype1']=='Editor') & (final_cross_pubs['pubtype2']=='Agent')) | \n",
    "#                            ((final_cross_pubs['pubtype1']=='Agent') & (final_cross_pubs['pubtype2']=='Agent')), :]"
   ]
  },
  {
   "cell_type": "markdown",
   "metadata": {},
   "source": [
    "### Rank publishers"
   ]
  },
  {
   "cell_type": "markdown",
   "metadata": {},
   "source": [
    "Amazing! Now we've gotten the number of unique genres in each of these combined fiction and nonfiction lists for all pairings of agent-agent, editor-editor, and editor-agent. This will help us more easily identify which agent-editor, editor-editor, and agent-agent pairings make the most sense, in terms of representing the most genres and being able to meet the greatest amount of participant needs for Friday's query letter critiques.\n",
    "\n",
    "To better help us though, let's rank the pairings. We'll rank pairings according to the number of fiction and nonfiction genres represented between them."
   ]
  },
  {
   "cell_type": "code",
   "execution_count": 158,
   "metadata": {
    "vscode": {
     "languageId": "python"
    }
   },
   "outputs": [
    {
     "data": {
      "text/plain": [
       "pubtype1  pubtype2\n",
       "Agent     Editor      81\n",
       "Editor    Agent       81\n",
       "Agent     Agent       72\n",
       "Editor    Editor      72\n",
       "Name: count, dtype: int64"
      ]
     },
     "execution_count": null,
     "metadata": {},
     "output_type": "execute_result"
    }
   ],
   "source": [
    "final_cross_pubs[['pubtype1', 'pubtype2']].value_counts()\n"
   ]
  },
  {
   "cell_type": "code",
   "execution_count": 159,
   "metadata": {
    "vscode": {
     "languageId": "python"
    }
   },
   "outputs": [],
   "source": [
    "final_cross_pubs['rank_fiction'] = final_cross_pubs['num_combined_fict'].rank(ascending=False, method='dense')\n",
    "final_cross_pubs['rank_nonfiction'] = final_cross_pubs['num_combined_nonfict'].rank(ascending=False, method='dense')"
   ]
  },
  {
   "cell_type": "markdown",
   "metadata": {},
   "source": [
    "Let's also check to see what each publisher's average ranking is (it's clear some people who represent a ton of genres will average high). Note that this is the sum of a publisher's rankings across all their agent-editor, editor-editor, and agent-agent pairings."
   ]
  },
  {
   "cell_type": "code",
   "execution_count": 160,
   "metadata": {
    "vscode": {
     "languageId": "python"
    }
   },
   "outputs": [],
   "source": [
    "ranks_per_pub = pd.DataFrame(final_cross_pubs.groupby('pubname1')['rank_fiction'].mean().reset_index())"
   ]
  },
  {
   "cell_type": "markdown",
   "metadata": {},
   "source": [
    "Awesome! Okay, now let's add a few variables:\n",
    "1) The ratio of total fiction represented across the pairing to the overlap shared between them (# combined fiction genres / # fiction genres overlapping)\n",
    "2) The ratio of total nonfiction genres represented across the pairing to their overlap\n",
    "3) The sum of these two ratios\n",
    "\n",
    "We'll use these to help identify which pairings are best."
   ]
  },
  {
   "cell_type": "code",
   "execution_count": 161,
   "metadata": {
    "vscode": {
     "languageId": "python"
    }
   },
   "outputs": [],
   "source": [
    "final_cross_pubs['ratio_fiction'] = final_cross_pubs['num_combined_fict'].div(final_cross_pubs['fiction_overlap'])\n",
    "final_cross_pubs['ratio_nonfiction'] = final_cross_pubs['num_combined_nonfict'].div(final_cross_pubs['nonfiction_overlap'])\n",
    "final_cross_pubs['sum_ratios'] = final_cross_pubs['ratio_fiction'] + final_cross_pubs['ratio_nonfiction']"
   ]
  },
  {
   "cell_type": "markdown",
   "metadata": {},
   "source": [
    "Great! Now let's just add the avg ranking variable to the final_cross_pubs list."
   ]
  },
  {
   "cell_type": "code",
   "execution_count": 162,
   "metadata": {
    "vscode": {
     "languageId": "python"
    }
   },
   "outputs": [],
   "source": [
    "final_pubs = final_cross_pubs.merge(ranks_per_pub, how= 'outer', on='pubname1')"
   ]
  },
  {
   "cell_type": "code",
   "execution_count": 163,
   "metadata": {
    "vscode": {
     "languageId": "python"
    }
   },
   "outputs": [],
   "source": [
    "final_pubs = final_pubs.rename(columns={'rank_fiction_y':'avg_pub_rank',\n",
    "                                        'rank_fiction_x':'rank_fiction'})\n",
    "final_cross_pubs = final_pubs\n",
    "del(final_pubs)"
   ]
  },
  {
   "cell_type": "markdown",
   "metadata": {},
   "source": [
    "### Pair the publishers for Friday"
   ]
  },
  {
   "cell_type": "markdown",
   "metadata": {},
   "source": [
    "In this section, we'll use the final_cross_pubs dataset to pair the publishers for Friday's query critiques. We'll do so by starting with the publisher with the highest average ranking (meaning the agent or editor who had the least in common, on average, with all the other editors and agents). \n",
    "\n",
    "For the May 2025 conference, we'll start with Joelle. We'll select her five pairings with the lowest ratio sum. This means we'll be selecting the five other agents/editors who had the MOST overlap with her in both fiction and nonfiction genres (anyone with no overlap is being excluded entirely). We'll then sort this list by the publisher type and ratio sum. Since Joelle is an editor, this way we can prioritize picking among the agents first in this top 5 list, and then if there aren't any, we'll pair her with another editor.\n",
    "\n",
    "Let's set this up."
   ]
  },
  {
   "cell_type": "code",
   "execution_count": 164,
   "metadata": {
    "vscode": {
     "languageId": "python"
    }
   },
   "outputs": [],
   "source": [
    "# Create an empty list to save the pairings\n",
    "selected_pairs =[]\n",
    "\n",
    "# We'd like to exclude any same-type pairings, so we don't get agent-agent or editor-editor pairings\n",
    "df = final_cross_pubs[final_cross_pubs['pubtype1'] != final_cross_pubs['pubtype2']]\n",
    "\n",
    "# Let's also exclude any rows where the sum_ratio is Infinity - couldn't do this. Meant there weren't rows for certain pairings\n",
    "#df = final_cross_pubs[np.isfinite(final_cross_pubs['sum_ratios'])]\n"
   ]
  },
  {
   "cell_type": "code",
   "execution_count": 165,
   "metadata": {
    "vscode": {
     "languageId": "python"
    }
   },
   "outputs": [],
   "source": [
    "top_pubname = df.loc[df['avg_pub_rank'].idxmax(), 'pubname1']\n",
    "\n",
    "# Filter rows for this pubname1\n",
    "filtered = df[df['pubname1'] == top_pubname]\n",
    "\n",
    "pubtype1 = filtered.iloc[0]['pubtype1']\n",
    "if pubtype1 == 'Editor':\n",
    "    filtered = filtered.sort_values(\n",
    "        by=['pubtype2', 'sum_ratios'], ascending=[True, True])\n",
    "else:  # pubtype1 == 'Agent'\n",
    "    filtered = filtered.sort_values(\n",
    "        by=['pubtype2', 'sum_ratios'], ascending=[False, True])\n",
    "\n",
    "check = filtered[['pubname1', 'pubtype1', 'pubname2', 'pubtype2', 'avg_pub_rank', 'sum_ratios']]\n",
    "check2 = check.sort_values(by=['pubtype2', 'sum_ratios'], ascending=[False, True])"
   ]
  },
  {
   "cell_type": "code",
   "execution_count": 166,
   "metadata": {
    "vscode": {
     "languageId": "python"
    }
   },
   "outputs": [
    {
     "name": "stdout",
     "output_type": "stream",
     "text": [
      "             pubname1 pubtype1             pubname2 pubtype2\n",
      "104  Joëlle Delbourgo    Agent         Kurt Brackob   Editor\n",
      "76        Jake Lovell    Agent            Grace Gay   Editor\n",
      "187     Micah Brocker    Agent  Foyinsi Adegbonmire   Editor\n",
      "145       Jéla Lewter   Editor      Paloma Hernando    Agent\n",
      "6    Alexandria Brown   Editor       Renée Fountain    Agent\n",
      "133   Jynastie Wilson    Agent          Dianna Vega   Editor\n",
      "216  Monica Rae Brown   Editor  Jenna Satterthwaite    Agent\n",
      "181     Lauren Bieker    Agent        Nicole Luongo   Editor\n",
      "288       Vicky Weber    Agent           Wendy Wong   Editor\n"
     ]
    }
   ],
   "source": [
    "while not df.empty:\n",
    "    # Identify the publisher with the highest rank (regardless of whether they are pubname1 or pubname2)\n",
    "    top_pubname = df.loc[df['avg_pub_rank'].idxmax(), 'pubname1']\n",
    "\n",
    "    # Filter rows for this pubname1\n",
    "    filtered = df[df['pubname1'] == top_pubname]\n",
    "\n",
    "    # Sort these rows dynamically based on `pubtype1` and `pubtype2`\n",
    "    pubtype1 = filtered.iloc[0]['pubtype1']\n",
    "    if pubtype1 == 'Editor':\n",
    "        filtered = filtered.sort_values(by=['pubtype2', 'sum_ratios'], ascending=[True, True])\n",
    "    if pubtype1 == 'Agent':\n",
    "        filtered = filtered.sort_values(by=['pubtype2', 'sum_ratios'], ascending=[False, True])\n",
    "\n",
    "    # Select the first row from the sorted list\n",
    "    selected_row = filtered.iloc[0]\n",
    "    selected_pairs.append(selected_row)\n",
    "\n",
    "    # Drop all rows containing the selected `pubname1` or `pubname2`\n",
    "    df = df[~df['pubname1'].isin([selected_row['pubname1'], selected_row['pubname2']]) &\n",
    "            ~df['pubname2'].isin([selected_row['pubname1'], selected_row['pubname2']])]\n",
    "\n",
    "    # Stop if we have 9 rows in the result\n",
    "    if len(selected_pairs) == 9:\n",
    "        break\n",
    "\n",
    "# Step 4: Create a new DataFrame or list with the selected rows\n",
    "result_df = pd.DataFrame(selected_pairs)\n",
    "result_df = result_df[['pubname1', 'pubtype1', 'pubname2', 'pubtype2']]\n",
    "\n",
    "# Print or save the result\n",
    "print(result_df)"
   ]
  },
  {
   "cell_type": "code",
   "execution_count": 167,
   "metadata": {
    "vscode": {
     "languageId": "python"
    }
   },
   "outputs": [
    {
     "data": {
      "text/plain": [
       "9"
      ]
     },
     "execution_count": null,
     "metadata": {},
     "output_type": "execute_result"
    }
   ],
   "source": [
    "# Confirm we have 9 pairings\n",
    "len(result_df)"
   ]
  },
  {
   "cell_type": "markdown",
   "metadata": {},
   "source": [
    "### Assign the paired publishers their rooms"
   ]
  },
  {
   "cell_type": "markdown",
   "metadata": {},
   "source": [
    "Woohoo! These all look good and make sense, so we're good to go for the room pairings for Friday's query letter critiques. Let's just assign these pairings to actual rooms now."
   ]
  },
  {
   "cell_type": "code",
   "execution_count": 168,
   "metadata": {
    "vscode": {
     "languageId": "python"
    }
   },
   "outputs": [],
   "source": [
    "final_room_pairings_Friday = pd.concat([room_fr.reset_index(drop=True), result_df.reset_index(drop=True)], axis=1)"
   ]
  },
  {
   "cell_type": "markdown",
   "metadata": {},
   "source": [
    "Amazing!! We are now officially done with determining Friday's pairings, and now we need to assign participants to the different time/room slots."
   ]
  },
  {
   "cell_type": "markdown",
   "metadata": {},
   "source": [
    "### Assign participants timeslots/publisher pairings for Friday"
   ]
  },
  {
   "cell_type": "markdown",
   "metadata": {},
   "source": [
    "#### Create a dataset with a single row per participant and all their relevant activities"
   ]
  },
  {
   "cell_type": "markdown",
   "metadata": {},
   "source": [
    "Let's first identify every participant who registered for a query letter critique on Friday."
   ]
  },
  {
   "cell_type": "code",
   "execution_count": 169,
   "metadata": {
    "vscode": {
     "languageId": "python"
    }
   },
   "outputs": [],
   "source": [
    "query_critique_names = registered.loc[registered['Agenda Item Name'].str.contains('Query Letter Critique'), :]"
   ]
  },
  {
   "cell_type": "markdown",
   "metadata": {},
   "source": [
    "Let's get a count of each email in this list, so we know the number of query letter critiques each person signed up for. Then we'll delete the original query_critique_names dataset."
   ]
  },
  {
   "cell_type": "code",
   "execution_count": 170,
   "metadata": {
    "vscode": {
     "languageId": "python"
    }
   },
   "outputs": [],
   "source": [
    "queries = query_critique_names['Email'].value_counts().reset_index()\n",
    "del(query_critique_names)"
   ]
  },
  {
   "cell_type": "markdown",
   "metadata": {},
   "source": [
    "Importantly, for Friday's assignments, we can't assign people to agents/editors they're seeing on Saturday for a pitch or manuscript critique. In order to account for this, we also need to create datasets for the manuscript and pitches, so we can combine all three datasets later. \n",
    "\n",
    "Our goal is to create a single row per participant that lists any agents/editors they chose on Saturday, and to have know how many query letter critiques those people want."
   ]
  },
  {
   "cell_type": "code",
   "execution_count": 171,
   "metadata": {
    "vscode": {
     "languageId": "python"
    }
   },
   "outputs": [],
   "source": [
    "pitches = registered.loc[registered['Agenda Item Name'].str.contains('Pitch'), :]"
   ]
  },
  {
   "cell_type": "markdown",
   "metadata": {},
   "source": [
    "We need to extract out the publisher name from the Agenda Item Name column"
   ]
  },
  {
   "cell_type": "code",
   "execution_count": 172,
   "metadata": {
    "vscode": {
     "languageId": "python"
    }
   },
   "outputs": [
    {
     "name": "stderr",
     "output_type": "stream",
     "text": [
      "<positron-console-cell-172>:2: SettingWithCopyWarning: \n",
      "A value is trying to be set on a copy of a slice from a DataFrame.\n",
      "Try using .loc[row_indexer,col_indexer] = value instead\n",
      "\n",
      "See the caveats in the documentation: https://pandas.pydata.org/pandas-docs/stable/user_guide/indexing.html#returning-a-view-versus-a-copy\n"
     ]
    }
   ],
   "source": [
    "import re\n",
    "pitches['pubname'] = pitches['Agenda Item Name'].str.replace(\"Pitch [A-Z] with \", \"\", regex=True)\n",
    "pitch = pitches[['Email', 'pubname']].value_counts().reset_index()"
   ]
  },
  {
   "cell_type": "code",
   "execution_count": 173,
   "metadata": {
    "vscode": {
     "languageId": "python"
    }
   },
   "outputs": [
    {
     "name": "stdout",
     "output_type": "stream",
     "text": [
      "Empty DataFrame\n",
      "Columns: [Email, pubname, count]\n",
      "Index: []\n"
     ]
    }
   ],
   "source": [
    "print(pitch.loc[pitch['count']>1, :])"
   ]
  },
  {
   "cell_type": "markdown",
   "metadata": {},
   "source": [
    "<font color='red'>**NOTE:**</font> In an ideal world, there should be nobody printed above. Everyone should have a count of 1, since they can't meet with and pitch the same publisher multiple times for the same book. However, very, very rarely, someone will want to meet with a publisher twice to pitch them *different* books, so there can be counts of two or more.\n",
    "\n",
    "We always want to confirm this with the participants though, to confirm that the double booking was intentional and not a registration error."
   ]
  },
  {
   "cell_type": "markdown",
   "metadata": {},
   "source": [
    "<font color='blue'>**UPDATE AFTER SPEAKING WITH GEORGE:**</font> This person (tk@tkread.com) DOES want 2 pitches with the same person. She has two different manuscripts to pitch."
   ]
  },
  {
   "cell_type": "markdown",
   "metadata": {},
   "source": [
    "Now that we've checked that, please note that people can sign up for up to three pitches (typically with 3 different agents/editors). We now need to create a combined variable per registrant that has ALL their pitch agents/editors."
   ]
  },
  {
   "cell_type": "code",
   "execution_count": 174,
   "metadata": {
    "vscode": {
     "languageId": "python"
    }
   },
   "outputs": [],
   "source": [
    "pitchA = pitches.loc[pitches['Agenda Item Name'].str.contains(\"Pitch A with \"), ['Email', 'pubname']]\n",
    "pitchB = pitches.loc[pitches['Agenda Item Name'].str.contains(\"Pitch B with \"), ['Email', 'pubname']]\n",
    "pitchC = pitches.loc[pitches['Agenda Item Name'].str.contains(\"Pitch C with \"), ['Email', 'pubname']]\n",
    "\n",
    "pitchA = pitchA.rename(columns={'pubname':'pitchA'})\n",
    "pitchB = pitchB.rename(columns={'pubname':'pitchB'})\n",
    "pitchC = pitchC.rename(columns={'pubname':'pitchC'})"
   ]
  },
  {
   "cell_type": "code",
   "execution_count": 175,
   "metadata": {
    "vscode": {
     "languageId": "python"
    }
   },
   "outputs": [
    {
     "name": "stdout",
     "output_type": "stream",
     "text": [
      "<class 'pandas.core.frame.DataFrame'>\n",
      "RangeIndex: 109 entries, 0 to 108\n",
      "Data columns (total 4 columns):\n",
      " #   Column  Non-Null Count  Dtype \n",
      "---  ------  --------------  ----- \n",
      " 0   Email   109 non-null    object\n",
      " 1   pitchA  73 non-null     object\n",
      " 2   pitchB  71 non-null     object\n",
      " 3   pitchC  60 non-null     object\n",
      "dtypes: object(4)\n",
      "memory usage: 3.5+ KB\n"
     ]
    }
   ],
   "source": [
    "pitch2 = pd.merge(pd.merge(pitchA, pitchB, how='outer', on='Email'), pitchC, how='outer', on='Email')\n",
    "pitch2.info()\n",
    "# Reset anybody with the same values - in our case, we don't want this to happen, since the duplicated person is intentional\n",
    "#pitch2.loc[(pitch2['pitchA'] == pitch2['pitchB']), 'pitchB'] = np.nan\n",
    "#pitch2.loc[(pitch2['pitchA'] == pitch2['pitchC']), 'pitchC'] = np.nan\n",
    "#pitch2.loc[(pitch2['pitchB'] == pitch2['pitchC']), 'pitchC'] = np.nan\n",
    "#pitch2.info()"
   ]
  },
  {
   "cell_type": "markdown",
   "metadata": {},
   "source": [
    "Now let's create a combined variable of everyone's chosen publishers for their pitch."
   ]
  },
  {
   "cell_type": "code",
   "execution_count": 176,
   "metadata": {
    "vscode": {
     "languageId": "python"
    }
   },
   "outputs": [],
   "source": [
    "def combine_variables(row):\n",
    "    return ', '.join(str(x) for x in row.dropna()) #convert to strings, drop Nas, and join.\n",
    "\n",
    "pitch2['pitches_chosen_pubs'] = pitch2[['pitchA', 'pitchB', 'pitchC']].apply(combine_variables, axis=1)"
   ]
  },
  {
   "cell_type": "markdown",
   "metadata": {},
   "source": [
    "Great! Now let's repeat this process for manuscript critiques."
   ]
  },
  {
   "cell_type": "code",
   "execution_count": 177,
   "metadata": {
    "vscode": {
     "languageId": "python"
    }
   },
   "outputs": [],
   "source": [
    "ms = registered.loc[registered['Agenda Item Name'].str.contains('Manuscript'), :]"
   ]
  },
  {
   "cell_type": "code",
   "execution_count": 178,
   "metadata": {
    "vscode": {
     "languageId": "python"
    }
   },
   "outputs": [
    {
     "name": "stderr",
     "output_type": "stream",
     "text": [
      "<positron-console-cell-178>:1: SettingWithCopyWarning: \n",
      "A value is trying to be set on a copy of a slice from a DataFrame.\n",
      "Try using .loc[row_indexer,col_indexer] = value instead\n",
      "\n",
      "See the caveats in the documentation: https://pandas.pydata.org/pandas-docs/stable/user_guide/indexing.html#returning-a-view-versus-a-copy\n"
     ]
    },
    {
     "data": {
      "text/plain": [
       "100"
      ]
     },
     "execution_count": null,
     "metadata": {},
     "output_type": "execute_result"
    }
   ],
   "source": [
    "ms['pubname'] = ms['Agenda Item Name'].str.replace(\"Manuscript Critique [A-Z] with \", \"\", regex=True)\n",
    "manuscript = ms[['Email', 'pubname']].value_counts().reset_index()\n",
    "len(ms['Email'].unique()) == len(manuscript['Email'].unique())\n",
    "len(ms['Email'].unique())"
   ]
  },
  {
   "cell_type": "markdown",
   "metadata": {},
   "source": [
    "Cool. Nobody signed up for duplicate manuscript critiques."
   ]
  },
  {
   "cell_type": "code",
   "execution_count": 179,
   "metadata": {
    "vscode": {
     "languageId": "python"
    }
   },
   "outputs": [],
   "source": [
    "msA = ms.loc[ms['Agenda Item Name'].str.contains(\"Manuscript Critique A with \"), ['Email', 'pubname']]\n",
    "msB = ms.loc[ms['Agenda Item Name'].str.contains(\"Manuscript Critique B with \"), ['Email', 'pubname']]\n",
    "msC = ms.loc[ms['Agenda Item Name'].str.contains(\"Manuscript Critique C with \"), ['Email', 'pubname']]\n",
    "\n",
    "msA = msA.rename(columns={'pubname':'msA'})\n",
    "msB = msB.rename(columns={'pubname':'msB'})\n",
    "msC = msC.rename(columns={'pubname':'msC'})"
   ]
  },
  {
   "cell_type": "code",
   "execution_count": 180,
   "metadata": {
    "vscode": {
     "languageId": "python"
    }
   },
   "outputs": [],
   "source": [
    "manuscript = pd.merge(pd.merge(msA, msB, how='outer', on='Email'), msC, how='outer', on='Email')\n"
   ]
  },
  {
   "cell_type": "code",
   "execution_count": 181,
   "metadata": {
    "vscode": {
     "languageId": "python"
    }
   },
   "outputs": [],
   "source": [
    "manuscript['ms_chosen_pubs'] = manuscript[['msA', 'msB', 'msC']].apply(combine_variables, axis=1)"
   ]
  },
  {
   "cell_type": "code",
   "execution_count": 182,
   "metadata": {
    "vscode": {
     "languageId": "python"
    }
   },
   "outputs": [],
   "source": [
    "del(pitch, pitches)\n",
    "queries = queries.rename(columns={'count': 'num_query_critiques'})"
   ]
  },
  {
   "cell_type": "markdown",
   "metadata": {},
   "source": [
    "Woohoo! Okay, now it's time to merge the pitch and the manuscript info, and then link it back to the query critiques as well, so we have the full list of participants with all of their chosen editors, and whether or not they have any query letter critiques."
   ]
  },
  {
   "cell_type": "code",
   "execution_count": 183,
   "metadata": {
    "vscode": {
     "languageId": "python"
    }
   },
   "outputs": [],
   "source": [
    "merge1 = pd.merge(manuscript, pitch2, how='outer', on='Email')[['Email', 'pitchA', 'pitchB', 'pitchC', 'msA', 'msB', 'msC', 'pitches_chosen_pubs', 'ms_chosen_pubs']]\n",
    "email_set = set(queries['Email'].dropna())\n",
    "merge2 = pd.merge(merge1, queries, how='outer', on='Email')\n",
    "merge2['query_critique'] = merge2['Email'].apply(lambda email: email in email_set if pd.notna(email) else False)"
   ]
  },
  {
   "cell_type": "code",
   "execution_count": 184,
   "metadata": {
    "vscode": {
     "languageId": "python"
    }
   },
   "outputs": [],
   "source": [
    "del(merge1, pitch2, manuscript, queries, room_fr, room_sat, selected_row, email_set, pubtype1, selected_pairs, top_pubname)"
   ]
  },
  {
   "cell_type": "markdown",
   "metadata": {},
   "source": [
    "Perrrfect. Last step is to create a dataset with one row per email, which has their fiction and non-fiction genres, as well as if they're virtual or remote. We'll then join this to our dataset above."
   ]
  },
  {
   "cell_type": "code",
   "execution_count": 185,
   "metadata": {
    "vscode": {
     "languageId": "python"
    }
   },
   "outputs": [],
   "source": [
    "per_registrant = registered.drop_duplicates(subset='Email', keep='first')[['Email', 'Virtual', 'Fiction genre', 'Nonfiction genre', 'datetime']]\n",
    "per_registrant['Virtual'] = per_registrant['Virtual'].replace(['Virtually via Zoom (only available for query letter critiques, manuscript sample critiques, and pitches)', 'In person at the conference hotel'],\n",
    "                                                              ['Virtual', 'In person'])"
   ]
  },
  {
   "cell_type": "code",
   "execution_count": 186,
   "metadata": {
    "vscode": {
     "languageId": "python"
    }
   },
   "outputs": [
    {
     "name": "stdout",
     "output_type": "stream",
     "text": [
      "Virtual\n",
      "In person                                                      150\n",
      "Virtual                                                         20\n",
      "Only doing the pre-conference edit (which will be by email)      1\n",
      "Name: count, dtype: int64\n"
     ]
    }
   ],
   "source": [
    "print(per_registrant['Virtual'].value_counts())"
   ]
  },
  {
   "cell_type": "markdown",
   "metadata": {},
   "source": [
    "Now we'll rename the Email Address to Email, and then we'll merge the dataframes to get one big one with all participants who registered for any of the three main activities: query letter critiques, manuscripts, or pitches."
   ]
  },
  {
   "cell_type": "code",
   "execution_count": 187,
   "metadata": {
    "vscode": {
     "languageId": "python"
    }
   },
   "outputs": [],
   "source": [
    "per_registrant2 = pd.merge(per_registrant, merge2, how='outer', on='Email')"
   ]
  },
  {
   "cell_type": "markdown",
   "metadata": {},
   "source": [
    "#### Create 3 different datasets: one per query letter critiques, MS critiques, and pitches\n",
    "Before doing any scheduling, we need to create 3 different datasets for these three different activities, so we can easily schedule them below in their respective sections."
   ]
  },
  {
   "cell_type": "code",
   "execution_count": 188,
   "metadata": {
    "vscode": {
     "languageId": "python"
    }
   },
   "outputs": [],
   "source": [
    "ms_critiques = per_registrant2.loc[pd.notna(per_registrant2['ms_chosen_pubs']), ['Email', 'Virtual', 'ms_chosen_pubs', 'msA', 'msB', 'msC']]"
   ]
  },
  {
   "cell_type": "code",
   "execution_count": 189,
   "metadata": {
    "vscode": {
     "languageId": "python"
    }
   },
   "outputs": [],
   "source": [
    "pitches = per_registrant2.loc[pd.notna(per_registrant2['pitches_chosen_pubs']), ['Email', 'Virtual', 'pitches_chosen_pubs', 'pitchA', 'pitchB', 'pitchC']]"
   ]
  },
  {
   "cell_type": "code",
   "execution_count": 190,
   "metadata": {
    "vscode": {
     "languageId": "python"
    }
   },
   "outputs": [],
   "source": [
    "query_critiques = per_registrant2.loc[per_registrant2['query_critique']==True, :]"
   ]
  },
  {
   "cell_type": "code",
   "execution_count": 191,
   "metadata": {
    "vscode": {
     "languageId": "python"
    }
   },
   "outputs": [],
   "source": [
    "del(per_registrant,merge2, df, filtered, check, check2)"
   ]
  },
  {
   "cell_type": "markdown",
   "metadata": {},
   "source": [
    "Lastly, before we finalize this dataset, we also need to account for people who signed up for the Friday workshop from 4-6pm. These people need to be assigned query letter critiques prior to 4pm."
   ]
  },
  {
   "cell_type": "code",
   "execution_count": 192,
   "metadata": {
    "vscode": {
     "languageId": "python"
    }
   },
   "outputs": [
    {
     "name": "stderr",
     "output_type": "stream",
     "text": [
      "<positron-console-cell-192>:2: SettingWithCopyWarning: \n",
      "A value is trying to be set on a copy of a slice from a DataFrame.\n",
      "Try using .loc[row_indexer,col_indexer] = value instead\n",
      "\n",
      "See the caveats in the documentation: https://pandas.pydata.org/pandas-docs/stable/user_guide/indexing.html#returning-a-view-versus-a-copy\n"
     ]
    }
   ],
   "source": [
    "fri_workshop = registered[registered['Agenda Item Name']=='Friday Workshop- Writer Beware: How Writers Can Protect Themselves']\n",
    "query_critiques['Friday_workshop'] = query_critiques['Email'].isin(fri_workshop['Email'])"
   ]
  },
  {
   "cell_type": "markdown",
   "metadata": {},
   "source": [
    "The below will adjust the query manuscripts dataset so that there's as many rows per person as there are counts for them. This way, anyone who signed up for two query critiques will have two rows."
   ]
  },
  {
   "cell_type": "code",
   "execution_count": 193,
   "metadata": {
    "vscode": {
     "languageId": "python"
    }
   },
   "outputs": [],
   "source": [
    "def expand_dataframe(df, id_col, count_col):\n",
    "    rows = []\n",
    "    for _, row in df.iterrows():\n",
    "        count = int(row[count_col])  # Convert float count to integer\n",
    "        for _ in range(count):\n",
    "            rows.append(row.drop(count_col).to_dict())\n",
    "    return pd.DataFrame(rows)\n",
    "\n",
    "expanded_query_critiques = expand_dataframe(query_critiques, 'Email', 'num_query_critiques')\n"
   ]
  },
  {
   "cell_type": "markdown",
   "metadata": {},
   "source": [
    "Final check: are any of the timekeepers doing query critiques?"
   ]
  },
  {
   "cell_type": "code",
   "execution_count": 194,
   "metadata": {
    "vscode": {
     "languageId": "python"
    }
   },
   "outputs": [
    {
     "data": {
      "text/plain": [
       "0"
      ]
     },
     "execution_count": null,
     "metadata": {},
     "output_type": "execute_result"
    }
   ],
   "source": [
    "len(query_critiques.loc[query_critiques['Email'].isin(timekeepers['Email']), :])"
   ]
  },
  {
   "cell_type": "markdown",
   "metadata": {},
   "source": [
    "Sweet! None of our timekeepers are doing query letter critiques, so that makes things easy. That said, we don't have to worry about accounting for them when scheduling the Friday critiques at all then, and it's irrelevant for scheduling for the manuscripts and pitches (for those, we only care that they're serving as timekeepers, but not who they're pitching, etc.)."
   ]
  },
  {
   "cell_type": "markdown",
   "metadata": {},
   "source": [
    "#### Get frequencies of fiction and nonfiction genres among registrants"
   ]
  },
  {
   "cell_type": "markdown",
   "metadata": {},
   "source": [
    "Before we move on to scheduling, there's ONE final step: getting the different combinations of fiction and nonfiction genres among our registrants, to see which are most popular/least popular, so we can do our best to match agent-editor pairings that will meet everyone's needs.\n",
    "\n",
    "We likely won't do much with this information, but it's nice to see."
   ]
  },
  {
   "cell_type": "code",
   "execution_count": 195,
   "metadata": {
    "vscode": {
     "languageId": "python"
    }
   },
   "outputs": [],
   "source": [
    "def count_genres(row):\n",
    "    genres = row['Fiction genre'].split(', ')\n",
    "    unique_genres = set(genres)\n",
    "    for genre in unique_genres:\n",
    "        genre_counts[genre] = genre_counts.get(genre, 0) + 1\n",
    "\n",
    "# Initialize genre_counts\n",
    "genre_counts = {}\n",
    "\n",
    "# Apply the function to each row\n",
    "per_registrant2.apply(count_genres, axis=1)\n",
    "\n",
    "# Convert genre_counts to DataFrame\n",
    "reg_fict_counts = pd.DataFrame(list(genre_counts.items()), columns=['fiction', 'registrant_fiction_counts'])"
   ]
  },
  {
   "cell_type": "code",
   "execution_count": 196,
   "metadata": {
    "vscode": {
     "languageId": "python"
    }
   },
   "outputs": [],
   "source": [
    "del(genre_counts, count_genres)"
   ]
  },
  {
   "cell_type": "code",
   "execution_count": 197,
   "metadata": {
    "vscode": {
     "languageId": "python"
    }
   },
   "outputs": [],
   "source": [
    "def count_genres(row):\n",
    "    genres = row['Nonfiction genre'].split(', ')\n",
    "    unique_genres = set(genres)\n",
    "    for genre in unique_genres:\n",
    "        genre_counts[genre] = genre_counts.get(genre, 0) + 1\n",
    "\n",
    "# Initialize genre_counts\n",
    "genre_counts = {}\n",
    "\n",
    "# Apply the function to each row\n",
    "per_registrant2.apply(count_genres, axis=1)\n",
    "\n",
    "# Convert genre_counts to DataFrame\n",
    "reg_nonfict_counts = pd.DataFrame(list(genre_counts.items()), columns=['nonfiction', 'registrant_nonfiction_counts'])"
   ]
  },
  {
   "cell_type": "markdown",
   "metadata": {},
   "source": [
    "Because of some weirdness with the other writeins (for instance \"Other (please specify): songs, movie and tv scripts\"), there are some nonfiction genres popping up that shouldn't be. We'll filter out anything that isn't our true genre lists."
   ]
  },
  {
   "cell_type": "code",
   "execution_count": 198,
   "metadata": {
    "vscode": {
     "languageId": "python"
    }
   },
   "outputs": [],
   "source": [
    "reg_nonfict_counts = reg_nonfict_counts.loc[reg_nonfict_counts['nonfiction'].isin(nonfict_gen['list_nonfiction']), :]\n",
    "reg_fict_counts = reg_fict_counts.loc[reg_fict_counts['fiction'].isin(fict_gen['fiction_genres']), :]"
   ]
  },
  {
   "cell_type": "markdown",
   "metadata": {},
   "source": [
    "Cool, let's now get expanded counts for each of the types in the cross_pubs listing too, so we can cross-tabulate that with the datasets above."
   ]
  },
  {
   "cell_type": "code",
   "execution_count": 199,
   "metadata": {
    "vscode": {
     "languageId": "python"
    }
   },
   "outputs": [],
   "source": [
    "# Now sure why this is happening, but we need to remove white spaces at teh beginning of the series\n",
    "final_cross_pubs['combined_fiction'] = final_cross_pubs['combined_fiction'].str.lstrip()\n",
    "final_cross_pubs['combined_nonfiction'] = final_cross_pubs['combined_nonfiction'].str.lstrip()"
   ]
  },
  {
   "cell_type": "code",
   "execution_count": 200,
   "metadata": {
    "vscode": {
     "languageId": "python"
    }
   },
   "outputs": [],
   "source": [
    "def count_genres(row):\n",
    "    genres = row['combined_fiction'].split(', ')\n",
    "    unique_genres = set(genres)\n",
    "    for genre in unique_genres:\n",
    "        genre_counts[genre] = genre_counts.get(genre, 0) + 1\n",
    "\n",
    "# Initialize genre_counts\n",
    "genre_counts = {}\n",
    "\n",
    "# Apply the function to each row\n",
    "final_cross_pubs.apply(count_genres, axis=1)\n",
    "\n",
    "# Convert genre_counts to DataFrame\n",
    "fiction_counts = pd.DataFrame(list(genre_counts.items()), columns=['fiction', 'fiction_count'])\n"
   ]
  },
  {
   "cell_type": "code",
   "execution_count": 201,
   "metadata": {
    "vscode": {
     "languageId": "python"
    }
   },
   "outputs": [],
   "source": [
    "del(count_genres, genre_counts, nonfict_gen, fict_gen)"
   ]
  },
  {
   "cell_type": "code",
   "execution_count": 202,
   "metadata": {
    "vscode": {
     "languageId": "python"
    }
   },
   "outputs": [],
   "source": [
    "def count_genres(row):\n",
    "    genres = row['combined_nonfiction'].split(', ')\n",
    "    unique_genres = set(genres)\n",
    "    for genre in unique_genres:\n",
    "        genre_counts[genre] = genre_counts.get(genre, 0) + 1\n",
    "\n",
    "# Initialize genre_counts\n",
    "genre_counts = {}\n",
    "\n",
    "# Apply the function to each row\n",
    "cross_pubs_filtered = final_cross_pubs[final_cross_pubs['combined_nonfiction'].notnull()] \n",
    "cross_pubs_filtered.apply(count_genres, axis=1)\n",
    "\n",
    "# Convert genre_counts to DataFrame\n",
    "nonfiction_counts = pd.DataFrame(list(genre_counts.items()), columns=['nonfiction', 'nonfiction_count'])\n"
   ]
  },
  {
   "cell_type": "markdown",
   "metadata": {},
   "source": [
    "Now let's create a dataset with the participant, as well as publisher-pairing, genre count info."
   ]
  },
  {
   "cell_type": "code",
   "execution_count": 203,
   "metadata": {
    "vscode": {
     "languageId": "python"
    }
   },
   "outputs": [],
   "source": [
    "all_fiction_genre_info = pd.merge(fiction_counts, reg_fict_counts, how='outer', on='fiction')\n",
    "all_nonfiction_genre_info = pd.merge(nonfiction_counts, reg_nonfict_counts, how='outer', on='nonfiction')"
   ]
  },
  {
   "cell_type": "code",
   "execution_count": 204,
   "metadata": {
    "vscode": {
     "languageId": "python"
    }
   },
   "outputs": [],
   "source": [
    "all_fiction_genre_info.to_excel(\"Outputs/Frequencies_fiction.xlsx\", index=False)\n",
    "all_nonfiction_genre_info.to_excel(\"Outputs/Frequencies_nonfiction.xlsx\", index=False)"
   ]
  },
  {
   "cell_type": "markdown",
   "metadata": {},
   "source": [
    "Whew! We're finally done with that. You can manually review the files output above to help figure out the agent-editor pairings, or double check them, or just to see which genres in fiction and nonfiction are really popular. But otherwise, we're good to move on to actually assigning participants to their Friday timeslots."
   ]
  },
  {
   "cell_type": "code",
   "execution_count": 205,
   "metadata": {
    "vscode": {
     "languageId": "python"
    }
   },
   "outputs": [],
   "source": [
    "final_cross_pubs.to_excel(f\"Outputs/Finalized datasets/publisher_pair_rankings_{today}.xlsx\", index=False)"
   ]
  },
  {
   "cell_type": "markdown",
   "metadata": {},
   "source": [
    "#### Assign participants to their Friday timeslots"
   ]
  },
  {
   "cell_type": "markdown",
   "metadata": {},
   "source": [
    "Note that in the prior sections of code, we created:\n",
    "\n",
    "1) The rooms for Friday with the agents/editors assigned to them (final_room_pairings_Friday)\n",
    "2) The list of all time slots and rooms for Friday (tslist_fri)\n",
    "3) The list of all participants who signed up for a query letter critique (expanded_query_critiques), which has multiple rows per person - one for the number of queries they signed up for"
   ]
  },
  {
   "cell_type": "markdown",
   "metadata": {},
   "source": [
    "Before moving on though, let's join #1 and #2."
   ]
  },
  {
   "cell_type": "code",
   "execution_count": 206,
   "metadata": {
    "vscode": {
     "languageId": "python"
    }
   },
   "outputs": [],
   "source": [
    "times_friday = tslist_fri.merge(final_room_pairings_Friday, on=['day', 'room_name'], how='outer').sort_values(['timeslot_start', 'room_name'])"
   ]
  },
  {
   "cell_type": "markdown",
   "metadata": {},
   "source": [
    "Let's also bring in the information on what combined genres those publisher pairings represent"
   ]
  },
  {
   "cell_type": "code",
   "execution_count": 207,
   "metadata": {
    "vscode": {
     "languageId": "python"
    }
   },
   "outputs": [],
   "source": [
    "times_friday2 = times_friday.merge(final_cross_pubs[['pubname1', 'pubname2', 'combined_fiction', 'combined_nonfiction']], on=['pubname1', 'pubname2'], how='inner')"
   ]
  },
  {
   "cell_type": "code",
   "execution_count": 208,
   "metadata": {
    "vscode": {
     "languageId": "python"
    }
   },
   "outputs": [],
   "source": [
    "del(tslist_fri, times_friday, reg_nonfict_counts, reg_fict_counts, result_df, rooms_friday, nonfiction_counts, fiction_counts, all_fiction_genre_info, all_nonfiction_genre_info)"
   ]
  },
  {
   "cell_type": "markdown",
   "metadata": {},
   "source": [
    "Sweet! Now let's begin the assignments.\n",
    "\n",
    "In this section of code, we will assign participants to an agent-editor pairing for whom they're not pitching or doing a manuscript critique for (if any), and that represents at least one of the genres (fiction and/or nonfiction) that the registrant writes in.\n",
    "\n",
    "Note that we will not schedule anyone back-to-back, that we will prioritize virtual people for the first sessions (and prioritize any virtual people to be followed by virtual people), and that we will also prioritize anyone who signed up for the Friday workshop for the earlier sessions."
   ]
  },
  {
   "cell_type": "code",
   "execution_count": 209,
   "metadata": {
    "vscode": {
     "languageId": "python"
    }
   },
   "outputs": [],
   "source": [
    "# First, we need to create lists for anything separated by a comma\n",
    "times_friday2['combined_nonfiction'] = times_friday2['combined_nonfiction'].apply(lambda x: [genre.strip() for genre in x.split(',')] if isinstance(x, str) else [genre.strip() for genre in x] if isinstance(x, list) else [])\n",
    "times_friday2['combined_fiction'] = times_friday2['combined_fiction'].apply(lambda x: [genre.strip() for genre in x.split(',')] if isinstance(x, str) else [genre.strip() for genre in x] if isinstance(x, list) else [])\n",
    "\n",
    "expanded_query_critiques['nonfiction_genre'] = expanded_query_critiques['Nonfiction genre'].apply(lambda x: [genre.strip() for genre in x.split(',')] if isinstance(x, str) else [genre.strip() for genre in x] if isinstance(x, list) else [])\n",
    "expanded_query_critiques['fiction_genre'] = expanded_query_critiques['Fiction genre'].apply(lambda x: [genre.strip() for genre in x.split(',')] if isinstance(x, str) else [genre.strip() for genre in x] if isinstance(x, list) else [])\n",
    "expanded_query_critiques['pitches_chosen_pubs'] = expanded_query_critiques['pitches_chosen_pubs'].apply(lambda x: [genre.strip() for genre in x.split(',')] if isinstance(x, str) else [genre.strip() for genre in x] if isinstance(x, list) else [])\n",
    "expanded_query_critiques['ms_chosen_pubs'] = expanded_query_critiques['ms_chosen_pubs'].apply(lambda x: [genre.strip() for genre in x.split(',')] if isinstance(x, str) else [genre.strip() for genre in x] if isinstance(x, list) else [])\n"
   ]
  },
  {
   "cell_type": "code",
   "execution_count": 210,
   "metadata": {
    "vscode": {
     "languageId": "python"
    }
   },
   "outputs": [],
   "source": [
    "# Combine the publishers into a single list\n",
    "expanded_query_critiques['chosen_pubs'] = expanded_query_critiques['pitches_chosen_pubs'] + expanded_query_critiques['ms_chosen_pubs']"
   ]
  },
  {
   "cell_type": "markdown",
   "metadata": {},
   "source": [
    "Let's save this dataset:"
   ]
  },
  {
   "cell_type": "code",
   "execution_count": 211,
   "metadata": {
    "vscode": {
     "languageId": "python"
    }
   },
   "outputs": [],
   "source": [
    "expanded_query_critiques.to_excel(f\"Outputs/Finalized datasets/Expanded_query_critiques-ds prior to assignment_{today}.xlsx\", \n",
    "                                columns=['Email', 'Virtual', 'pitchA', 'pitchB', 'pitchC', 'msA', 'msB', 'msC', 'pitches_chosen_pubs', 'ms_chosen_pubs', 'query_critique', 'Friday_workshop', 'fiction_genre', 'nonfiction_genre', 'chosen_pubs'], \n",
    "                                index=False)"
   ]
  },
  {
   "cell_type": "markdown",
   "metadata": {},
   "source": [
    "For assignment purposes, we're going to prioritize people according to the following:\n",
    "1) Virtual\n",
    "2) How many publishers they signed up with for manuscript critiques and/or pitches\n",
    "3) Friday workshop attendees\n",
    "4) Registration date "
   ]
  },
  {
   "cell_type": "code",
   "execution_count": 212,
   "metadata": {
    "vscode": {
     "languageId": "python"
    }
   },
   "outputs": [],
   "source": [
    "# Sort participants by prioritization criteria\n",
    "expanded_query_critiques['chosen_pubs_count'] = expanded_query_critiques['chosen_pubs'].apply(len)\n",
    "expanded_query_critiques.sort_values(\n",
    "    by=['Virtual', 'chosen_pubs_count', 'Friday_workshop', 'datetime'],\n",
    "    ascending=[False, False, True, True],\n",
    "    inplace=True\n",
    ")"
   ]
  },
  {
   "cell_type": "code",
   "execution_count": 213,
   "metadata": {
    "vscode": {
     "languageId": "python"
    }
   },
   "outputs": [],
   "source": [
    "# Initialize an assignment dictionary\n",
    "assignments = []\n",
    "\n",
    "# Convert the 'timeslot_start' to datetime variable\n",
    "times_friday2['timeslot_start'] = pd.to_datetime(date_str_fri + ' ' + times_friday2['timeslot_start'].astype(str))\n",
    "\n",
    "# Adjust the times to represent the afternoon (add 12 hours if in AM range)\n",
    "times_friday2['timeslot_start'] = times_friday2['timeslot_start'].apply(\n",
    "    lambda x: x + pd.Timedelta(hours=12) if x.hour < 12 else x\n",
    ")\n",
    "\n",
    "from datetime import timedelta\n"
   ]
  },
  {
   "cell_type": "code",
   "execution_count": 214,
   "metadata": {
    "vscode": {
     "languageId": "python"
    }
   },
   "outputs": [
    {
     "name": "stdout",
     "output_type": "stream",
     "text": [
      "Trying seed: 0\n",
      "Incompatible due to publisher overlap. Participant publishers: {'Paloma Hernando', 'Alexandria Brown', 'Lauren Bieker', 'Foyinsi Adegbonmire', 'Jynastie Wilson'}, Slot publishers: {'Paloma Hernando', 'Jéla Lewter'}\n",
      "Incompatible due to publisher overlap. Participant publishers: {'Paloma Hernando', 'Micah Brocker', 'Jenna Satterthwaite', 'Dianna Vega', 'Vicky Weber', 'Renée Fountain'}, Slot publishers: {'Paloma Hernando', 'Jéla Lewter'}\n",
      "Incompatible due to publisher overlap. Participant publishers: {'Paloma Hernando', 'Micah Brocker', 'Jenna Satterthwaite', 'Dianna Vega', 'Vicky Weber', 'Renée Fountain'}, Slot publishers: {'Paloma Hernando', 'Jéla Lewter'}\n",
      "Incompatible due to publisher overlap. Participant publishers: {'Jéla Lewter', 'Wendy Wong', 'Jenna Satterthwaite', 'Lauren Bieker', 'Vicky Weber', 'Renée Fountain'}, Slot publishers: {'Paloma Hernando', 'Jéla Lewter'}\n",
      "Incompatible due to publisher overlap. Participant publishers: {'Jéla Lewter', 'Wendy Wong', 'Jenna Satterthwaite', 'Lauren Bieker', 'Vicky Weber', 'Renée Fountain'}, Slot publishers: {'Paloma Hernando', 'Jéla Lewter'}\n",
      "Incompatible due to genres.\n",
      "Participant fiction genres: {'Historical'}\n",
      "Publisher fiction genres: {'Literary', 'Science fiction', \"Children's picture/chapter books\", 'LGBTQ+', 'Romance', 'Horror/Supernatural', 'Southern', 'Speculative fiction/myths & fairy tales', 'Young adult', 'Fantasy', 'Graphic novel'}\n",
      "Participant nonfiction genres: {'Business/leadership/law'}\n",
      "Publisher nonfiction genres: set()\n",
      "Incompatible due to genres.\n",
      "Participant fiction genres: {'Historical'}\n",
      "Publisher fiction genres: {'Literary', 'Science fiction', \"Children's picture/chapter books\", 'LGBTQ+', 'Romance', 'Horror/Supernatural', 'Southern', 'Speculative fiction/myths & fairy tales', 'Young adult', 'Fantasy', 'Graphic novel'}\n",
      "Participant nonfiction genres: {'Business/leadership/law'}\n",
      "Publisher nonfiction genres: set()\n",
      "Incompatible due to genres.\n",
      "Participant fiction genres: {'Thriller'}\n",
      "Publisher fiction genres: {'Literary', 'Science fiction', \"Children's picture/chapter books\", 'LGBTQ+', 'Romance', 'Horror/Supernatural', 'Southern', 'Speculative fiction/myths & fairy tales', 'Young adult', 'Fantasy', 'Graphic novel'}\n",
      "Participant nonfiction genres: {''}\n",
      "Publisher nonfiction genres: set()\n",
      "Incompatible due to genres.\n",
      "Participant fiction genres: {'Thriller'}\n",
      "Publisher fiction genres: {'Literary', 'Science fiction', \"Children's picture/chapter books\", 'LGBTQ+', 'Romance', 'Horror/Supernatural', 'Southern', 'Speculative fiction/myths & fairy tales', 'Young adult', 'Fantasy', 'Graphic novel'}\n",
      "Participant nonfiction genres: {''}\n",
      "Publisher nonfiction genres: set()\n",
      "Incompatible due to genres.\n",
      "Participant fiction genres: {'Upmarket commercial/book club', \"Women's\"}\n",
      "Publisher fiction genres: {'Literary', 'Science fiction', \"Children's picture/chapter books\", 'LGBTQ+', 'Romance', 'Horror/Supernatural', 'Southern', 'Speculative fiction/myths & fairy tales', 'Young adult', 'Fantasy', 'Graphic novel'}\n",
      "Participant nonfiction genres: {''}\n",
      "Publisher nonfiction genres: set()\n",
      "Incompatible due to genres.\n",
      "Participant fiction genres: {'Magical realism', 'Christian'}\n",
      "Publisher fiction genres: {'Literary', 'Science fiction', \"Children's picture/chapter books\", 'LGBTQ+', 'Romance', 'Horror/Supernatural', 'Southern', 'Speculative fiction/myths & fairy tales', 'Young adult', 'Fantasy', 'Graphic novel'}\n",
      "Participant nonfiction genres: {''}\n",
      "Publisher nonfiction genres: set()\n",
      "Incompatible due to genres.\n",
      "Participant fiction genres: {'Magical realism', 'Christian'}\n",
      "Publisher fiction genres: {'Literary', 'Science fiction', \"Children's picture/chapter books\", 'LGBTQ+', 'Romance', 'Horror/Supernatural', 'Southern', 'Speculative fiction/myths & fairy tales', 'Young adult', 'Fantasy', 'Graphic novel'}\n",
      "Participant nonfiction genres: {''}\n",
      "Publisher nonfiction genres: set()\n",
      "Incompatible due to genres.\n",
      "Participant fiction genres: {'Suspense', 'Mystery/crime', 'Thriller'}\n",
      "Publisher fiction genres: {'Literary', 'Science fiction', \"Children's picture/chapter books\", 'LGBTQ+', 'Romance', 'Horror/Supernatural', 'Southern', 'Speculative fiction/myths & fairy tales', 'Young adult', 'Fantasy', 'Graphic novel'}\n",
      "Participant nonfiction genres: {'Spiritual/inspirational/religious'}\n",
      "Publisher nonfiction genres: set()\n",
      "Incompatible due to genres.\n",
      "Participant fiction genres: {'Suspense', 'Mystery/crime', 'Thriller'}\n",
      "Publisher fiction genres: {'Literary', 'Science fiction', \"Children's picture/chapter books\", 'LGBTQ+', 'Romance', 'Horror/Supernatural', 'Southern', 'Speculative fiction/myths & fairy tales', 'Young adult', 'Fantasy', 'Graphic novel'}\n",
      "Participant nonfiction genres: {'Spiritual/inspirational/religious'}\n",
      "Publisher nonfiction genres: set()\n",
      "Incompatible due to genres.\n",
      "Participant fiction genres: {''}\n",
      "Publisher fiction genres: {'Literary', 'Science fiction', \"Children's picture/chapter books\", 'LGBTQ+', 'Romance', 'Horror/Supernatural', 'Southern', 'Speculative fiction/myths & fairy tales', 'Young adult', 'Fantasy', 'Graphic novel'}\n",
      "Participant nonfiction genres: {'Memoir'}\n",
      "Publisher nonfiction genres: set()\n",
      "Incompatible due to publisher overlap. Participant publishers: {'Paloma Hernando', 'Micah Brocker', 'Jenna Satterthwaite', 'Dianna Vega', 'Vicky Weber', 'Renée Fountain'}, Slot publishers: {'Foyinsi Adegbonmire', 'Micah Brocker'}\n",
      "Incompatible due to publisher overlap. Participant publishers: {'Paloma Hernando', 'Micah Brocker', 'Jenna Satterthwaite', 'Dianna Vega', 'Vicky Weber', 'Renée Fountain'}, Slot publishers: {'Foyinsi Adegbonmire', 'Micah Brocker'}\n",
      "Incompatible due to publisher overlap. Participant publishers: {'Paloma Hernando', 'Micah Brocker', 'Jenna Satterthwaite', 'Dianna Vega', 'Vicky Weber', 'Renée Fountain'}, Slot publishers: {'Vicky Weber', 'Wendy Wong'}\n",
      "Incompatible due to publisher overlap. Participant publishers: {'Paloma Hernando', 'Micah Brocker', 'Jenna Satterthwaite', 'Dianna Vega', 'Vicky Weber', 'Renée Fountain'}, Slot publishers: {'Vicky Weber', 'Wendy Wong'}\n",
      "Incompatible due to publisher overlap. Participant publishers: {'Jéla Lewter', 'Wendy Wong', 'Jenna Satterthwaite', 'Lauren Bieker', 'Vicky Weber', 'Renée Fountain'}, Slot publishers: {'Vicky Weber', 'Wendy Wong'}\n",
      "Incompatible due to publisher overlap. Participant publishers: {'Nicole Luongo', 'Alexandria Brown', 'Wendy Wong', 'Dianna Vega', 'Grace Gay', 'Kurt Brackob'}, Slot publishers: {'Vicky Weber', 'Wendy Wong'}\n",
      "Incompatible due to publisher overlap. Participant publishers: {'Nicole Luongo', 'Alexandria Brown', 'Wendy Wong', 'Dianna Vega', 'Grace Gay', 'Kurt Brackob'}, Slot publishers: {'Vicky Weber', 'Wendy Wong'}\n",
      "Incompatible due to publisher overlap. Participant publishers: {'Nicole Luongo', 'Jenna Satterthwaite', 'Monica Rae Brown', 'Vicky Weber', 'Foyinsi Adegbonmire', 'Jynastie Wilson'}, Slot publishers: {'Vicky Weber', 'Wendy Wong'}\n",
      "Incompatible due to publisher overlap. Participant publishers: {'Nicole Luongo', 'Jenna Satterthwaite', 'Monica Rae Brown', 'Vicky Weber', 'Foyinsi Adegbonmire', 'Jynastie Wilson'}, Slot publishers: {'Vicky Weber', 'Wendy Wong'}\n",
      "Incompatible due to publisher overlap. Participant publishers: {'Nicole Luongo', 'Alexandria Brown', 'Wendy Wong', 'Dianna Vega', 'Grace Gay'}, Slot publishers: {'Vicky Weber', 'Wendy Wong'}\n",
      "Incompatible due to publisher overlap. Participant publishers: {'Nicole Luongo', 'Alexandria Brown', 'Wendy Wong', 'Dianna Vega', 'Grace Gay'}, Slot publishers: {'Vicky Weber', 'Wendy Wong'}\n",
      "Incompatible due to genres.\n",
      "Participant fiction genres: {'Young adult', 'Middle grade', 'Fantasy', 'Coming-of-age'}\n",
      "Publisher fiction genres: {'Family saga/drama', 'Thriller', 'Literary', 'Suspense', 'Mainstream/commercial', \"Women's\", 'Upmarket commercial/book club', 'LGBTQ+', 'Horror/Supernatural', 'Historical', 'Mystery/crime', 'Southern', 'Speculative fiction/myths & fairy tales'}\n",
      "Participant nonfiction genres: {''}\n",
      "Publisher nonfiction genres: {'Narrative nonfiction/journalism', 'History/biography', 'Pop culture', 'Memoir', \"Women's issues\", 'Essay collection', 'Science'}\n",
      "Incompatible due to genres.\n",
      "Participant fiction genres: {'Young adult', 'Middle grade', 'Fantasy', 'Coming-of-age'}\n",
      "Publisher fiction genres: {'Family saga/drama', 'Thriller', 'Literary', 'Suspense', 'Mainstream/commercial', \"Women's\", 'Upmarket commercial/book club', 'LGBTQ+', 'Horror/Supernatural', 'Historical', 'Mystery/crime', 'Southern', 'Speculative fiction/myths & fairy tales'}\n",
      "Participant nonfiction genres: {''}\n",
      "Publisher nonfiction genres: {'Narrative nonfiction/journalism', 'History/biography', 'Pop culture', 'Memoir', \"Women's issues\", 'Essay collection', 'Science'}\n",
      "Incompatible due to publisher overlap. Participant publishers: {'Paloma Hernando', 'Micah Brocker', 'Jenna Satterthwaite', 'Dianna Vega', 'Vicky Weber', 'Renée Fountain'}, Slot publishers: {'Monica Rae Brown', 'Jenna Satterthwaite'}\n",
      "Incompatible due to publisher overlap. Participant publishers: {'Paloma Hernando', 'Micah Brocker', 'Jenna Satterthwaite', 'Dianna Vega', 'Vicky Weber', 'Renée Fountain'}, Slot publishers: {'Monica Rae Brown', 'Jenna Satterthwaite'}\n",
      "Incompatible due to publisher overlap. Participant publishers: {'Nicole Luongo', 'Jenna Satterthwaite', 'Monica Rae Brown', 'Vicky Weber', 'Foyinsi Adegbonmire', 'Jynastie Wilson'}, Slot publishers: {'Monica Rae Brown', 'Jenna Satterthwaite'}\n",
      "Incompatible due to publisher overlap. Participant publishers: {'Nicole Luongo', 'Jenna Satterthwaite', 'Monica Rae Brown', 'Vicky Weber', 'Foyinsi Adegbonmire', 'Jynastie Wilson'}, Slot publishers: {'Monica Rae Brown', 'Jenna Satterthwaite'}\n",
      "Incompatible due to publisher overlap. Participant publishers: {'Paloma Hernando', 'Micah Brocker', 'Jenna Satterthwaite', 'Dianna Vega', 'Vicky Weber', 'Renée Fountain'}, Slot publishers: {'Jynastie Wilson', 'Dianna Vega'}\n",
      "Incompatible due to publisher overlap. Participant publishers: {'Nicole Luongo', 'Alexandria Brown', 'Wendy Wong', 'Dianna Vega', 'Grace Gay', 'Kurt Brackob'}, Slot publishers: {'Jynastie Wilson', 'Dianna Vega'}\n",
      "Incompatible due to publisher overlap. Participant publishers: {'Nicole Luongo', 'Jenna Satterthwaite', 'Monica Rae Brown', 'Vicky Weber', 'Foyinsi Adegbonmire', 'Jynastie Wilson'}, Slot publishers: {'Jynastie Wilson', 'Dianna Vega'}\n",
      "Incompatible due to publisher overlap. Participant publishers: {'Nicole Luongo', 'Jenna Satterthwaite', 'Monica Rae Brown', 'Vicky Weber', 'Foyinsi Adegbonmire', 'Jynastie Wilson'}, Slot publishers: {'Jynastie Wilson', 'Dianna Vega'}\n",
      "Incompatible due to publisher overlap. Participant publishers: {'Nicole Luongo', 'Alexandria Brown', 'Wendy Wong', 'Dianna Vega', 'Grace Gay'}, Slot publishers: {'Jynastie Wilson', 'Dianna Vega'}\n",
      "Incompatible due to genres.\n",
      "Participant fiction genres: {''}\n",
      "Publisher fiction genres: {'Middle grade', 'Humor', 'Magical realism', 'Thriller', 'Science fiction', 'Mainstream/commercial', \"Women's\", 'Romance', 'LGBTQ+', 'Upmarket commercial/book club', 'Coming-of-age', 'Horror/Supernatural', 'Historical', 'Southern', 'Speculative fiction/myths & fairy tales', 'Young adult', 'Contemporary', 'Fantasy'}\n",
      "Participant nonfiction genres: {'Memoir'}\n",
      "Publisher nonfiction genres: set()\n",
      "Incompatible due to publisher overlap. Participant publishers: {'Nicole Luongo', 'Grace Gay', 'Jéla Lewter', 'Dianna Vega'}, Slot publishers: {'Jynastie Wilson', 'Dianna Vega'}\n",
      "Incompatible due to genres.\n",
      "Participant fiction genres: {''}\n",
      "Publisher fiction genres: {'Middle grade', 'Humor', 'Magical realism', 'Thriller', 'Science fiction', 'Mainstream/commercial', \"Women's\", 'Romance', 'LGBTQ+', 'Upmarket commercial/book club', 'Coming-of-age', 'Horror/Supernatural', 'Historical', 'Southern', 'Speculative fiction/myths & fairy tales', 'Young adult', 'Contemporary', 'Fantasy'}\n",
      "Participant nonfiction genres: {'Narrative nonfiction/journalism', 'Memoir', 'Self-help/relationships', 'Spiritual/inspirational/religious'}\n",
      "Publisher nonfiction genres: set()\n",
      "Incompatible due to genres.\n",
      "Participant fiction genres: {''}\n",
      "Publisher fiction genres: {'Middle grade', 'Humor', 'Magical realism', 'Thriller', 'Science fiction', 'Mainstream/commercial', \"Women's\", 'Romance', 'LGBTQ+', 'Upmarket commercial/book club', 'Coming-of-age', 'Horror/Supernatural', 'Historical', 'Southern', 'Speculative fiction/myths & fairy tales', 'Young adult', 'Contemporary', 'Fantasy'}\n",
      "Participant nonfiction genres: {'Narrative nonfiction/journalism', 'Memoir', 'Self-help/relationships', 'Spiritual/inspirational/religious'}\n",
      "Publisher nonfiction genres: set()\n",
      "Incompatible due to publisher overlap. Participant publishers: {'Lauren Bieker', 'Renée Fountain', 'Jéla Lewter', 'Dianna Vega'}, Slot publishers: {'Jynastie Wilson', 'Dianna Vega'}\n",
      "Incompatible due to publisher overlap. Participant publishers: {'Paloma Hernando', 'Micah Brocker', 'Jenna Satterthwaite', 'Dianna Vega', 'Vicky Weber', 'Renée Fountain'}, Slot publishers: {'Jynastie Wilson', 'Dianna Vega'}\n",
      "Incompatible due to publisher overlap. Participant publishers: {'Nicole Luongo', 'Alexandria Brown', 'Wendy Wong', 'Dianna Vega', 'Grace Gay', 'Kurt Brackob'}, Slot publishers: {'Jynastie Wilson', 'Dianna Vega'}\n",
      "Incompatible due to publisher overlap. Participant publishers: {'Nicole Luongo', 'Jenna Satterthwaite', 'Monica Rae Brown', 'Vicky Weber', 'Foyinsi Adegbonmire', 'Jynastie Wilson'}, Slot publishers: {'Jynastie Wilson', 'Dianna Vega'}\n",
      "Incompatible due to publisher overlap. Participant publishers: {'Nicole Luongo', 'Jenna Satterthwaite', 'Monica Rae Brown', 'Vicky Weber', 'Foyinsi Adegbonmire', 'Jynastie Wilson'}, Slot publishers: {'Jynastie Wilson', 'Dianna Vega'}\n",
      "Incompatible due to publisher overlap. Participant publishers: {'Nicole Luongo', 'Alexandria Brown', 'Wendy Wong', 'Dianna Vega', 'Grace Gay'}, Slot publishers: {'Jynastie Wilson', 'Dianna Vega'}\n",
      "Incompatible due to publisher overlap. Participant publishers: {'Paloma Hernando', 'Micah Brocker', 'Jenna Satterthwaite', 'Dianna Vega', 'Vicky Weber', 'Renée Fountain'}, Slot publishers: {'Alexandria Brown', 'Renée Fountain'}\n",
      "Incompatible due to publisher overlap. Participant publishers: {'Nicole Luongo', 'Alexandria Brown', 'Wendy Wong', 'Dianna Vega', 'Grace Gay', 'Kurt Brackob'}, Slot publishers: {'Alexandria Brown', 'Renée Fountain'}\n",
      "Incompatible due to publisher overlap. Participant publishers: {'Nicole Luongo', 'Alexandria Brown', 'Wendy Wong', 'Dianna Vega', 'Grace Gay', 'Kurt Brackob'}, Slot publishers: {'Vicky Weber', 'Wendy Wong'}\n",
      "Incompatible due to publisher overlap. Participant publishers: {'Nicole Luongo', 'Jenna Satterthwaite', 'Monica Rae Brown', 'Vicky Weber', 'Foyinsi Adegbonmire', 'Jynastie Wilson'}, Slot publishers: {'Vicky Weber', 'Wendy Wong'}\n",
      "Incompatible due to publisher overlap. Participant publishers: {'Nicole Luongo', 'Alexandria Brown', 'Wendy Wong', 'Dianna Vega', 'Grace Gay'}, Slot publishers: {'Vicky Weber', 'Wendy Wong'}\n",
      "Incompatible due to publisher overlap. Participant publishers: {'Nicole Luongo', 'Wendy Wong', 'Vicky Weber', 'Kurt Brackob', 'Renée Fountain'}, Slot publishers: {'Vicky Weber', 'Wendy Wong'}\n",
      "Incompatible due to publisher overlap. Participant publishers: {'Nicole Luongo', 'Wendy Wong', 'Vicky Weber', 'Kurt Brackob', 'Renée Fountain'}, Slot publishers: {'Vicky Weber', 'Wendy Wong'}\n",
      "Incompatible due to publisher overlap. Participant publishers: {'Jake Lovell', 'Micah Brocker', 'Alexandria Brown', 'Vicky Weber', 'Foyinsi Adegbonmire'}, Slot publishers: {'Vicky Weber', 'Wendy Wong'}\n",
      "Incompatible due to publisher overlap. Participant publishers: {'Jake Lovell', 'Micah Brocker', 'Alexandria Brown', 'Vicky Weber', 'Foyinsi Adegbonmire'}, Slot publishers: {'Vicky Weber', 'Wendy Wong'}\n",
      "Incompatible due to publisher overlap. Participant publishers: {'Kurt Brackob', 'Vicky Weber', 'Grace Gay', 'Jenna Satterthwaite'}, Slot publishers: {'Vicky Weber', 'Wendy Wong'}\n",
      "Incompatible due to publisher overlap. Participant publishers: {'Nicole Luongo', 'Alexandria Brown', 'Wendy Wong', 'Dianna Vega', 'Grace Gay', 'Kurt Brackob'}, Slot publishers: {'Alexandria Brown', 'Renée Fountain'}\n",
      "Incompatible due to publisher overlap. Participant publishers: {'Nicole Luongo', 'Alexandria Brown', 'Wendy Wong', 'Dianna Vega', 'Grace Gay'}, Slot publishers: {'Alexandria Brown', 'Renée Fountain'}\n",
      "Incompatible due to genres.\n",
      "Participant fiction genres: {'Magical realism', 'Christian'}\n",
      "Publisher fiction genres: {'Family saga/drama', 'Humor', 'Thriller', 'Suspense', 'Mainstream/commercial', \"Women's\", 'Romance', 'LGBTQ+', 'Upmarket commercial/book club', 'Coming-of-age', 'Horror/Supernatural', 'Mystery/crime', 'Speculative fiction/myths & fairy tales', 'Young adult', 'Contemporary', 'Fantasy'}\n",
      "Participant nonfiction genres: {''}\n",
      "Publisher nonfiction genres: {'Humor', 'Current events/politics/social commentary', 'Narrative nonfiction/journalism', 'Memoir', 'Pop culture', \"Women's issues\", 'Spiritual/inspirational/religious', 'Essay collection', 'Self-help/relationships', 'Sports', 'Business/leadership/law', 'Science', 'True crime'}\n",
      "Incompatible due to genres.\n",
      "Participant fiction genres: {'Magical realism', 'Christian'}\n",
      "Publisher fiction genres: {'Family saga/drama', 'Humor', 'Thriller', 'Suspense', 'Mainstream/commercial', \"Women's\", 'Romance', 'LGBTQ+', 'Upmarket commercial/book club', 'Coming-of-age', 'Horror/Supernatural', 'Mystery/crime', 'Speculative fiction/myths & fairy tales', 'Young adult', 'Contemporary', 'Fantasy'}\n",
      "Participant nonfiction genres: {''}\n",
      "Publisher nonfiction genres: {'Humor', 'Current events/politics/social commentary', 'Narrative nonfiction/journalism', 'Memoir', 'Pop culture', \"Women's issues\", 'Spiritual/inspirational/religious', 'Essay collection', 'Self-help/relationships', 'Sports', 'Business/leadership/law', 'Science', 'True crime'}\n",
      "Incompatible due to publisher overlap. Participant publishers: {'Jake Lovell', 'Micah Brocker', 'Alexandria Brown', 'Vicky Weber', 'Foyinsi Adegbonmire'}, Slot publishers: {'Alexandria Brown', 'Renée Fountain'}\n",
      "Incompatible due to publisher overlap. Participant publishers: {'Jake Lovell', 'Micah Brocker', 'Alexandria Brown', 'Vicky Weber', 'Foyinsi Adegbonmire'}, Slot publishers: {'Alexandria Brown', 'Renée Fountain'}\n",
      "Incompatible due to genres.\n",
      "Participant fiction genres: {'Magical realism', 'Christian'}\n",
      "Publisher fiction genres: {'Family saga/drama', 'Humor', 'Thriller', 'Suspense', 'Mainstream/commercial', \"Women's\", 'Romance', 'LGBTQ+', 'Upmarket commercial/book club', 'Coming-of-age', 'Horror/Supernatural', 'Mystery/crime', 'Speculative fiction/myths & fairy tales', 'Young adult', 'Contemporary', 'Fantasy'}\n",
      "Participant nonfiction genres: {''}\n",
      "Publisher nonfiction genres: {'Humor', 'Current events/politics/social commentary', 'Narrative nonfiction/journalism', 'Memoir', 'Pop culture', \"Women's issues\", 'Spiritual/inspirational/religious', 'Essay collection', 'Self-help/relationships', 'Sports', 'Business/leadership/law', 'Science', 'True crime'}\n",
      "Incompatible due to genres.\n",
      "Participant fiction genres: {'Magical realism', 'Christian'}\n",
      "Publisher fiction genres: {'Family saga/drama', 'Humor', 'Thriller', 'Suspense', 'Mainstream/commercial', \"Women's\", 'Romance', 'LGBTQ+', 'Upmarket commercial/book club', 'Coming-of-age', 'Horror/Supernatural', 'Mystery/crime', 'Speculative fiction/myths & fairy tales', 'Young adult', 'Contemporary', 'Fantasy'}\n",
      "Participant nonfiction genres: {''}\n",
      "Publisher nonfiction genres: {'Humor', 'Current events/politics/social commentary', 'Narrative nonfiction/journalism', 'Memoir', 'Pop culture', \"Women's issues\", 'Spiritual/inspirational/religious', 'Essay collection', 'Self-help/relationships', 'Sports', 'Business/leadership/law', 'Science', 'True crime'}\n",
      "Incompatible due to publisher overlap. Participant publishers: {'Jake Lovell', 'Micah Brocker', 'Alexandria Brown', 'Vicky Weber', 'Foyinsi Adegbonmire'}, Slot publishers: {'Alexandria Brown', 'Renée Fountain'}\n",
      "Incompatible due to publisher overlap. Participant publishers: {'Jake Lovell', 'Micah Brocker', 'Alexandria Brown', 'Vicky Weber', 'Foyinsi Adegbonmire'}, Slot publishers: {'Alexandria Brown', 'Renée Fountain'}\n",
      "Incompatible due to publisher overlap. Participant publishers: {'Monica Rae Brown', 'Kurt Brackob', 'Alexandria Brown', 'Renée Fountain'}, Slot publishers: {'Alexandria Brown', 'Renée Fountain'}\n",
      "Incompatible due to publisher overlap. Participant publishers: {'Monica Rae Brown', 'Kurt Brackob', 'Alexandria Brown', 'Renée Fountain'}, Slot publishers: {'Alexandria Brown', 'Renée Fountain'}\n",
      "Incompatible due to publisher overlap. Participant publishers: {'Nicole Luongo', 'Alexandria Brown', 'Wendy Wong', 'Dianna Vega', 'Grace Gay'}, Slot publishers: {'Jake Lovell', 'Grace Gay'}\n",
      "Incompatible due to genres.\n",
      "Participant fiction genres: {'Magical realism', 'Christian'}\n",
      "Publisher fiction genres: {'Family saga/drama', 'Thriller', 'Literary', 'Suspense', 'Mainstream/commercial', \"Women's\", 'Upmarket commercial/book club', 'LGBTQ+', 'Horror/Supernatural', 'Historical', 'Mystery/crime', 'Southern', 'Speculative fiction/myths & fairy tales'}\n",
      "Participant nonfiction genres: {''}\n",
      "Publisher nonfiction genres: {'Narrative nonfiction/journalism', 'History/biography', 'Pop culture', 'Memoir', \"Women's issues\", 'Essay collection', 'Science'}\n",
      "Incompatible due to genres.\n",
      "Participant fiction genres: {'Magical realism', 'Christian'}\n",
      "Publisher fiction genres: {'Family saga/drama', 'Thriller', 'Literary', 'Suspense', 'Mainstream/commercial', \"Women's\", 'Upmarket commercial/book club', 'LGBTQ+', 'Horror/Supernatural', 'Historical', 'Mystery/crime', 'Southern', 'Speculative fiction/myths & fairy tales'}\n",
      "Participant nonfiction genres: {''}\n",
      "Publisher nonfiction genres: {'Narrative nonfiction/journalism', 'History/biography', 'Pop culture', 'Memoir', \"Women's issues\", 'Essay collection', 'Science'}\n",
      "Incompatible due to publisher overlap. Participant publishers: {'Jake Lovell', 'Micah Brocker', 'Alexandria Brown', 'Vicky Weber', 'Foyinsi Adegbonmire'}, Slot publishers: {'Jake Lovell', 'Grace Gay'}\n",
      "Incompatible due to publisher overlap. Participant publishers: {'Jake Lovell', 'Micah Brocker', 'Alexandria Brown', 'Vicky Weber', 'Foyinsi Adegbonmire'}, Slot publishers: {'Jake Lovell', 'Grace Gay'}\n",
      "Incompatible due to publisher overlap. Participant publishers: {'Monica Rae Brown', 'Kurt Brackob', 'Grace Gay', 'Jenna Satterthwaite'}, Slot publishers: {'Jake Lovell', 'Grace Gay'}\n",
      "Incompatible due to genres.\n",
      "Participant fiction genres: {'Fantasy'}\n",
      "Publisher fiction genres: {'Family saga/drama', 'Thriller', 'Literary', 'Suspense', 'Mainstream/commercial', \"Women's\", 'Upmarket commercial/book club', 'LGBTQ+', 'Horror/Supernatural', 'Historical', 'Mystery/crime', 'Southern', 'Speculative fiction/myths & fairy tales'}\n",
      "Participant nonfiction genres: {''}\n",
      "Publisher nonfiction genres: {'Narrative nonfiction/journalism', 'History/biography', 'Pop culture', 'Memoir', \"Women's issues\", 'Essay collection', 'Science'}\n",
      "Incompatible due to publisher overlap. Participant publishers: {'Monica Rae Brown', 'Jake Lovell', 'Joëlle Delbourgo', 'Micah Brocker'}, Slot publishers: {'Jake Lovell', 'Grace Gay'}\n",
      "Incompatible due to publisher overlap. Participant publishers: {'Monica Rae Brown', 'Jake Lovell', 'Micah Brocker', 'Jéla Lewter'}, Slot publishers: {'Jake Lovell', 'Grace Gay'}\n",
      "Incompatible due to genres.\n",
      "Participant fiction genres: {'Science fiction', 'Fantasy'}\n",
      "Publisher fiction genres: {'Family saga/drama', 'Thriller', 'Literary', 'Suspense', 'Mainstream/commercial', \"Women's\", 'Upmarket commercial/book club', 'LGBTQ+', 'Horror/Supernatural', 'Historical', 'Mystery/crime', 'Southern', 'Speculative fiction/myths & fairy tales'}\n",
      "Participant nonfiction genres: {''}\n",
      "Publisher nonfiction genres: {'Narrative nonfiction/journalism', 'History/biography', 'Pop culture', 'Memoir', \"Women's issues\", 'Essay collection', 'Science'}\n",
      "Incompatible due to genres.\n",
      "Participant fiction genres: {'Science fiction', 'Fantasy'}\n",
      "Publisher fiction genres: {'Family saga/drama', 'Thriller', 'Literary', 'Suspense', 'Mainstream/commercial', \"Women's\", 'Upmarket commercial/book club', 'LGBTQ+', 'Horror/Supernatural', 'Historical', 'Mystery/crime', 'Southern', 'Speculative fiction/myths & fairy tales'}\n",
      "Participant nonfiction genres: {''}\n",
      "Publisher nonfiction genres: {'Narrative nonfiction/journalism', 'History/biography', 'Pop culture', 'Memoir', \"Women's issues\", 'Essay collection', 'Science'}\n",
      "Incompatible due to publisher overlap. Participant publishers: {'Kurt Brackob', 'Jake Lovell', 'Alexandria Brown'}, Slot publishers: {'Jake Lovell', 'Grace Gay'}\n",
      "Incompatible due to publisher overlap. Participant publishers: {'Kurt Brackob', 'Jake Lovell', 'Alexandria Brown'}, Slot publishers: {'Jake Lovell', 'Grace Gay'}\n",
      "Incompatible due to genres.\n",
      "Participant fiction genres: {'Middle grade', 'Fantasy'}\n",
      "Publisher fiction genres: {'Family saga/drama', 'Thriller', 'Literary', 'Suspense', 'Mainstream/commercial', \"Women's\", 'Upmarket commercial/book club', 'LGBTQ+', 'Horror/Supernatural', 'Historical', 'Mystery/crime', 'Southern', 'Speculative fiction/myths & fairy tales'}\n",
      "Participant nonfiction genres: {''}\n",
      "Publisher nonfiction genres: {'Narrative nonfiction/journalism', 'History/biography', 'Pop culture', 'Memoir', \"Women's issues\", 'Essay collection', 'Science'}\n",
      "Incompatible due to publisher overlap. Participant publishers: {'Nicole Luongo', 'Alexandria Brown', 'Wendy Wong', 'Dianna Vega', 'Grace Gay'}, Slot publishers: {'Alexandria Brown', 'Renée Fountain'}\n",
      "Incompatible due to genres.\n",
      "Participant fiction genres: {'Magical realism', 'Christian'}\n",
      "Publisher fiction genres: {'Family saga/drama', 'Humor', 'Thriller', 'Suspense', 'Mainstream/commercial', \"Women's\", 'Romance', 'LGBTQ+', 'Upmarket commercial/book club', 'Coming-of-age', 'Horror/Supernatural', 'Mystery/crime', 'Speculative fiction/myths & fairy tales', 'Young adult', 'Contemporary', 'Fantasy'}\n",
      "Participant nonfiction genres: {''}\n",
      "Publisher nonfiction genres: {'Humor', 'Current events/politics/social commentary', 'Narrative nonfiction/journalism', 'Memoir', 'Pop culture', \"Women's issues\", 'Spiritual/inspirational/religious', 'Essay collection', 'Self-help/relationships', 'Sports', 'Business/leadership/law', 'Science', 'True crime'}\n",
      "Incompatible due to genres.\n",
      "Participant fiction genres: {'Magical realism', 'Christian'}\n",
      "Publisher fiction genres: {'Family saga/drama', 'Humor', 'Thriller', 'Suspense', 'Mainstream/commercial', \"Women's\", 'Romance', 'LGBTQ+', 'Upmarket commercial/book club', 'Coming-of-age', 'Horror/Supernatural', 'Mystery/crime', 'Speculative fiction/myths & fairy tales', 'Young adult', 'Contemporary', 'Fantasy'}\n",
      "Participant nonfiction genres: {''}\n",
      "Publisher nonfiction genres: {'Humor', 'Current events/politics/social commentary', 'Narrative nonfiction/journalism', 'Memoir', 'Pop culture', \"Women's issues\", 'Spiritual/inspirational/religious', 'Essay collection', 'Self-help/relationships', 'Sports', 'Business/leadership/law', 'Science', 'True crime'}\n",
      "Incompatible due to publisher overlap. Participant publishers: {'Jake Lovell', 'Micah Brocker', 'Alexandria Brown', 'Vicky Weber', 'Foyinsi Adegbonmire'}, Slot publishers: {'Alexandria Brown', 'Renée Fountain'}\n",
      "Incompatible due to publisher overlap. Participant publishers: {'Jake Lovell', 'Micah Brocker', 'Alexandria Brown', 'Vicky Weber', 'Foyinsi Adegbonmire'}, Slot publishers: {'Alexandria Brown', 'Renée Fountain'}\n",
      "Incompatible due to publisher overlap. Participant publishers: {'Monica Rae Brown', 'Kurt Brackob', 'Alexandria Brown', 'Renée Fountain'}, Slot publishers: {'Alexandria Brown', 'Renée Fountain'}\n",
      "Incompatible due to publisher overlap. Participant publishers: {'Monica Rae Brown', 'Kurt Brackob', 'Alexandria Brown', 'Renée Fountain'}, Slot publishers: {'Alexandria Brown', 'Renée Fountain'}\n",
      "Incompatible due to publisher overlap. Participant publishers: {'Vicky Weber', 'Renée Fountain', 'Jéla Lewter', 'Jenna Satterthwaite'}, Slot publishers: {'Alexandria Brown', 'Renée Fountain'}\n",
      "Incompatible due to publisher overlap. Participant publishers: {'Lauren Bieker', 'Renée Fountain', 'Jéla Lewter', 'Dianna Vega'}, Slot publishers: {'Alexandria Brown', 'Renée Fountain'}\n",
      "Incompatible due to publisher overlap. Participant publishers: {'Nicole Luongo', 'Vicky Weber', 'Alexandria Brown', 'Wendy Wong'}, Slot publishers: {'Alexandria Brown', 'Renée Fountain'}\n",
      "Incompatible due to publisher overlap. Participant publishers: {'Nicole Luongo', 'Vicky Weber', 'Alexandria Brown', 'Wendy Wong'}, Slot publishers: {'Alexandria Brown', 'Renée Fountain'}\n",
      "Incompatible due to publisher overlap. Participant publishers: {'Kurt Brackob', 'Jake Lovell', 'Alexandria Brown'}, Slot publishers: {'Alexandria Brown', 'Renée Fountain'}\n",
      "Incompatible due to publisher overlap. Participant publishers: {'Kurt Brackob', 'Jake Lovell', 'Alexandria Brown'}, Slot publishers: {'Alexandria Brown', 'Renée Fountain'}\n",
      "Incompatible due to publisher overlap. Participant publishers: {'Wendy Wong', 'Renée Fountain', 'Joëlle Delbourgo'}, Slot publishers: {'Alexandria Brown', 'Renée Fountain'}\n",
      "Incompatible due to publisher overlap. Participant publishers: {'Wendy Wong', 'Renée Fountain', 'Joëlle Delbourgo'}, Slot publishers: {'Alexandria Brown', 'Renée Fountain'}\n",
      "Incompatible due to publisher overlap. Participant publishers: {'Nicole Luongo', 'Alexandria Brown', 'Wendy Wong', 'Dianna Vega', 'Grace Gay'}, Slot publishers: {'Alexandria Brown', 'Renée Fountain'}\n",
      "Incompatible due to genres.\n",
      "Participant fiction genres: {'Magical realism', 'Christian'}\n",
      "Publisher fiction genres: {'Family saga/drama', 'Humor', 'Thriller', 'Suspense', 'Mainstream/commercial', \"Women's\", 'Romance', 'LGBTQ+', 'Upmarket commercial/book club', 'Coming-of-age', 'Horror/Supernatural', 'Mystery/crime', 'Speculative fiction/myths & fairy tales', 'Young adult', 'Contemporary', 'Fantasy'}\n",
      "Participant nonfiction genres: {''}\n",
      "Publisher nonfiction genres: {'Humor', 'Current events/politics/social commentary', 'Narrative nonfiction/journalism', 'Memoir', 'Pop culture', \"Women's issues\", 'Spiritual/inspirational/religious', 'Essay collection', 'Self-help/relationships', 'Sports', 'Business/leadership/law', 'Science', 'True crime'}\n",
      "Incompatible due to genres.\n",
      "Participant fiction genres: {'Magical realism', 'Christian'}\n",
      "Publisher fiction genres: {'Family saga/drama', 'Humor', 'Thriller', 'Suspense', 'Mainstream/commercial', \"Women's\", 'Romance', 'LGBTQ+', 'Upmarket commercial/book club', 'Coming-of-age', 'Horror/Supernatural', 'Mystery/crime', 'Speculative fiction/myths & fairy tales', 'Young adult', 'Contemporary', 'Fantasy'}\n",
      "Participant nonfiction genres: {''}\n",
      "Publisher nonfiction genres: {'Humor', 'Current events/politics/social commentary', 'Narrative nonfiction/journalism', 'Memoir', 'Pop culture', \"Women's issues\", 'Spiritual/inspirational/religious', 'Essay collection', 'Self-help/relationships', 'Sports', 'Business/leadership/law', 'Science', 'True crime'}\n",
      "Incompatible due to publisher overlap. Participant publishers: {'Jake Lovell', 'Micah Brocker', 'Alexandria Brown', 'Vicky Weber', 'Foyinsi Adegbonmire'}, Slot publishers: {'Alexandria Brown', 'Renée Fountain'}\n",
      "Incompatible due to publisher overlap. Participant publishers: {'Jake Lovell', 'Micah Brocker', 'Alexandria Brown', 'Vicky Weber', 'Foyinsi Adegbonmire'}, Slot publishers: {'Alexandria Brown', 'Renée Fountain'}\n",
      "Incompatible due to publisher overlap. Participant publishers: {'Monica Rae Brown', 'Kurt Brackob', 'Alexandria Brown', 'Renée Fountain'}, Slot publishers: {'Alexandria Brown', 'Renée Fountain'}\n",
      "Incompatible due to publisher overlap. Participant publishers: {'Monica Rae Brown', 'Kurt Brackob', 'Alexandria Brown', 'Renée Fountain'}, Slot publishers: {'Alexandria Brown', 'Renée Fountain'}\n",
      "Incompatible due to publisher overlap. Participant publishers: {'Vicky Weber', 'Renée Fountain', 'Jéla Lewter', 'Jenna Satterthwaite'}, Slot publishers: {'Alexandria Brown', 'Renée Fountain'}\n",
      "Incompatible due to publisher overlap. Participant publishers: {'Lauren Bieker', 'Renée Fountain', 'Jéla Lewter', 'Dianna Vega'}, Slot publishers: {'Alexandria Brown', 'Renée Fountain'}\n",
      "Incompatible due to publisher overlap. Participant publishers: {'Nicole Luongo', 'Vicky Weber', 'Alexandria Brown', 'Wendy Wong'}, Slot publishers: {'Alexandria Brown', 'Renée Fountain'}\n",
      "Incompatible due to publisher overlap. Participant publishers: {'Nicole Luongo', 'Vicky Weber', 'Alexandria Brown', 'Wendy Wong'}, Slot publishers: {'Alexandria Brown', 'Renée Fountain'}\n",
      "Incompatible due to publisher overlap. Participant publishers: {'Kurt Brackob', 'Jake Lovell', 'Alexandria Brown'}, Slot publishers: {'Alexandria Brown', 'Renée Fountain'}\n",
      "Incompatible due to publisher overlap. Participant publishers: {'Kurt Brackob', 'Jake Lovell', 'Alexandria Brown'}, Slot publishers: {'Alexandria Brown', 'Renée Fountain'}\n",
      "Incompatible due to publisher overlap. Participant publishers: {'Wendy Wong', 'Renée Fountain', 'Joëlle Delbourgo'}, Slot publishers: {'Alexandria Brown', 'Renée Fountain'}\n",
      "Incompatible due to publisher overlap. Participant publishers: {'Wendy Wong', 'Renée Fountain', 'Joëlle Delbourgo'}, Slot publishers: {'Alexandria Brown', 'Renée Fountain'}\n",
      "Incompatible due to genres.\n",
      "Participant fiction genres: {'Magical realism', 'Christian'}\n",
      "Publisher fiction genres: {'Family saga/drama', 'Science fiction', 'Mystery/crime', 'Humor', 'Thriller', \"Women's\", 'Upmarket commercial/book club', 'Historical', 'Fantasy', 'Mainstream/commercial', 'Romance', 'Coming-of-age', 'Horror/Supernatural', 'Speculative fiction/myths & fairy tales', 'Young adult', 'Contemporary', 'Middle grade', 'Suspense', 'LGBTQ+'}\n",
      "Participant nonfiction genres: {''}\n",
      "Publisher nonfiction genres: {'Pop culture', 'Humor', 'Memoir', \"Women's issues\"}\n",
      "Incompatible due to genres.\n",
      "Participant fiction genres: {'Magical realism', 'Christian'}\n",
      "Publisher fiction genres: {'Family saga/drama', 'Science fiction', 'Mystery/crime', 'Humor', 'Thriller', \"Women's\", 'Upmarket commercial/book club', 'Historical', 'Fantasy', 'Mainstream/commercial', 'Romance', 'Coming-of-age', 'Horror/Supernatural', 'Speculative fiction/myths & fairy tales', 'Young adult', 'Contemporary', 'Middle grade', 'Suspense', 'LGBTQ+'}\n",
      "Participant nonfiction genres: {''}\n",
      "Publisher nonfiction genres: {'Pop culture', 'Humor', 'Memoir', \"Women's issues\"}\n",
      "Incompatible due to genres.\n",
      "Participant fiction genres: {'Magical realism', 'Christian'}\n",
      "Publisher fiction genres: {'Family saga/drama', 'Science fiction', 'Mystery/crime', 'Humor', 'Thriller', \"Women's\", 'Upmarket commercial/book club', 'Historical', 'Fantasy', 'Mainstream/commercial', 'Romance', 'Coming-of-age', 'Horror/Supernatural', 'Speculative fiction/myths & fairy tales', 'Young adult', 'Contemporary', 'Middle grade', 'Suspense', 'LGBTQ+'}\n",
      "Participant nonfiction genres: {''}\n",
      "Publisher nonfiction genres: {'Pop culture', 'Humor', 'Memoir', \"Women's issues\"}\n",
      "Incompatible due to genres.\n",
      "Participant fiction genres: {'Magical realism', 'Christian'}\n",
      "Publisher fiction genres: {'Family saga/drama', 'Science fiction', 'Mystery/crime', 'Humor', 'Thriller', \"Women's\", 'Upmarket commercial/book club', 'Historical', 'Fantasy', 'Mainstream/commercial', 'Romance', 'Coming-of-age', 'Horror/Supernatural', 'Speculative fiction/myths & fairy tales', 'Young adult', 'Contemporary', 'Middle grade', 'Suspense', 'LGBTQ+'}\n",
      "Participant nonfiction genres: {''}\n",
      "Publisher nonfiction genres: {'Pop culture', 'Humor', 'Memoir', \"Women's issues\"}\n",
      "Incompatible due to genres.\n",
      "Participant fiction genres: {'Thriller'}\n",
      "Publisher fiction genres: {'Literary', 'Science fiction', \"Children's picture/chapter books\", 'LGBTQ+', 'Romance', 'Horror/Supernatural', 'Southern', 'Speculative fiction/myths & fairy tales', 'Young adult', 'Fantasy', 'Graphic novel'}\n",
      "Participant nonfiction genres: {''}\n",
      "Publisher nonfiction genres: set()\n",
      "Incompatible due to genres.\n",
      "Participant fiction genres: {'Magical realism', 'Christian'}\n",
      "Publisher fiction genres: {'Literary', 'Science fiction', \"Children's picture/chapter books\", 'LGBTQ+', 'Romance', 'Horror/Supernatural', 'Southern', 'Speculative fiction/myths & fairy tales', 'Young adult', 'Fantasy', 'Graphic novel'}\n",
      "Participant nonfiction genres: {''}\n",
      "Publisher nonfiction genres: set()\n",
      "Incompatible due to genres.\n",
      "Participant fiction genres: {'Magical realism', 'Christian'}\n",
      "Publisher fiction genres: {'Literary', 'Science fiction', \"Children's picture/chapter books\", 'LGBTQ+', 'Romance', 'Horror/Supernatural', 'Southern', 'Speculative fiction/myths & fairy tales', 'Young adult', 'Fantasy', 'Graphic novel'}\n",
      "Participant nonfiction genres: {''}\n",
      "Publisher nonfiction genres: set()\n",
      "Incompatible due to genres.\n",
      "Participant fiction genres: {''}\n",
      "Publisher fiction genres: {'Literary', 'Science fiction', \"Children's picture/chapter books\", 'LGBTQ+', 'Romance', 'Horror/Supernatural', 'Southern', 'Speculative fiction/myths & fairy tales', 'Young adult', 'Fantasy', 'Graphic novel'}\n",
      "Participant nonfiction genres: {'Narrative nonfiction/journalism', 'Memoir', 'Self-help/relationships', 'Spiritual/inspirational/religious'}\n",
      "Publisher nonfiction genres: set()\n",
      "Incompatible due to genres.\n",
      "Participant fiction genres: {''}\n",
      "Publisher fiction genres: {'Literary', 'Science fiction', \"Children's picture/chapter books\", 'LGBTQ+', 'Romance', 'Horror/Supernatural', 'Southern', 'Speculative fiction/myths & fairy tales', 'Young adult', 'Fantasy', 'Graphic novel'}\n",
      "Participant nonfiction genres: {'Narrative nonfiction/journalism', 'Memoir', 'Self-help/relationships', 'Spiritual/inspirational/religious'}\n",
      "Publisher nonfiction genres: set()\n",
      "Incompatible due to publisher overlap. Participant publishers: {'Vicky Weber', 'Renée Fountain', 'Jéla Lewter', 'Jenna Satterthwaite'}, Slot publishers: {'Paloma Hernando', 'Jéla Lewter'}\n",
      "Incompatible due to genres.\n",
      "Participant fiction genres: {'Coming-of-age', 'Christian', 'Historical', \"Women's\"}\n",
      "Publisher fiction genres: {'Literary', 'Science fiction', \"Children's picture/chapter books\", 'LGBTQ+', 'Romance', 'Horror/Supernatural', 'Southern', 'Speculative fiction/myths & fairy tales', 'Young adult', 'Fantasy', 'Graphic novel'}\n",
      "Participant nonfiction genres: {'History/biography', 'Narrative nonfiction/journalism'}\n",
      "Publisher nonfiction genres: set()\n",
      "Incompatible due to publisher overlap. Participant publishers: {'Lauren Bieker', 'Renée Fountain', 'Jéla Lewter', 'Dianna Vega'}, Slot publishers: {'Paloma Hernando', 'Jéla Lewter'}\n",
      "Incompatible due to genres.\n",
      "Participant fiction genres: {'Family saga/drama', 'Coming-of-age'}\n",
      "Publisher fiction genres: {'Literary', 'Science fiction', \"Children's picture/chapter books\", 'LGBTQ+', 'Romance', 'Horror/Supernatural', 'Southern', 'Speculative fiction/myths & fairy tales', 'Young adult', 'Fantasy', 'Graphic novel'}\n",
      "Participant nonfiction genres: {''}\n",
      "Publisher nonfiction genres: set()\n",
      "Incompatible due to genres.\n",
      "Participant fiction genres: {''}\n",
      "Publisher fiction genres: {'Literary', 'Science fiction', \"Children's picture/chapter books\", 'LGBTQ+', 'Romance', 'Horror/Supernatural', 'Southern', 'Speculative fiction/myths & fairy tales', 'Young adult', 'Fantasy', 'Graphic novel'}\n",
      "Participant nonfiction genres: {'Memoir'}\n",
      "Publisher nonfiction genres: set()\n",
      "Incompatible due to genres.\n",
      "Participant fiction genres: {''}\n",
      "Publisher fiction genres: {'Literary', 'Science fiction', \"Children's picture/chapter books\", 'LGBTQ+', 'Romance', 'Horror/Supernatural', 'Southern', 'Speculative fiction/myths & fairy tales', 'Young adult', 'Fantasy', 'Graphic novel'}\n",
      "Participant nonfiction genres: {'Memoir'}\n",
      "Publisher nonfiction genres: set()\n",
      "Incompatible due to publisher overlap. Participant publishers: {'Foyinsi Adegbonmire', 'Paloma Hernando', 'Jynastie Wilson'}, Slot publishers: {'Paloma Hernando', 'Jéla Lewter'}\n",
      "Incompatible due to publisher overlap. Participant publishers: {'Foyinsi Adegbonmire', 'Paloma Hernando', 'Jynastie Wilson'}, Slot publishers: {'Paloma Hernando', 'Jéla Lewter'}\n",
      "Incompatible due to publisher overlap. Participant publishers: {'Paloma Hernando', 'Micah Brocker'}, Slot publishers: {'Paloma Hernando', 'Jéla Lewter'}\n",
      "Incompatible due to genres.\n",
      "Participant fiction genres: {'Middle grade', 'Mystery/crime'}\n",
      "Publisher fiction genres: {'Literary', 'Science fiction', \"Children's picture/chapter books\", 'LGBTQ+', 'Romance', 'Horror/Supernatural', 'Southern', 'Speculative fiction/myths & fairy tales', 'Young adult', 'Fantasy', 'Graphic novel'}\n",
      "Participant nonfiction genres: {''}\n",
      "Publisher nonfiction genres: set()\n",
      "Incompatible due to publisher overlap. Participant publishers: {'Paloma Hernando', 'Dianna Vega'}, Slot publishers: {'Paloma Hernando', 'Jéla Lewter'}\n",
      "Incompatible due to publisher overlap. Participant publishers: {'Nicole Luongo', 'Alexandria Brown', 'Wendy Wong', 'Dianna Vega', 'Grace Gay'}, Slot publishers: {'Vicky Weber', 'Wendy Wong'}\n",
      "Incompatible due to publisher overlap. Participant publishers: {'Nicole Luongo', 'Wendy Wong', 'Vicky Weber', 'Kurt Brackob', 'Renée Fountain'}, Slot publishers: {'Vicky Weber', 'Wendy Wong'}\n",
      "Incompatible due to publisher overlap. Participant publishers: {'Nicole Luongo', 'Wendy Wong', 'Vicky Weber', 'Kurt Brackob', 'Renée Fountain'}, Slot publishers: {'Vicky Weber', 'Wendy Wong'}\n",
      "Incompatible due to genres.\n",
      "Participant fiction genres: {'Magical realism', 'Christian'}\n",
      "Publisher fiction genres: {'Literary', 'Science fiction', \"Children's picture/chapter books\", 'LGBTQ+', 'Romance', 'Horror/Supernatural', 'Southern', 'Speculative fiction/myths & fairy tales', 'Young adult', 'Fantasy', 'Graphic novel'}\n",
      "Participant nonfiction genres: {''}\n",
      "Publisher nonfiction genres: set()\n",
      "Incompatible due to genres.\n",
      "Participant fiction genres: {'Magical realism', 'Christian'}\n",
      "Publisher fiction genres: {'Literary', 'Science fiction', \"Children's picture/chapter books\", 'LGBTQ+', 'Romance', 'Horror/Supernatural', 'Southern', 'Speculative fiction/myths & fairy tales', 'Young adult', 'Fantasy', 'Graphic novel'}\n",
      "Participant nonfiction genres: {''}\n",
      "Publisher nonfiction genres: set()\n",
      "Incompatible due to genres.\n",
      "Participant fiction genres: {''}\n",
      "Publisher fiction genres: {'Literary', 'Science fiction', \"Children's picture/chapter books\", 'LGBTQ+', 'Romance', 'Horror/Supernatural', 'Southern', 'Speculative fiction/myths & fairy tales', 'Young adult', 'Fantasy', 'Graphic novel'}\n",
      "Participant nonfiction genres: {'Narrative nonfiction/journalism', 'Memoir', 'Self-help/relationships', 'Spiritual/inspirational/religious'}\n",
      "Publisher nonfiction genres: set()\n",
      "Incompatible due to publisher overlap. Participant publishers: {'Vicky Weber', 'Renée Fountain', 'Jéla Lewter', 'Jenna Satterthwaite'}, Slot publishers: {'Paloma Hernando', 'Jéla Lewter'}\n",
      "Incompatible due to genres.\n",
      "Participant fiction genres: {'Coming-of-age', 'Christian', 'Historical', \"Women's\"}\n",
      "Publisher fiction genres: {'Literary', 'Science fiction', \"Children's picture/chapter books\", 'LGBTQ+', 'Romance', 'Horror/Supernatural', 'Southern', 'Speculative fiction/myths & fairy tales', 'Young adult', 'Fantasy', 'Graphic novel'}\n",
      "Participant nonfiction genres: {'History/biography', 'Narrative nonfiction/journalism'}\n",
      "Publisher nonfiction genres: set()\n",
      "Incompatible due to publisher overlap. Participant publishers: {'Lauren Bieker', 'Renée Fountain', 'Jéla Lewter', 'Dianna Vega'}, Slot publishers: {'Paloma Hernando', 'Jéla Lewter'}\n",
      "Incompatible due to genres.\n",
      "Participant fiction genres: {'Thriller'}\n",
      "Publisher fiction genres: {'Literary', 'Science fiction', \"Children's picture/chapter books\", 'LGBTQ+', 'Romance', 'Horror/Supernatural', 'Southern', 'Speculative fiction/myths & fairy tales', 'Young adult', 'Fantasy', 'Graphic novel'}\n",
      "Participant nonfiction genres: {''}\n",
      "Publisher nonfiction genres: set()\n",
      "Incompatible due to genres.\n",
      "Participant fiction genres: {'Magical realism', 'Christian'}\n",
      "Publisher fiction genres: {'Literary', 'Science fiction', \"Children's picture/chapter books\", 'LGBTQ+', 'Romance', 'Horror/Supernatural', 'Southern', 'Speculative fiction/myths & fairy tales', 'Young adult', 'Fantasy', 'Graphic novel'}\n",
      "Participant nonfiction genres: {''}\n",
      "Publisher nonfiction genres: set()\n",
      "Incompatible due to genres.\n",
      "Participant fiction genres: {'Magical realism', 'Christian'}\n",
      "Publisher fiction genres: {'Literary', 'Science fiction', \"Children's picture/chapter books\", 'LGBTQ+', 'Romance', 'Horror/Supernatural', 'Southern', 'Speculative fiction/myths & fairy tales', 'Young adult', 'Fantasy', 'Graphic novel'}\n",
      "Participant nonfiction genres: {''}\n",
      "Publisher nonfiction genres: set()\n",
      "Incompatible due to genres.\n",
      "Participant fiction genres: {''}\n",
      "Publisher fiction genres: {'Literary', 'Science fiction', \"Children's picture/chapter books\", 'LGBTQ+', 'Romance', 'Horror/Supernatural', 'Southern', 'Speculative fiction/myths & fairy tales', 'Young adult', 'Fantasy', 'Graphic novel'}\n",
      "Participant nonfiction genres: {'Narrative nonfiction/journalism', 'Memoir', 'Self-help/relationships', 'Spiritual/inspirational/religious'}\n",
      "Publisher nonfiction genres: set()\n",
      "Incompatible due to publisher overlap. Participant publishers: {'Vicky Weber', 'Renée Fountain', 'Jéla Lewter', 'Jenna Satterthwaite'}, Slot publishers: {'Paloma Hernando', 'Jéla Lewter'}\n",
      "Incompatible due to genres.\n",
      "Participant fiction genres: {'Coming-of-age', 'Christian', 'Historical', \"Women's\"}\n",
      "Publisher fiction genres: {'Literary', 'Science fiction', \"Children's picture/chapter books\", 'LGBTQ+', 'Romance', 'Horror/Supernatural', 'Southern', 'Speculative fiction/myths & fairy tales', 'Young adult', 'Fantasy', 'Graphic novel'}\n",
      "Participant nonfiction genres: {'History/biography', 'Narrative nonfiction/journalism'}\n",
      "Publisher nonfiction genres: set()\n",
      "Incompatible due to publisher overlap. Participant publishers: {'Lauren Bieker', 'Renée Fountain', 'Jéla Lewter', 'Dianna Vega'}, Slot publishers: {'Paloma Hernando', 'Jéla Lewter'}\n",
      "Incompatible due to genres.\n",
      "Participant fiction genres: {'Thriller'}\n",
      "Publisher fiction genres: {'Literary', 'Science fiction', \"Children's picture/chapter books\", 'LGBTQ+', 'Romance', 'Horror/Supernatural', 'Southern', 'Speculative fiction/myths & fairy tales', 'Young adult', 'Fantasy', 'Graphic novel'}\n",
      "Participant nonfiction genres: {''}\n",
      "Publisher nonfiction genres: set()\n",
      "Incompatible due to genres.\n",
      "Participant fiction genres: {'Magical realism', 'Christian'}\n",
      "Publisher fiction genres: {'Literary', 'Science fiction', \"Children's picture/chapter books\", 'LGBTQ+', 'Romance', 'Horror/Supernatural', 'Southern', 'Speculative fiction/myths & fairy tales', 'Young adult', 'Fantasy', 'Graphic novel'}\n",
      "Participant nonfiction genres: {''}\n",
      "Publisher nonfiction genres: set()\n",
      "Incompatible due to genres.\n",
      "Participant fiction genres: {'Magical realism', 'Christian'}\n",
      "Publisher fiction genres: {'Literary', 'Science fiction', \"Children's picture/chapter books\", 'LGBTQ+', 'Romance', 'Horror/Supernatural', 'Southern', 'Speculative fiction/myths & fairy tales', 'Young adult', 'Fantasy', 'Graphic novel'}\n",
      "Participant nonfiction genres: {''}\n",
      "Publisher nonfiction genres: set()\n",
      "Incompatible due to genres.\n",
      "Participant fiction genres: {''}\n",
      "Publisher fiction genres: {'Literary', 'Science fiction', \"Children's picture/chapter books\", 'LGBTQ+', 'Romance', 'Horror/Supernatural', 'Southern', 'Speculative fiction/myths & fairy tales', 'Young adult', 'Fantasy', 'Graphic novel'}\n",
      "Participant nonfiction genres: {'Narrative nonfiction/journalism', 'Memoir', 'Self-help/relationships', 'Spiritual/inspirational/religious'}\n",
      "Publisher nonfiction genres: set()\n",
      "Incompatible due to publisher overlap. Participant publishers: {'Vicky Weber', 'Renée Fountain', 'Jéla Lewter', 'Jenna Satterthwaite'}, Slot publishers: {'Paloma Hernando', 'Jéla Lewter'}\n",
      "Incompatible due to genres.\n",
      "Participant fiction genres: {'Coming-of-age', 'Christian', 'Historical', \"Women's\"}\n",
      "Publisher fiction genres: {'Literary', 'Science fiction', \"Children's picture/chapter books\", 'LGBTQ+', 'Romance', 'Horror/Supernatural', 'Southern', 'Speculative fiction/myths & fairy tales', 'Young adult', 'Fantasy', 'Graphic novel'}\n",
      "Participant nonfiction genres: {'History/biography', 'Narrative nonfiction/journalism'}\n",
      "Publisher nonfiction genres: set()\n",
      "Incompatible due to publisher overlap. Participant publishers: {'Lauren Bieker', 'Renée Fountain', 'Jéla Lewter', 'Dianna Vega'}, Slot publishers: {'Paloma Hernando', 'Jéla Lewter'}\n",
      "Incompatible due to genres.\n",
      "Participant fiction genres: {'Family saga/drama', 'Coming-of-age'}\n",
      "Publisher fiction genres: {'Literary', 'Science fiction', \"Children's picture/chapter books\", 'LGBTQ+', 'Romance', 'Horror/Supernatural', 'Southern', 'Speculative fiction/myths & fairy tales', 'Young adult', 'Fantasy', 'Graphic novel'}\n",
      "Participant nonfiction genres: {''}\n",
      "Publisher nonfiction genres: set()\n",
      "Incompatible due to genres.\n",
      "Participant fiction genres: {'Thriller'}\n",
      "Publisher fiction genres: {'Literary', 'Science fiction', \"Children's picture/chapter books\", 'LGBTQ+', 'Romance', 'Horror/Supernatural', 'Southern', 'Speculative fiction/myths & fairy tales', 'Young adult', 'Fantasy', 'Graphic novel'}\n",
      "Participant nonfiction genres: {''}\n",
      "Publisher nonfiction genres: set()\n",
      "Incompatible due to genres.\n",
      "Participant fiction genres: {'Magical realism', 'Christian'}\n",
      "Publisher fiction genres: {'Literary', 'Science fiction', \"Children's picture/chapter books\", 'LGBTQ+', 'Romance', 'Horror/Supernatural', 'Southern', 'Speculative fiction/myths & fairy tales', 'Young adult', 'Fantasy', 'Graphic novel'}\n",
      "Participant nonfiction genres: {''}\n",
      "Publisher nonfiction genres: set()\n",
      "Incompatible due to genres.\n",
      "Participant fiction genres: {'Magical realism', 'Christian'}\n",
      "Publisher fiction genres: {'Literary', 'Science fiction', \"Children's picture/chapter books\", 'LGBTQ+', 'Romance', 'Horror/Supernatural', 'Southern', 'Speculative fiction/myths & fairy tales', 'Young adult', 'Fantasy', 'Graphic novel'}\n",
      "Participant nonfiction genres: {''}\n",
      "Publisher nonfiction genres: set()\n",
      "Incompatible due to publisher overlap. Participant publishers: {'Vicky Weber', 'Renée Fountain', 'Jéla Lewter', 'Jenna Satterthwaite'}, Slot publishers: {'Paloma Hernando', 'Jéla Lewter'}\n",
      "Incompatible due to genres.\n",
      "Participant fiction genres: {'Coming-of-age', 'Christian', 'Historical', \"Women's\"}\n",
      "Publisher fiction genres: {'Literary', 'Science fiction', \"Children's picture/chapter books\", 'LGBTQ+', 'Romance', 'Horror/Supernatural', 'Southern', 'Speculative fiction/myths & fairy tales', 'Young adult', 'Fantasy', 'Graphic novel'}\n",
      "Participant nonfiction genres: {'History/biography', 'Narrative nonfiction/journalism'}\n",
      "Publisher nonfiction genres: set()\n",
      "Incompatible due to publisher overlap. Participant publishers: {'Lauren Bieker', 'Renée Fountain', 'Jéla Lewter', 'Dianna Vega'}, Slot publishers: {'Paloma Hernando', 'Jéla Lewter'}\n",
      "Incompatible due to genres.\n",
      "Participant fiction genres: {'Family saga/drama', 'Coming-of-age'}\n",
      "Publisher fiction genres: {'Literary', 'Science fiction', \"Children's picture/chapter books\", 'LGBTQ+', 'Romance', 'Horror/Supernatural', 'Southern', 'Speculative fiction/myths & fairy tales', 'Young adult', 'Fantasy', 'Graphic novel'}\n",
      "Participant nonfiction genres: {''}\n",
      "Publisher nonfiction genres: set()\n",
      "Incompatible due to publisher overlap. Participant publishers: {'Nicole Luongo', 'Wendy Wong', 'Vicky Weber', 'Kurt Brackob', 'Renée Fountain'}, Slot publishers: {'Vicky Weber', 'Wendy Wong'}\n",
      "Incompatible due to publisher overlap. Participant publishers: {'Nicole Luongo', 'Wendy Wong', 'Vicky Weber', 'Kurt Brackob', 'Renée Fountain'}, Slot publishers: {'Vicky Weber', 'Wendy Wong'}\n",
      "Incompatible due to publisher overlap. Participant publishers: {'Nicole Luongo', 'Alexandria Brown', 'Wendy Wong', 'Dianna Vega', 'Grace Gay'}, Slot publishers: {'Vicky Weber', 'Wendy Wong'}\n",
      "Incompatible due to publisher overlap. Participant publishers: {'Nicole Luongo', 'Wendy Wong', 'Vicky Weber', 'Kurt Brackob', 'Renée Fountain'}, Slot publishers: {'Vicky Weber', 'Wendy Wong'}\n",
      "Incompatible due to publisher overlap. Participant publishers: {'Nicole Luongo', 'Wendy Wong', 'Vicky Weber', 'Kurt Brackob', 'Renée Fountain'}, Slot publishers: {'Vicky Weber', 'Wendy Wong'}\n",
      "Incompatible due to publisher overlap. Participant publishers: {'Vicky Weber', 'Renée Fountain', 'Jéla Lewter', 'Jenna Satterthwaite'}, Slot publishers: {'Vicky Weber', 'Wendy Wong'}\n",
      "Incompatible due to publisher overlap. Participant publishers: {'Wendy Wong', 'Renée Fountain', 'Joëlle Delbourgo'}, Slot publishers: {'Vicky Weber', 'Wendy Wong'}\n",
      "Incompatible due to publisher overlap. Participant publishers: {'Wendy Wong', 'Renée Fountain', 'Joëlle Delbourgo'}, Slot publishers: {'Vicky Weber', 'Wendy Wong'}\n",
      "Incompatible due to publisher overlap. Participant publishers: {'Vicky Weber', 'Joëlle Delbourgo', 'Jynastie Wilson'}, Slot publishers: {'Vicky Weber', 'Wendy Wong'}\n",
      "Incompatible due to publisher overlap. Participant publishers: {'Vicky Weber', 'Joëlle Delbourgo', 'Jynastie Wilson'}, Slot publishers: {'Vicky Weber', 'Wendy Wong'}\n",
      "Incompatible due to publisher overlap. Participant publishers: {'Nicole Luongo', 'Alexandria Brown', 'Wendy Wong', 'Dianna Vega', 'Grace Gay'}, Slot publishers: {'Nicole Luongo', 'Lauren Bieker'}\n",
      "Incompatible due to genres.\n",
      "Participant fiction genres: {'Magical realism', 'Christian'}\n",
      "Publisher fiction genres: {'Family saga/drama', 'Science fiction', 'Mystery/crime', 'Humor', 'Thriller', \"Women's\", 'Upmarket commercial/book club', 'Historical', 'Fantasy', 'Mainstream/commercial', 'Romance', 'Coming-of-age', 'Horror/Supernatural', 'Speculative fiction/myths & fairy tales', 'Young adult', 'Contemporary', 'Middle grade', 'Suspense', 'LGBTQ+'}\n",
      "Participant nonfiction genres: {''}\n",
      "Publisher nonfiction genres: {'Pop culture', 'Humor', 'Memoir', \"Women's issues\"}\n",
      "Incompatible due to genres.\n",
      "Participant fiction genres: {'Magical realism', 'Christian'}\n",
      "Publisher fiction genres: {'Family saga/drama', 'Science fiction', 'Mystery/crime', 'Humor', 'Thriller', \"Women's\", 'Upmarket commercial/book club', 'Historical', 'Fantasy', 'Mainstream/commercial', 'Romance', 'Coming-of-age', 'Horror/Supernatural', 'Speculative fiction/myths & fairy tales', 'Young adult', 'Contemporary', 'Middle grade', 'Suspense', 'LGBTQ+'}\n",
      "Participant nonfiction genres: {''}\n",
      "Publisher nonfiction genres: {'Pop culture', 'Humor', 'Memoir', \"Women's issues\"}\n",
      "Incompatible due to publisher overlap. Participant publishers: {'Lauren Bieker', 'Renée Fountain', 'Jéla Lewter', 'Dianna Vega'}, Slot publishers: {'Nicole Luongo', 'Lauren Bieker'}\n",
      "Incompatible due to publisher overlap. Participant publishers: {'Nicole Luongo', 'Wendy Wong', 'Vicky Weber', 'Kurt Brackob', 'Renée Fountain'}, Slot publishers: {'Kurt Brackob', 'Joëlle Delbourgo'}\n",
      "Incompatible due to publisher overlap. Participant publishers: {'Nicole Luongo', 'Wendy Wong', 'Vicky Weber', 'Kurt Brackob', 'Renée Fountain'}, Slot publishers: {'Kurt Brackob', 'Joëlle Delbourgo'}\n",
      "Incompatible due to publisher overlap. Participant publishers: {'Monica Rae Brown', 'Kurt Brackob', 'Grace Gay', 'Jenna Satterthwaite'}, Slot publishers: {'Kurt Brackob', 'Joëlle Delbourgo'}\n",
      "Incompatible due to publisher overlap. Participant publishers: {'Kurt Brackob', 'Jake Lovell', 'Alexandria Brown'}, Slot publishers: {'Kurt Brackob', 'Joëlle Delbourgo'}\n",
      "Incompatible due to publisher overlap. Participant publishers: {'Kurt Brackob', 'Jake Lovell', 'Alexandria Brown'}, Slot publishers: {'Kurt Brackob', 'Joëlle Delbourgo'}\n",
      "Incompatible due to publisher overlap. Participant publishers: {'Wendy Wong', 'Renée Fountain', 'Joëlle Delbourgo'}, Slot publishers: {'Kurt Brackob', 'Joëlle Delbourgo'}\n",
      "Incompatible due to publisher overlap. Participant publishers: {'Wendy Wong', 'Renée Fountain', 'Joëlle Delbourgo'}, Slot publishers: {'Kurt Brackob', 'Joëlle Delbourgo'}\n",
      "Incompatible due to publisher overlap. Participant publishers: {'Vicky Weber', 'Joëlle Delbourgo', 'Jynastie Wilson'}, Slot publishers: {'Kurt Brackob', 'Joëlle Delbourgo'}\n",
      "Incompatible due to publisher overlap. Participant publishers: {'Vicky Weber', 'Joëlle Delbourgo', 'Jynastie Wilson'}, Slot publishers: {'Kurt Brackob', 'Joëlle Delbourgo'}\n",
      "Incompatible due to publisher overlap. Participant publishers: {'Nicole Luongo', 'Alexandria Brown', 'Wendy Wong', 'Dianna Vega', 'Grace Gay'}, Slot publishers: {'Alexandria Brown', 'Renée Fountain'}\n",
      "Incompatible due to genres.\n",
      "Participant fiction genres: {'Magical realism', 'Christian'}\n",
      "Publisher fiction genres: {'Family saga/drama', 'Humor', 'Thriller', 'Suspense', 'Mainstream/commercial', \"Women's\", 'Romance', 'LGBTQ+', 'Upmarket commercial/book club', 'Coming-of-age', 'Horror/Supernatural', 'Mystery/crime', 'Speculative fiction/myths & fairy tales', 'Young adult', 'Contemporary', 'Fantasy'}\n",
      "Participant nonfiction genres: {''}\n",
      "Publisher nonfiction genres: {'Humor', 'Current events/politics/social commentary', 'Narrative nonfiction/journalism', 'Memoir', 'Pop culture', \"Women's issues\", 'Spiritual/inspirational/religious', 'Essay collection', 'Self-help/relationships', 'Sports', 'Business/leadership/law', 'Science', 'True crime'}\n",
      "Incompatible due to genres.\n",
      "Participant fiction genres: {'Magical realism', 'Christian'}\n",
      "Publisher fiction genres: {'Family saga/drama', 'Humor', 'Thriller', 'Suspense', 'Mainstream/commercial', \"Women's\", 'Romance', 'LGBTQ+', 'Upmarket commercial/book club', 'Coming-of-age', 'Horror/Supernatural', 'Mystery/crime', 'Speculative fiction/myths & fairy tales', 'Young adult', 'Contemporary', 'Fantasy'}\n",
      "Participant nonfiction genres: {''}\n",
      "Publisher nonfiction genres: {'Humor', 'Current events/politics/social commentary', 'Narrative nonfiction/journalism', 'Memoir', 'Pop culture', \"Women's issues\", 'Spiritual/inspirational/religious', 'Essay collection', 'Self-help/relationships', 'Sports', 'Business/leadership/law', 'Science', 'True crime'}\n",
      "Incompatible due to publisher overlap. Participant publishers: {'Vicky Weber', 'Renée Fountain', 'Jéla Lewter', 'Jenna Satterthwaite'}, Slot publishers: {'Alexandria Brown', 'Renée Fountain'}\n",
      "Incompatible due to publisher overlap. Participant publishers: {'Lauren Bieker', 'Renée Fountain', 'Jéla Lewter', 'Dianna Vega'}, Slot publishers: {'Alexandria Brown', 'Renée Fountain'}\n",
      "Incompatible due to publisher overlap. Participant publishers: {'Kurt Brackob', 'Jake Lovell', 'Alexandria Brown'}, Slot publishers: {'Alexandria Brown', 'Renée Fountain'}\n",
      "Incompatible due to publisher overlap. Participant publishers: {'Kurt Brackob', 'Jake Lovell', 'Alexandria Brown'}, Slot publishers: {'Alexandria Brown', 'Renée Fountain'}\n",
      "Incompatible due to publisher overlap. Participant publishers: {'Wendy Wong', 'Renée Fountain', 'Joëlle Delbourgo'}, Slot publishers: {'Alexandria Brown', 'Renée Fountain'}\n",
      "Incompatible due to publisher overlap. Participant publishers: {'Wendy Wong', 'Renée Fountain', 'Joëlle Delbourgo'}, Slot publishers: {'Alexandria Brown', 'Renée Fountain'}\n",
      "Incompatible due to genres.\n",
      "Participant fiction genres: {'Magical realism', 'Christian'}\n",
      "Publisher fiction genres: {'Middle grade', 'Humor', 'Thriller', 'Literary', 'Science fiction', 'Suspense', 'Mainstream/commercial', \"Women's\", 'Romance', 'LGBTQ+', 'Young adult', 'Coming-of-age', 'Mystery/crime', 'Speculative fiction/myths & fairy tales', 'Contemporary', 'Fantasy'}\n",
      "Participant nonfiction genres: {''}\n",
      "Publisher nonfiction genres: {'Business/leadership/law', 'Health/diet/wellness', 'Sports'}\n",
      "Incompatible due to genres.\n",
      "Participant fiction genres: {'Magical realism', 'Christian'}\n",
      "Publisher fiction genres: {'Middle grade', 'Humor', 'Thriller', 'Literary', 'Science fiction', 'Suspense', 'Mainstream/commercial', \"Women's\", 'Romance', 'LGBTQ+', 'Young adult', 'Coming-of-age', 'Mystery/crime', 'Speculative fiction/myths & fairy tales', 'Contemporary', 'Fantasy'}\n",
      "Participant nonfiction genres: {''}\n",
      "Publisher nonfiction genres: {'Business/leadership/law', 'Health/diet/wellness', 'Sports'}\n",
      "Incompatible due to publisher overlap. Participant publishers: {'Monica Rae Brown', 'Jake Lovell', 'Micah Brocker', 'Jéla Lewter'}, Slot publishers: {'Foyinsi Adegbonmire', 'Micah Brocker'}\n",
      "Incompatible due to genres.\n",
      "Participant fiction genres: {''}\n",
      "Publisher fiction genres: {'Middle grade', 'Humor', 'Thriller', 'Literary', 'Science fiction', 'Suspense', 'Mainstream/commercial', \"Women's\", 'Romance', 'LGBTQ+', 'Young adult', 'Coming-of-age', 'Mystery/crime', 'Speculative fiction/myths & fairy tales', 'Contemporary', 'Fantasy'}\n",
      "Participant nonfiction genres: {'Memoir'}\n",
      "Publisher nonfiction genres: {'Business/leadership/law', 'Health/diet/wellness', 'Sports'}\n",
      "Incompatible due to genres.\n",
      "Participant fiction genres: {''}\n",
      "Publisher fiction genres: {'Middle grade', 'Humor', 'Thriller', 'Literary', 'Science fiction', 'Suspense', 'Mainstream/commercial', \"Women's\", 'Romance', 'LGBTQ+', 'Young adult', 'Coming-of-age', 'Mystery/crime', 'Speculative fiction/myths & fairy tales', 'Contemporary', 'Fantasy'}\n",
      "Participant nonfiction genres: {'Memoir'}\n",
      "Publisher nonfiction genres: {'Business/leadership/law', 'Health/diet/wellness', 'Sports'}\n",
      "Incompatible due to publisher overlap. Participant publishers: {'Foyinsi Adegbonmire', 'Paloma Hernando', 'Jynastie Wilson'}, Slot publishers: {'Foyinsi Adegbonmire', 'Micah Brocker'}\n",
      "Incompatible due to publisher overlap. Participant publishers: {'Foyinsi Adegbonmire', 'Paloma Hernando', 'Jynastie Wilson'}, Slot publishers: {'Foyinsi Adegbonmire', 'Micah Brocker'}\n",
      "Incompatible due to publisher overlap. Participant publishers: {'Paloma Hernando', 'Micah Brocker'}, Slot publishers: {'Foyinsi Adegbonmire', 'Micah Brocker'}\n",
      "Incompatible due to publisher overlap. Participant publishers: {'Foyinsi Adegbonmire', 'Jynastie Wilson'}, Slot publishers: {'Foyinsi Adegbonmire', 'Micah Brocker'}\n",
      "Incompatible due to genres.\n",
      "Participant fiction genres: {''}\n",
      "Publisher fiction genres: {'Middle grade', 'Humor', 'Thriller', 'Literary', 'Science fiction', 'Suspense', 'Mainstream/commercial', \"Women's\", 'Romance', 'LGBTQ+', 'Young adult', 'Coming-of-age', 'Mystery/crime', 'Speculative fiction/myths & fairy tales', 'Contemporary', 'Fantasy'}\n",
      "Participant nonfiction genres: {'Memoir'}\n",
      "Publisher nonfiction genres: {'Business/leadership/law', 'Health/diet/wellness', 'Sports'}\n",
      "Incompatible due to genres.\n",
      "Participant fiction genres: {''}\n",
      "Publisher fiction genres: {'Middle grade', 'Humor', 'Thriller', 'Literary', 'Science fiction', 'Suspense', 'Mainstream/commercial', \"Women's\", 'Romance', 'LGBTQ+', 'Young adult', 'Coming-of-age', 'Mystery/crime', 'Speculative fiction/myths & fairy tales', 'Contemporary', 'Fantasy'}\n",
      "Participant nonfiction genres: {'Memoir'}\n",
      "Publisher nonfiction genres: {'Business/leadership/law', 'Health/diet/wellness', 'Sports'}\n",
      "Incompatible due to publisher overlap. Participant publishers: {'Micah Brocker'}, Slot publishers: {'Foyinsi Adegbonmire', 'Micah Brocker'}\n",
      "Incompatible due to publisher overlap. Participant publishers: {'Micah Brocker'}, Slot publishers: {'Foyinsi Adegbonmire', 'Micah Brocker'}\n",
      "Incompatible due to genres.\n",
      "Participant fiction genres: {\"Children's picture/chapter books\"}\n",
      "Publisher fiction genres: {'Middle grade', 'Humor', 'Thriller', 'Literary', 'Science fiction', 'Suspense', 'Mainstream/commercial', \"Women's\", 'Romance', 'LGBTQ+', 'Young adult', 'Coming-of-age', 'Mystery/crime', 'Speculative fiction/myths & fairy tales', 'Contemporary', 'Fantasy'}\n",
      "Participant nonfiction genres: {'Spiritual/inspirational/religious'}\n",
      "Publisher nonfiction genres: {'Business/leadership/law', 'Health/diet/wellness', 'Sports'}\n",
      "Incompatible due to genres.\n",
      "Participant fiction genres: {\"Children's picture/chapter books\"}\n",
      "Publisher fiction genres: {'Middle grade', 'Humor', 'Thriller', 'Literary', 'Science fiction', 'Suspense', 'Mainstream/commercial', \"Women's\", 'Romance', 'LGBTQ+', 'Young adult', 'Coming-of-age', 'Mystery/crime', 'Speculative fiction/myths & fairy tales', 'Contemporary', 'Fantasy'}\n",
      "Participant nonfiction genres: {'Spiritual/inspirational/religious'}\n",
      "Publisher nonfiction genres: {'Business/leadership/law', 'Health/diet/wellness', 'Sports'}\n",
      "Incompatible due to genres.\n",
      "Participant fiction genres: {''}\n",
      "Publisher fiction genres: {'Middle grade', 'Humor', 'Thriller', 'Literary', 'Science fiction', 'Suspense', 'Mainstream/commercial', \"Women's\", 'Romance', 'LGBTQ+', 'Young adult', 'Coming-of-age', 'Mystery/crime', 'Speculative fiction/myths & fairy tales', 'Contemporary', 'Fantasy'}\n",
      "Participant nonfiction genres: {'Memoir', 'Self-help/relationships'}\n",
      "Publisher nonfiction genres: {'Business/leadership/law', 'Health/diet/wellness', 'Sports'}\n",
      "Incompatible due to genres.\n",
      "Participant fiction genres: {''}\n",
      "Publisher fiction genres: {'Middle grade', 'Humor', 'Thriller', 'Literary', 'Science fiction', 'Suspense', 'Mainstream/commercial', \"Women's\", 'Romance', 'LGBTQ+', 'Young adult', 'Coming-of-age', 'Mystery/crime', 'Speculative fiction/myths & fairy tales', 'Contemporary', 'Fantasy'}\n",
      "Participant nonfiction genres: {'Memoir', 'Narrative nonfiction/journalism'}\n",
      "Publisher nonfiction genres: {'Business/leadership/law', 'Health/diet/wellness', 'Sports'}\n",
      "Incompatible due to publisher overlap. Participant publishers: {'Nicole Luongo', 'Alexandria Brown', 'Wendy Wong', 'Dianna Vega', 'Grace Gay'}, Slot publishers: {'Jynastie Wilson', 'Dianna Vega'}\n",
      "Incompatible due to publisher overlap. Participant publishers: {'Nicole Luongo', 'Wendy Wong', 'Vicky Weber', 'Kurt Brackob', 'Renée Fountain'}, Slot publishers: {'Kurt Brackob', 'Joëlle Delbourgo'}\n",
      "Incompatible due to publisher overlap. Participant publishers: {'Monica Rae Brown', 'Kurt Brackob', 'Grace Gay', 'Jenna Satterthwaite'}, Slot publishers: {'Monica Rae Brown', 'Jenna Satterthwaite'}\n",
      "Incompatible due to publisher overlap. Participant publishers: {'Nicole Luongo', 'Wendy Wong', 'Vicky Weber', 'Kurt Brackob', 'Renée Fountain'}, Slot publishers: {'Vicky Weber', 'Wendy Wong'}\n",
      "Incompatible due to publisher overlap. Participant publishers: {'Kurt Brackob', 'Jake Lovell', 'Alexandria Brown'}, Slot publishers: {'Jake Lovell', 'Grace Gay'}\n",
      "Incompatible due to genres.\n",
      "Participant fiction genres: {''}\n",
      "Publisher fiction genres: {'Family saga/drama', 'Science fiction', 'Mystery/crime', 'Southern', 'Thriller', \"Women's\", 'Upmarket commercial/book club', 'Historical', 'Fantasy', 'Graphic novel', 'Literary', 'Christian', 'Mainstream/commercial', 'Romance', 'Coming-of-age', 'Horror/Supernatural', 'Speculative fiction/myths & fairy tales', 'Contemporary', 'Young adult', 'Middle grade', 'Suspense', 'LGBTQ+', 'Short story collection'}\n",
      "Participant nonfiction genres: {'Memoir'}\n",
      "Publisher nonfiction genres: {'Current events/politics/social commentary', 'Cooking/food/cookbooks', 'Narrative nonfiction/journalism', 'History/biography', 'Health/diet/wellness', 'Pop culture', \"Women's issues\", 'Spiritual/inspirational/religious', 'Essay collection', 'Self-help/relationships', 'Sports', 'Business/leadership/law', 'Science'}\n",
      "Incompatible due to genres.\n",
      "Participant fiction genres: {''}\n",
      "Publisher fiction genres: {'Family saga/drama', 'Science fiction', 'Mystery/crime', 'Southern', 'Thriller', \"Women's\", 'Upmarket commercial/book club', 'Historical', 'Fantasy', 'Graphic novel', 'Literary', 'Christian', 'Mainstream/commercial', 'Romance', 'Coming-of-age', 'Horror/Supernatural', 'Speculative fiction/myths & fairy tales', 'Contemporary', 'Young adult', 'Middle grade', 'Suspense', 'LGBTQ+', 'Short story collection'}\n",
      "Participant nonfiction genres: {'Memoir'}\n",
      "Publisher nonfiction genres: {'Current events/politics/social commentary', 'Cooking/food/cookbooks', 'Narrative nonfiction/journalism', 'History/biography', 'Health/diet/wellness', 'Pop culture', \"Women's issues\", 'Spiritual/inspirational/religious', 'Essay collection', 'Self-help/relationships', 'Sports', 'Business/leadership/law', 'Science'}\n",
      "Incompatible due to genres.\n",
      "Participant fiction genres: {''}\n",
      "Publisher fiction genres: {'Family saga/drama', 'Science fiction', 'Mystery/crime', 'Southern', 'Thriller', \"Women's\", 'Upmarket commercial/book club', 'Historical', 'Fantasy', 'Graphic novel', 'Literary', 'Christian', 'Mainstream/commercial', 'Romance', 'Coming-of-age', 'Horror/Supernatural', 'Speculative fiction/myths & fairy tales', 'Contemporary', 'Young adult', 'Middle grade', 'Suspense', 'LGBTQ+', 'Short story collection'}\n",
      "Participant nonfiction genres: {'Memoir'}\n",
      "Publisher nonfiction genres: {'Current events/politics/social commentary', 'Cooking/food/cookbooks', 'Narrative nonfiction/journalism', 'History/biography', 'Health/diet/wellness', 'Pop culture', \"Women's issues\", 'Spiritual/inspirational/religious', 'Essay collection', 'Self-help/relationships', 'Sports', 'Business/leadership/law', 'Science'}\n",
      "Incompatible due to genres.\n",
      "Participant fiction genres: {''}\n",
      "Publisher fiction genres: {'Middle grade', 'Humor', 'Magical realism', 'Thriller', 'Science fiction', 'Mainstream/commercial', \"Women's\", 'Romance', 'LGBTQ+', 'Upmarket commercial/book club', 'Coming-of-age', 'Horror/Supernatural', 'Historical', 'Southern', 'Speculative fiction/myths & fairy tales', 'Young adult', 'Contemporary', 'Fantasy'}\n",
      "Participant nonfiction genres: {'Memoir'}\n",
      "Publisher nonfiction genres: set()\n",
      "Incompatible due to publisher overlap. Participant publishers: {'Vicky Weber', 'Joëlle Delbourgo', 'Jynastie Wilson'}, Slot publishers: {'Jynastie Wilson', 'Dianna Vega'}\n",
      "Incompatible due to publisher overlap. Participant publishers: {'Vicky Weber', 'Joëlle Delbourgo', 'Jynastie Wilson'}, Slot publishers: {'Jynastie Wilson', 'Dianna Vega'}\n",
      "Incompatible due to publisher overlap. Participant publishers: {'Foyinsi Adegbonmire', 'Paloma Hernando', 'Jynastie Wilson'}, Slot publishers: {'Jynastie Wilson', 'Dianna Vega'}\n",
      "Incompatible due to publisher overlap. Participant publishers: {'Foyinsi Adegbonmire', 'Paloma Hernando', 'Jynastie Wilson'}, Slot publishers: {'Jynastie Wilson', 'Dianna Vega'}\n",
      "Incompatible due to publisher overlap. Participant publishers: {'Wendy Wong', 'Renée Fountain', 'Joëlle Delbourgo'}, Slot publishers: {'Alexandria Brown', 'Renée Fountain'}\n",
      "Incompatible due to genres.\n",
      "Participant fiction genres: {''}\n",
      "Publisher fiction genres: {'Middle grade', 'Humor', 'Thriller', 'Literary', 'Science fiction', 'Suspense', 'Mainstream/commercial', \"Women's\", 'Romance', 'LGBTQ+', 'Young adult', 'Coming-of-age', 'Mystery/crime', 'Speculative fiction/myths & fairy tales', 'Contemporary', 'Fantasy'}\n",
      "Participant nonfiction genres: {'Memoir'}\n",
      "Publisher nonfiction genres: {'Business/leadership/law', 'Health/diet/wellness', 'Sports'}\n",
      "Incompatible due to publisher overlap. Participant publishers: {'Foyinsi Adegbonmire', 'Jynastie Wilson'}, Slot publishers: {'Foyinsi Adegbonmire', 'Micah Brocker'}\n",
      "Incompatible due to publisher overlap. Participant publishers: {'Foyinsi Adegbonmire', 'Jynastie Wilson'}, Slot publishers: {'Jynastie Wilson', 'Dianna Vega'}\n",
      "Incompatible due to genres.\n",
      "Participant fiction genres: {''}\n",
      "Publisher fiction genres: {'Middle grade', 'Humor', 'Magical realism', 'Thriller', 'Science fiction', 'Mainstream/commercial', \"Women's\", 'Romance', 'LGBTQ+', 'Upmarket commercial/book club', 'Coming-of-age', 'Horror/Supernatural', 'Historical', 'Southern', 'Speculative fiction/myths & fairy tales', 'Young adult', 'Contemporary', 'Fantasy'}\n",
      "Participant nonfiction genres: {'Memoir'}\n",
      "Publisher nonfiction genres: set()\n",
      "Incompatible due to genres.\n",
      "Participant fiction genres: {''}\n",
      "Publisher fiction genres: {'Middle grade', 'Humor', 'Magical realism', 'Thriller', 'Science fiction', 'Mainstream/commercial', \"Women's\", 'Romance', 'LGBTQ+', 'Upmarket commercial/book club', 'Coming-of-age', 'Horror/Supernatural', 'Historical', 'Southern', 'Speculative fiction/myths & fairy tales', 'Young adult', 'Contemporary', 'Fantasy'}\n",
      "Participant nonfiction genres: {'Memoir'}\n",
      "Publisher nonfiction genres: set()\n",
      "Incompatible due to publisher overlap. Participant publishers: {'Kurt Brackob'}, Slot publishers: {'Kurt Brackob', 'Joëlle Delbourgo'}\n",
      "Incompatible due to publisher overlap. Participant publishers: {'Kurt Brackob'}, Slot publishers: {'Kurt Brackob', 'Joëlle Delbourgo'}\n",
      "Incompatible due to publisher overlap. Participant publishers: {'Foyinsi Adegbonmire', 'Jynastie Wilson'}, Slot publishers: {'Foyinsi Adegbonmire', 'Micah Brocker'}\n",
      "Incompatible due to genres.\n",
      "Participant fiction genres: {''}\n",
      "Publisher fiction genres: {'Middle grade', 'Humor', 'Thriller', 'Literary', 'Science fiction', 'Suspense', 'Mainstream/commercial', \"Women's\", 'Romance', 'LGBTQ+', 'Young adult', 'Coming-of-age', 'Mystery/crime', 'Speculative fiction/myths & fairy tales', 'Contemporary', 'Fantasy'}\n",
      "Participant nonfiction genres: {'Memoir'}\n",
      "Publisher nonfiction genres: {'Business/leadership/law', 'Health/diet/wellness', 'Sports'}\n",
      "Incompatible due to genres.\n",
      "Participant fiction genres: {''}\n",
      "Publisher fiction genres: {'Middle grade', 'Humor', 'Thriller', 'Literary', 'Science fiction', 'Suspense', 'Mainstream/commercial', \"Women's\", 'Romance', 'LGBTQ+', 'Young adult', 'Coming-of-age', 'Mystery/crime', 'Speculative fiction/myths & fairy tales', 'Contemporary', 'Fantasy'}\n",
      "Participant nonfiction genres: {'Memoir'}\n",
      "Publisher nonfiction genres: {'Business/leadership/law', 'Health/diet/wellness', 'Sports'}\n",
      "Incompatible due to publisher overlap. Participant publishers: {'Micah Brocker'}, Slot publishers: {'Foyinsi Adegbonmire', 'Micah Brocker'}\n",
      "Incompatible due to genres.\n",
      "Participant fiction genres: {''}\n",
      "Publisher fiction genres: {'Family saga/drama', 'Science fiction', 'Mystery/crime', 'Southern', 'Thriller', \"Women's\", 'Upmarket commercial/book club', 'Historical', 'Fantasy', 'Graphic novel', 'Literary', 'Christian', 'Mainstream/commercial', 'Romance', 'Coming-of-age', 'Horror/Supernatural', 'Speculative fiction/myths & fairy tales', 'Contemporary', 'Young adult', 'Middle grade', 'Suspense', 'LGBTQ+', 'Short story collection'}\n",
      "Participant nonfiction genres: {'Memoir'}\n",
      "Publisher nonfiction genres: {'Current events/politics/social commentary', 'Cooking/food/cookbooks', 'Narrative nonfiction/journalism', 'History/biography', 'Health/diet/wellness', 'Pop culture', \"Women's issues\", 'Spiritual/inspirational/religious', 'Essay collection', 'Self-help/relationships', 'Sports', 'Business/leadership/law', 'Science'}\n",
      "Incompatible due to genres.\n",
      "Participant fiction genres: {''}\n",
      "Publisher fiction genres: {'Family saga/drama', 'Science fiction', 'Mystery/crime', 'Southern', 'Thriller', \"Women's\", 'Upmarket commercial/book club', 'Historical', 'Fantasy', 'Graphic novel', 'Literary', 'Christian', 'Mainstream/commercial', 'Romance', 'Coming-of-age', 'Horror/Supernatural', 'Speculative fiction/myths & fairy tales', 'Contemporary', 'Young adult', 'Middle grade', 'Suspense', 'LGBTQ+', 'Short story collection'}\n",
      "Participant nonfiction genres: {'Memoir'}\n",
      "Publisher nonfiction genres: {'Current events/politics/social commentary', 'Cooking/food/cookbooks', 'Narrative nonfiction/journalism', 'History/biography', 'Health/diet/wellness', 'Pop culture', \"Women's issues\", 'Spiritual/inspirational/religious', 'Essay collection', 'Self-help/relationships', 'Sports', 'Business/leadership/law', 'Science'}\n",
      "Incompatible due to publisher overlap. Participant publishers: {'Jynastie Wilson'}, Slot publishers: {'Jynastie Wilson', 'Dianna Vega'}\n",
      "Incompatible due to genres.\n",
      "Participant fiction genres: {\"Children's picture/chapter books\"}\n",
      "Publisher fiction genres: {'Family saga/drama', 'Science fiction', 'Mystery/crime', 'Humor', 'Thriller', \"Women's\", 'Upmarket commercial/book club', 'Historical', 'Fantasy', 'Mainstream/commercial', 'Romance', 'Coming-of-age', 'Horror/Supernatural', 'Speculative fiction/myths & fairy tales', 'Young adult', 'Contemporary', 'Middle grade', 'Suspense', 'LGBTQ+'}\n",
      "Participant nonfiction genres: {'Spiritual/inspirational/religious'}\n",
      "Publisher nonfiction genres: {'Pop culture', 'Humor', 'Memoir', \"Women's issues\"}\n",
      "Incompatible due to genres.\n",
      "Participant fiction genres: {\"Children's picture/chapter books\"}\n",
      "Publisher fiction genres: {'Family saga/drama', 'Science fiction', 'Mystery/crime', 'Humor', 'Thriller', \"Women's\", 'Upmarket commercial/book club', 'Historical', 'Fantasy', 'Mainstream/commercial', 'Romance', 'Coming-of-age', 'Horror/Supernatural', 'Speculative fiction/myths & fairy tales', 'Young adult', 'Contemporary', 'Middle grade', 'Suspense', 'LGBTQ+'}\n",
      "Participant nonfiction genres: {'Spiritual/inspirational/religious'}\n",
      "Publisher nonfiction genres: {'Pop culture', 'Humor', 'Memoir', \"Women's issues\"}\n",
      "Incompatible due to genres.\n",
      "Participant fiction genres: {\"Children's picture/chapter books\"}\n",
      "Publisher fiction genres: {'Middle grade', 'Humor', 'Magical realism', 'Thriller', 'Science fiction', 'Mainstream/commercial', \"Women's\", 'Romance', 'LGBTQ+', 'Upmarket commercial/book club', 'Coming-of-age', 'Horror/Supernatural', 'Historical', 'Southern', 'Speculative fiction/myths & fairy tales', 'Young adult', 'Contemporary', 'Fantasy'}\n",
      "Participant nonfiction genres: {'Spiritual/inspirational/religious'}\n",
      "Publisher nonfiction genres: set()\n",
      "Incompatible due to genres.\n",
      "Participant fiction genres: {\"Children's picture/chapter books\"}\n",
      "Publisher fiction genres: {'Middle grade', 'Humor', 'Magical realism', 'Thriller', 'Science fiction', 'Mainstream/commercial', \"Women's\", 'Romance', 'LGBTQ+', 'Upmarket commercial/book club', 'Coming-of-age', 'Horror/Supernatural', 'Historical', 'Southern', 'Speculative fiction/myths & fairy tales', 'Young adult', 'Contemporary', 'Fantasy'}\n",
      "Participant nonfiction genres: {'Spiritual/inspirational/religious'}\n",
      "Publisher nonfiction genres: set()\n",
      "Incompatible due to genres.\n",
      "Participant fiction genres: {''}\n",
      "Publisher fiction genres: {'Middle grade', 'Humor', 'Magical realism', 'Thriller', 'Science fiction', 'Mainstream/commercial', \"Women's\", 'Romance', 'LGBTQ+', 'Upmarket commercial/book club', 'Coming-of-age', 'Horror/Supernatural', 'Historical', 'Southern', 'Speculative fiction/myths & fairy tales', 'Young adult', 'Contemporary', 'Fantasy'}\n",
      "Participant nonfiction genres: {'Memoir', 'Narrative nonfiction/journalism'}\n",
      "Publisher nonfiction genres: set()\n",
      "Incompatible due to publisher overlap. Participant publishers: {'Paloma Hernando'}, Slot publishers: {'Paloma Hernando', 'Jéla Lewter'}\n",
      "Incompatible due to genres.\n",
      "Participant fiction genres: {''}\n",
      "Publisher fiction genres: {'Literary', 'Science fiction', \"Children's picture/chapter books\", 'LGBTQ+', 'Romance', 'Horror/Supernatural', 'Southern', 'Speculative fiction/myths & fairy tales', 'Young adult', 'Fantasy', 'Graphic novel'}\n",
      "Participant nonfiction genres: {'Memoir', 'Narrative nonfiction/journalism'}\n",
      "Publisher nonfiction genres: set()\n",
      "Incompatible due to genres.\n",
      "Participant fiction genres: {\"Children's picture/chapter books\"}\n",
      "Publisher fiction genres: {'Family saga/drama', 'Thriller', 'Literary', 'Suspense', 'Mainstream/commercial', \"Women's\", 'Upmarket commercial/book club', 'LGBTQ+', 'Horror/Supernatural', 'Historical', 'Mystery/crime', 'Southern', 'Speculative fiction/myths & fairy tales'}\n",
      "Participant nonfiction genres: {'Spiritual/inspirational/religious'}\n",
      "Publisher nonfiction genres: {'Narrative nonfiction/journalism', 'History/biography', 'Pop culture', 'Memoir', \"Women's issues\", 'Essay collection', 'Science'}\n",
      "Incompatible due to genres.\n",
      "Participant fiction genres: {\"Children's picture/chapter books\"}\n",
      "Publisher fiction genres: {'Middle grade', 'Humor', 'Thriller', 'Literary', 'Science fiction', 'Suspense', 'Mainstream/commercial', \"Women's\", 'Romance', 'LGBTQ+', 'Young adult', 'Coming-of-age', 'Mystery/crime', 'Speculative fiction/myths & fairy tales', 'Contemporary', 'Fantasy'}\n",
      "Participant nonfiction genres: {'Spiritual/inspirational/religious'}\n",
      "Publisher nonfiction genres: {'Business/leadership/law', 'Health/diet/wellness', 'Sports'}\n",
      "Incompatible due to genres.\n",
      "Participant fiction genres: {''}\n",
      "Publisher fiction genres: {'Middle grade', 'Humor', 'Thriller', 'Literary', 'Science fiction', 'Suspense', 'Mainstream/commercial', \"Women's\", 'Romance', 'LGBTQ+', 'Young adult', 'Coming-of-age', 'Mystery/crime', 'Speculative fiction/myths & fairy tales', 'Contemporary', 'Fantasy'}\n",
      "Participant nonfiction genres: {'Memoir', 'Narrative nonfiction/journalism'}\n",
      "Publisher nonfiction genres: {'Business/leadership/law', 'Health/diet/wellness', 'Sports'}\n",
      "Incompatible due to genres.\n",
      "Participant fiction genres: {''}\n",
      "Publisher fiction genres: {'Middle grade', 'Humor', 'Magical realism', 'Thriller', 'Science fiction', 'Mainstream/commercial', \"Women's\", 'Romance', 'LGBTQ+', 'Upmarket commercial/book club', 'Coming-of-age', 'Horror/Supernatural', 'Historical', 'Southern', 'Speculative fiction/myths & fairy tales', 'Young adult', 'Contemporary', 'Fantasy'}\n",
      "Participant nonfiction genres: {'Memoir', 'Narrative nonfiction/journalism'}\n",
      "Publisher nonfiction genres: set()\n",
      "Incompatible due to genres.\n",
      "Participant fiction genres: {\"Children's picture/chapter books\"}\n",
      "Publisher fiction genres: {'Family saga/drama', 'Thriller', 'Literary', 'Suspense', 'Mainstream/commercial', \"Women's\", 'Upmarket commercial/book club', 'LGBTQ+', 'Horror/Supernatural', 'Historical', 'Mystery/crime', 'Southern', 'Speculative fiction/myths & fairy tales'}\n",
      "Participant nonfiction genres: {'Spiritual/inspirational/religious'}\n",
      "Publisher nonfiction genres: {'Narrative nonfiction/journalism', 'History/biography', 'Pop culture', 'Memoir', \"Women's issues\", 'Essay collection', 'Science'}\n",
      "Incompatible due to genres.\n",
      "Participant fiction genres: {\"Children's picture/chapter books\"}\n",
      "Publisher fiction genres: {'Middle grade', 'Humor', 'Magical realism', 'Thriller', 'Science fiction', 'Mainstream/commercial', \"Women's\", 'Romance', 'LGBTQ+', 'Upmarket commercial/book club', 'Coming-of-age', 'Horror/Supernatural', 'Historical', 'Southern', 'Speculative fiction/myths & fairy tales', 'Young adult', 'Contemporary', 'Fantasy'}\n",
      "Participant nonfiction genres: {'Spiritual/inspirational/religious'}\n",
      "Publisher nonfiction genres: set()\n",
      "Incompatible due to genres.\n",
      "Participant fiction genres: {''}\n",
      "Publisher fiction genres: {'Middle grade', 'Humor', 'Magical realism', 'Thriller', 'Science fiction', 'Mainstream/commercial', \"Women's\", 'Romance', 'LGBTQ+', 'Upmarket commercial/book club', 'Coming-of-age', 'Horror/Supernatural', 'Historical', 'Southern', 'Speculative fiction/myths & fairy tales', 'Young adult', 'Contemporary', 'Fantasy'}\n",
      "Participant nonfiction genres: {'Memoir', 'Narrative nonfiction/journalism'}\n",
      "Publisher nonfiction genres: set()\n",
      "Incompatible due to genres.\n",
      "Participant fiction genres: {\"Children's picture/chapter books\"}\n",
      "Publisher fiction genres: {'Middle grade', 'Humor', 'Thriller', 'Literary', 'Science fiction', 'Suspense', 'Mainstream/commercial', \"Women's\", 'Romance', 'LGBTQ+', 'Young adult', 'Coming-of-age', 'Mystery/crime', 'Speculative fiction/myths & fairy tales', 'Contemporary', 'Fantasy'}\n",
      "Participant nonfiction genres: {'Spiritual/inspirational/religious'}\n",
      "Publisher nonfiction genres: {'Business/leadership/law', 'Health/diet/wellness', 'Sports'}\n",
      "Incompatible due to genres.\n",
      "Participant fiction genres: {''}\n",
      "Publisher fiction genres: {'Middle grade', 'Humor', 'Thriller', 'Literary', 'Science fiction', 'Suspense', 'Mainstream/commercial', \"Women's\", 'Romance', 'LGBTQ+', 'Young adult', 'Coming-of-age', 'Mystery/crime', 'Speculative fiction/myths & fairy tales', 'Contemporary', 'Fantasy'}\n",
      "Participant nonfiction genres: {'Memoir', 'Narrative nonfiction/journalism'}\n",
      "Publisher nonfiction genres: {'Business/leadership/law', 'Health/diet/wellness', 'Sports'}\n",
      "All participants successfully assigned with seed: 0\n",
      "                             Email      timeslot_start       room_name  ...                         publisher_nonfiction_genre workshop    virtual\n",
      "0               ncglenn1@gmail.com 2025-05-02 16:15:00   Board Room IV  ...                                                 []    False    Virtual\n",
      "1                    tk@tkread.com 2025-05-02 14:00:00   Board Room II  ...  [Essay collection, History/biography, Memoir, ...     True    Virtual\n",
      "2         jjduboisauthor@gmail.com 2025-05-02 16:00:00   Board Room IV  ...                                                 []    False  In person\n",
      "3     Walter.r.lancaster@gmail.com 2025-05-02 13:45:00  Board Room III  ...  [Business/leadership/law, Health/diet/wellness...    False  In person\n",
      "4          desiree.adams@gmail.com 2025-05-02 14:15:00         Dogwood  ...  [Business/leadership/law, Essay collection, Hi...     True  In person\n",
      "..                             ...                 ...             ...  ...                                                ...      ...        ...\n",
      "60           capucina713@gmail.com 2025-05-02 14:30:00       Riverdale  ...       [Humor, Memoir, Pop culture, Women's issues]     True  In person\n",
      "61  Makaylahchambers2019@gmail.com 2025-05-02 14:15:00   Board Room VI  ...                                                 []     True  In person\n",
      "62                mogboz@gmail.com 2025-05-02 14:30:00    Board Room V  ...  [Business/leadership/law, Current events/polit...     True  In person\n",
      "63             arundar@hotmail.com 2025-05-02 14:15:00   Board Room II  ...  [Essay collection, History/biography, Memoir, ...     True  In person\n",
      "64                mogboz@gmail.com 2025-05-02 15:00:00    Board Room V  ...  [Business/leadership/law, Current events/polit...     True  In person\n",
      "\n",
      "[65 rows x 11 columns]\n"
     ]
    }
   ],
   "source": [
    "assignments = []\n",
    "\n",
    "# Create a new dataset with all the people:\n",
    "participants_df = expanded_query_critiques.copy()\n",
    "slots_df = times_friday2\n",
    "\n",
    "# Helper function to check slot compatibility\n",
    "def is_slot_compatible(participant, slot):\n",
    "\n",
    "    # Check if at least one genre matches\n",
    "    participant_fiction_genres = set(participant['fiction_genre'])\n",
    "    slot_fiction_genres = set(slot['combined_fiction'])\n",
    "\n",
    "    participant_nonfiction_genres = set(participant['nonfiction_genre'])\n",
    "    slot_nonfiction_genres = set(slot['combined_nonfiction'])\n",
    "\n",
    "    if not (participant_fiction_genres & slot_fiction_genres or participant_nonfiction_genres & slot_nonfiction_genres):\n",
    "        print(f\"Incompatible due to genres.\") \n",
    "        print(f\"Participant fiction genres: {participant_fiction_genres}\")\n",
    "        print(f\"Publisher fiction genres: {slot_fiction_genres}\")\n",
    "        print(f\"Participant nonfiction genres: {participant_nonfiction_genres}\") \n",
    "        print(f\"Publisher nonfiction genres: {slot_nonfiction_genres}\")\n",
    "        return False\n",
    "\n",
    "    # Check publisher overlap\n",
    "    participant_pubs = set(participant['chosen_pubs'])\n",
    "    slot_pubs = {slot['pubname1'], slot['pubname2']}\n",
    "    if participant_pubs.intersection(slot_pubs):\n",
    "        print(f\"Incompatible due to publisher overlap. Participant publishers: {participant_pubs}, Slot publishers: {slot_pubs}\")\n",
    "        return False\n",
    "\n",
    "    # Check if they're a workshop person and don't assign for 4pm or later\n",
    "    if participant['Friday_workshop'] and slot['timeslot_start'].hour >= 16:\n",
    "        return False\n",
    "\n",
    "    return True\n",
    "\n",
    "# Define a function to perform the assignment process\n",
    "def assign_participants(participants_df, slots_df, seed):\n",
    "    # Shuffle slots_df with the given seed\n",
    "    randomized_slots = slots_df.sample(frac=1, random_state=seed).reset_index(drop=True)\n",
    "    assignments_local = []\n",
    "\n",
    "    # Create a copy of participants_df to modify\n",
    "    remaining_participants = participants_df.copy()\n",
    "\n",
    "    for _, slot in randomized_slots.iterrows():\n",
    "        if remaining_participants.empty:\n",
    "            break  # Exit if all participants are assigned\n",
    "\n",
    "        for index, participant in remaining_participants.iterrows():\n",
    "            # Skip participants already assigned to conflicting slots\n",
    "            assigned_slots = [a['timeslot_start'] for a in assignments_local if a['Email'] == participant['Email']]\n",
    "            if any(abs(slot['timeslot_start'] - assigned) <= timedelta(minutes=15) for assigned in assigned_slots):\n",
    "                continue\n",
    "\n",
    "            # Check slot compatibility\n",
    "            if is_slot_compatible(participant, slot):\n",
    "                assignments_local.append({\n",
    "                    'Email': participant['Email'],\n",
    "                    'timeslot_start': slot['timeslot_start'],\n",
    "                    'room_name': slot['room_name'],\n",
    "                    'pubname1': slot['pubname1'],\n",
    "                    'pubname2': slot['pubname2'],\n",
    "                    'participant_fiction_genre': ', '.join(participant['fiction_genre']),\n",
    "                    'participant_nonfiction_genre': ', '.join(participant['nonfiction_genre']),\n",
    "                    'publisher_fiction_genre': slot['combined_fiction'],\n",
    "                    'publisher_nonfiction_genre': slot['combined_nonfiction'],\n",
    "                    'workshop': participant['Friday_workshop'],\n",
    "                    'virtual': participant['Virtual']\n",
    "                })\n",
    "\n",
    "                # Remove the assigned participant row\n",
    "                remaining_participants.drop(index, inplace=True)\n",
    "                break\n",
    "\n",
    "    return assignments_local, remaining_participants\n",
    "\n",
    "# Attempt to assign participants with different seeds until successful\n",
    "seed = 0\n",
    "while True:\n",
    "    print(f\"Trying seed: {seed}\")\n",
    "    assignments, remaining = assign_participants(participants_df, slots_df, seed)\n",
    "    \n",
    "    if remaining.empty:  # All participants assigned\n",
    "        print(f\"All participants successfully assigned with seed: {seed}\")\n",
    "        break\n",
    "\n",
    "    print(f\"Unassigned participants remain with seed: {seed}, retrying...\")\n",
    "    seed += 1  # Increment the seed for the next iteration\n",
    "\n",
    "# Convert assignments to a DataFrame\n",
    "assignments_df = pd.DataFrame(assignments)\n",
    "\n",
    "# Output\n",
    "print(assignments_df)"
   ]
  },
  {
   "cell_type": "code",
   "execution_count": 215,
   "metadata": {
    "vscode": {
     "languageId": "python"
    }
   },
   "outputs": [
    {
     "name": "stdout",
     "output_type": "stream",
     "text": [
      "65\n",
      "True\n"
     ]
    }
   ],
   "source": [
    "print(len(participants_df))\n",
    "print(len(expanded_query_critiques)== len(assignments_df))"
   ]
  },
  {
   "cell_type": "markdown",
   "metadata": {},
   "source": [
    "Woohoo! That looks amazing, and all participants got slotted! Let's just add in some checks to flag participants who have bad criteria."
   ]
  },
  {
   "cell_type": "code",
   "execution_count": 216,
   "metadata": {
    "vscode": {
     "languageId": "python"
    }
   },
   "outputs": [],
   "source": [
    "# Flag participants with a Friday workshop and slots from 4-5pm\n",
    "\n",
    "assignments_df['Flag'] = assignments_df.apply(\n",
    "    lambda x: (x['workshop']) and (x['timeslot_start'].hour >= 16),  # After 4pm check\n",
    "    axis=1\n",
    ")"
   ]
  },
  {
   "cell_type": "code",
   "execution_count": 217,
   "metadata": {
    "vscode": {
     "languageId": "python"
    }
   },
   "outputs": [
    {
     "name": "stdout",
     "output_type": "stream",
     "text": [
      "Flag\n",
      "False    65\n",
      "Name: count, dtype: int64\n"
     ]
    }
   ],
   "source": [
    "print(assignments_df['Flag'].value_counts())"
   ]
  },
  {
   "cell_type": "markdown",
   "metadata": {},
   "source": [
    "Okay, awesome! We're good to go, and now let's just print out the csv file with all the assignments, and also save the dataset as a final (better named) dataset."
   ]
  },
  {
   "cell_type": "code",
   "execution_count": 218,
   "metadata": {
    "vscode": {
     "languageId": "python"
    }
   },
   "outputs": [],
   "source": [
    "final_friday_assignments = assignments_df\n",
    "\n",
    "del(assignments_df, participants_df, slots_df, query_critiques,ranks_per_pub, seed, clean_genres, combine_variables, expand_dataframe, count_genres,\n",
    "    count_overlapping_genres, count_overlapping_nonfiction, is_slot_compatible, genre_counts, assignments)"
   ]
  },
  {
   "cell_type": "markdown",
   "metadata": {},
   "source": [
    "Lastly, create a column called 'publisher' that is a merging of the two publishers names, and also add a variable 'Session' that says 'Query Letter Critiques'. Oh, and add in a variable for 'Timekeeper', which is True/False depending on if the participant is a timekeeper that day or not."
   ]
  },
  {
   "cell_type": "code",
   "execution_count": 219,
   "metadata": {
    "vscode": {
     "languageId": "python"
    }
   },
   "outputs": [],
   "source": [
    "final_friday_assignments['publisher'] = final_friday_assignments['pubname1'] + \" and \" + final_friday_assignments['pubname2']\n",
    "final_friday_assignments['Session'] = \"Query Letter Critiques\"\n",
    "final_friday_assignments['Timekeeper'] = final_friday_assignments['Email'].isin(timekeepers['Email'])\n"
   ]
  },
  {
   "cell_type": "markdown",
   "metadata": {},
   "source": [
    "Lastly, let's link in the first and last names,as well as phone numbers."
   ]
  },
  {
   "cell_type": "code",
   "execution_count": 220,
   "metadata": {
    "vscode": {
     "languageId": "python"
    }
   },
   "outputs": [],
   "source": [
    "final_friday_assignments2 = pd.merge(final_friday_assignments, registered[['Email', 'First Name', 'Last Name', 'phone']].drop_duplicates(), on=\"Email\", how=\"inner\")"
   ]
  },
  {
   "cell_type": "code",
   "execution_count": 221,
   "metadata": {
    "vscode": {
     "languageId": "python"
    }
   },
   "outputs": [],
   "source": [
    "final_friday_assignments.to_excel(f\"Outputs/Finalized datasets/Final_Friday_query_letter_critique_assignments_{today}.xlsx\", index=False)"
   ]
  },
  {
   "cell_type": "markdown",
   "metadata": {},
   "source": [
    "Sweet. Now we're good to go on Friday, so let's move on to Saturday assignments, which are easier. For these, the publishers have already been assigned to their own rooms, and our participants signed up to meet with specific agents and editors, so we just need to assign them to specific times."
   ]
  },
  {
   "cell_type": "markdown",
   "metadata": {},
   "source": [
    "## 3. Friday Author Coaching"
   ]
  },
  {
   "cell_type": "markdown",
   "metadata": {},
   "source": [
    "Starting for May 2025, George added in 'Author coaching' as one of the types of sessions participates could select when registering. These are scheduled AROUND the query letter critiques (if relevant), and so as not to coincide with the Friday workshop at 4pm (if relevant).\n",
    "\n",
    "Now that we've assigned everyone above, we now need to:\n",
    "1) Create a list of anyone who's signed up for coaching\n",
    "2) Add in information about what times they have their query critiques (if applicable)\n",
    "3) Add in information about whether they're in the Friday workshop (add those two times, 4:00 and 4:15, as times to exclude).\n",
    "\n",
    "We also need to load the times and room information."
   ]
  },
  {
   "cell_type": "code",
   "execution_count": 222,
   "metadata": {
    "vscode": {
     "languageId": "python"
    }
   },
   "outputs": [
    {
     "name": "stderr",
     "output_type": "stream",
     "text": [
      "<positron-console-cell-222>:2: SettingWithCopyWarning: \n",
      "A value is trying to be set on a copy of a slice from a DataFrame.\n",
      "Try using .loc[row_indexer,col_indexer] = value instead\n",
      "\n",
      "See the caveats in the documentation: https://pandas.pydata.org/pandas-docs/stable/user_guide/indexing.html#returning-a-view-versus-a-copy\n",
      "<positron-console-cell-222>:3: SettingWithCopyWarning: \n",
      "A value is trying to be set on a copy of a slice from a DataFrame.\n",
      "Try using .loc[row_indexer,col_indexer] = value instead\n",
      "\n",
      "See the caveats in the documentation: https://pandas.pydata.org/pandas-docs/stable/user_guide/indexing.html#returning-a-view-versus-a-copy\n"
     ]
    }
   ],
   "source": [
    "reg_coaching = registered.loc[registered['Agenda Item Name'].str.contains(\"Coach\"), :]\n",
    "reg_coaching['Friday_workshop'] = reg_coaching['Email'].isin(fri_workshop['Email'])\n",
    "reg_coaching['QLC'] = reg_coaching['Email'].isin(final_friday_assignments2['Email'])"
   ]
  },
  {
   "cell_type": "markdown",
   "metadata": {},
   "source": [
    "Okay, we need to update the timeslots thing so that they are datetimes."
   ]
  },
  {
   "cell_type": "code",
   "execution_count": 223,
   "metadata": {
    "vscode": {
     "languageId": "python"
    }
   },
   "outputs": [],
   "source": [
    "# Convert the 'timeslot_start' to datetime variable\n",
    "tslist_coach['timeslot_start'] = pd.to_datetime(date_str_fri + ' ' + tslist_coach['timeslot_start'].astype(str))\n",
    "\n",
    "# Adjust the times to represent the afternoon (add 12 hours if in AM range)\n",
    "tslist_coach['timeslot_start'] = tslist_coach['timeslot_start'].apply(\n",
    "    lambda x: x + pd.Timedelta(hours=12) if x.hour < 12 else x\n",
    ")\n",
    "\n",
    "from datetime import timedelta\n"
   ]
  },
  {
   "cell_type": "code",
   "execution_count": 224,
   "metadata": {
    "vscode": {
     "languageId": "python"
    }
   },
   "outputs": [],
   "source": [
    "# We need to create an alternate version of the friday assignments dataset so that we can add buffer times for our purposes here:\n",
    "publisher_meetings = final_friday_assignments2.copy()\n",
    "publisher_meetings['timeslot_end'] = publisher_meetings['timeslot_start'] + timedelta(minutes=15)\n",
    "publisher_meetings['buffer_start'] = publisher_meetings['timeslot_start'] - timedelta(minutes=15)\n",
    "publisher_meetings['buffer_end'] = publisher_meetings['timeslot_end'] + timedelta(minutes=15)\n"
   ]
  },
  {
   "cell_type": "code",
   "execution_count": 225,
   "metadata": {
    "vscode": {
     "languageId": "python"
    }
   },
   "outputs": [],
   "source": [
    "# We also need to add end times for the coaching meetings. Note that they're technically 15 minutes, but we'll ignore that and pretend they're 17 since there's a two minute break between them\n",
    "tslist_coach['timeslot_end'] = tslist_coach['timeslot_start'] + timedelta(minutes=17)"
   ]
  },
  {
   "cell_type": "code",
   "execution_count": 226,
   "metadata": {
    "vscode": {
     "languageId": "python"
    }
   },
   "outputs": [
    {
     "name": "stdout",
     "output_type": "stream",
     "text": [
      "Trying seed: 0\n",
      "All participants successfully assigned with seed: 0\n"
     ]
    }
   ],
   "source": [
    "coaching_timeslots = tslist_coach.copy()\n",
    "\n",
    "def assign_coaching_meetings(seed):\n",
    "    # Shuffle timeslots with the given seed\n",
    "    randomized_timeslots = coaching_timeslots.sample(frac=1, random_state=seed).reset_index(drop=True)\n",
    "    coaching_schedule = []\n",
    "    remaining_participants = reg_coaching.copy()\n",
    "\n",
    "    for _, participant in remaining_participants.iterrows():\n",
    "        Email = participant['Email']\n",
    "        selected_coach = participant['Agenda Item Name']\n",
    "        workshop_flag = participant['Friday_workshop']\n",
    "        \n",
    "        # Exclude slots that conflict with publisher meetings\n",
    "        valid_slots = randomized_timeslots[~randomized_timeslots.apply(\n",
    "            lambda slot: any(\n",
    "                (publisher_meetings['buffer_start'] <= slot['timeslot_start']) &\n",
    "                (slot['timeslot_start'] < publisher_meetings['buffer_end'])\n",
    "            ), axis=1\n",
    "        )]\n",
    "\n",
    "        # Exclude slots after 4:00 PM for workshop participants\n",
    "        if workshop_flag:\n",
    "            valid_slots = valid_slots[valid_slots['timeslot_start'].dt.hour < 16]\n",
    "        \n",
    "        # Assign the first valid slot\n",
    "        if not valid_slots.empty:\n",
    "            chosen_slot = valid_slots.iloc[0]\n",
    "            coaching_schedule.append({\n",
    "                'Email': Email,\n",
    "                'Session': selected_coach,\n",
    "                'timeslot_start': chosen_slot['timeslot_start'],\n",
    "                'publisher': chosen_slot['coach'],\n",
    "                'room_name': chosen_slot['room_name']\n",
    "            })\n",
    "\n",
    "            # Remove the chosen slot to prevent double-booking\n",
    "            randomized_timeslots.drop(valid_slots.index[0], inplace=True)\n",
    "        else:\n",
    "            # If no valid slots remain, return the incomplete schedule\n",
    "            return pd.DataFrame(coaching_schedule), remaining_participants\n",
    "\n",
    "    return pd.DataFrame(coaching_schedule), pd.DataFrame()  # Return schedule and empty DataFrame if all assigned\n",
    "\n",
    "# Try different seeds until all participants are successfully assigned\n",
    "seed = 0\n",
    "while True:\n",
    "    print(f\"Trying seed: {seed}\")\n",
    "    coaching_schedule, unassigned = assign_coaching_meetings(seed)\n",
    "    \n",
    "    if unassigned.empty:\n",
    "        print(f\"All participants successfully assigned with seed: {seed}\")\n",
    "        break\n",
    "\n",
    "    print(f\"Unassigned participants remain with seed: {seed}, retrying...\")\n",
    "    seed += 1\n",
    "\n",
    "# Output the final coaching schedule\n",
    "#print(coaching_schedule)"
   ]
  },
  {
   "cell_type": "code",
   "execution_count": 227,
   "metadata": {
    "vscode": {
     "languageId": "python"
    }
   },
   "outputs": [
    {
     "data": {
      "text/plain": [
       "True"
      ]
     },
     "execution_count": null,
     "metadata": {},
     "output_type": "execute_result"
    }
   ],
   "source": [
    "# Check that the numbers match\n",
    "len(coaching_schedule) == len(reg_coaching)"
   ]
  },
  {
   "cell_type": "code",
   "execution_count": 228,
   "metadata": {
    "vscode": {
     "languageId": "python"
    }
   },
   "outputs": [],
   "source": [
    "del(coaching_timeslots, assign_coaching_meetings, assign_participants)"
   ]
  },
  {
   "cell_type": "code",
   "execution_count": 229,
   "metadata": {
    "vscode": {
     "languageId": "python"
    }
   },
   "outputs": [],
   "source": [
    "# Add in the first and last names\n",
    "coaching_schedule = pd.merge(coaching_schedule, registered[['Email', 'First Name', 'Last Name', 'phone']].drop_duplicates(), on=\"Email\", how=\"inner\")"
   ]
  },
  {
   "cell_type": "code",
   "execution_count": 230,
   "metadata": {
    "vscode": {
     "languageId": "python"
    }
   },
   "outputs": [],
   "source": [
    "# Save this scheduling\n",
    "coaching_schedule.to_excel(f\"Outputs/Finalized datasets/Finalized coaching schedule_{today}.xlsx\", index=False)"
   ]
  },
  {
   "cell_type": "markdown",
   "metadata": {},
   "source": [
    "## 3. Saturday Morning - Manuscript critique scheduling\n",
    "This is the easiest scheduling assignment. Everyone has already signed up for their critiques, so we just need to make sure:\n",
    "\n",
    "1) Nobody is scheduled back-to-back (for anyone with multiple)\n",
    "2) Timekeepers aren't first or last\n",
    "3) Virtual participants are grouped back-to-back (we will prioritize them for the first time slots per room).\n",
    "\n",
    "Ideally, we also try to ensure that there's only one substitute for each time slot, though we have plenty of substitute timekeepers. This can just be a manual check and fix later on."
   ]
  },
  {
   "cell_type": "code",
   "execution_count": 231,
   "metadata": {
    "vscode": {
     "languageId": "python"
    }
   },
   "outputs": [],
   "source": [
    "# Assign the individual publishers to their respective rooms for Saturday morning (MS) and Saturday afternoon (Pitches)\n",
    "times_sat = pd.concat([rooms_saturday.reset_index(drop=True), pubs.reset_index(drop=True)], axis=1)\n",
    "\n",
    "tslist_satmorn= pd.merge(timeslots.loc[(timeslots['day']=='Saturday') & (timeslots['day_session']=='Morning'), :], times_sat, how='outer', on='day')\n",
    "tslist_sataft= pd.merge(timeslots.loc[(timeslots['day']=='Saturday') & (timeslots['day_session']=='Afternoon'), :], times_sat, how='outer', on='day')"
   ]
  },
  {
   "cell_type": "code",
   "execution_count": 232,
   "metadata": {
    "vscode": {
     "languageId": "python"
    }
   },
   "outputs": [],
   "source": [
    "final_saturday_rooms = pd.concat([rooms_saturday.reset_index(drop=True), pubs.reset_index(drop=True)], axis=1)\n",
    "final_saturday_rooms.to_excel(f\"Outputs/Finalized datasets/Final saturday rooms_{today}.xlsx\")"
   ]
  },
  {
   "cell_type": "markdown",
   "metadata": {},
   "source": [
    "We need to create a single dataset for the manuscript critiques where every person has a row for their critique (as in, a person can have up to three rows)."
   ]
  },
  {
   "cell_type": "code",
   "execution_count": 233,
   "metadata": {
    "vscode": {
     "languageId": "python"
    }
   },
   "outputs": [],
   "source": [
    "del(msA, msB, msC, pitchA, pitchB, pitchC) # delete these - had originally kept for this but need virtual info\n",
    "msA = ms_critiques[['Email', 'Virtual', 'msA']]\n",
    "msB = ms_critiques[['Email', 'Virtual', 'msB']]\n",
    "msC = ms_critiques[['Email', 'Virtual', 'msC']]"
   ]
  },
  {
   "cell_type": "code",
   "execution_count": 234,
   "metadata": {
    "vscode": {
     "languageId": "python"
    }
   },
   "outputs": [],
   "source": [
    "msA = msA.rename(columns={'msA': 'publisher'})\n",
    "msB = msB.rename(columns={'msB': 'publisher'})\n",
    "msC = msC.rename(columns={'msC': 'publisher'})\n",
    "\n",
    "ms_all = pd.merge(pd.merge(msA, msB, on=['Email', 'Virtual', 'publisher'], how=\"outer\"), msC, on=['Email', 'Virtual', 'publisher'], how='outer')"
   ]
  },
  {
   "cell_type": "markdown",
   "metadata": {},
   "source": [
    "Drop any rows with NaN"
   ]
  },
  {
   "cell_type": "code",
   "execution_count": 235,
   "metadata": {
    "vscode": {
     "languageId": "python"
    }
   },
   "outputs": [],
   "source": [
    "ms_all = ms_all.dropna()"
   ]
  },
  {
   "cell_type": "code",
   "execution_count": 236,
   "metadata": {
    "vscode": {
     "languageId": "python"
    }
   },
   "outputs": [],
   "source": [
    "del(msA, msB, msC)"
   ]
  },
  {
   "cell_type": "markdown",
   "metadata": {},
   "source": [
    "Okay, now we just need to convert the timeslot_start to a timestamp variable"
   ]
  },
  {
   "cell_type": "code",
   "execution_count": 237,
   "metadata": {
    "vscode": {
     "languageId": "python"
    }
   },
   "outputs": [],
   "source": [
    "# Convert the 'timeslot_start' to datetime variable\n",
    "tslist_satmorn['timeslot_start'] = pd.to_datetime(date_str_sat + ' ' + tslist_satmorn['timeslot_start'].astype(str))"
   ]
  },
  {
   "cell_type": "code",
   "execution_count": 238,
   "metadata": {
    "vscode": {
     "languageId": "python"
    }
   },
   "outputs": [],
   "source": [
    "# Convert the 'timeslot_start' to datetime variable\n",
    "tslist_sataft['timeslot_start'] = pd.to_datetime(date_str_sat + ' ' + tslist_sataft['timeslot_start'].astype(str))\n",
    "\n",
    "# Adjust the times to represent the afternoon (add 12 hours if in AM range)\n",
    "tslist_sataft['timeslot_start'] = tslist_sataft['timeslot_start'].apply(\n",
    "    lambda x: x + pd.Timedelta(hours=12) if x.hour < 12 else x\n",
    ")"
   ]
  },
  {
   "cell_type": "markdown",
   "metadata": {},
   "source": [
    "Let's also identify the timekeepers' emails. We'll make sure not to give them the first or last time slot."
   ]
  },
  {
   "cell_type": "code",
   "execution_count": 239,
   "metadata": {
    "vscode": {
     "languageId": "python"
    }
   },
   "outputs": [],
   "source": [
    "timekeeps = timekeepers[['Email']].drop_duplicates()\n",
    "timekeeps = timekeeps['Email'].tolist()"
   ]
  },
  {
   "cell_type": "markdown",
   "metadata": {},
   "source": [
    "Whew! Okay, now it's time to assign the participants for the manuscript critiques. The code below works by:\n",
    "\n",
    "1) It fills alphabetically by the publisher name, so that Alexandria Brown gets all her timeslots filled first, before moving on to the next publisher in the alphabet. **NOTE**: I have it randomly filling time slots. It's not running by earliest time to latest time.\n",
    "\n",
    "2) It prioritizes assignment of participants according to how many manuscript critique slots they still need to be assigned. This means that for the first time slot it tries filling, it'll prioritize people with 3 critiques, then 2, then 1. As it continues to iterate and participants get assigned slots, a participant who initially had 3 meetings but who was already scheduled for 2 (meaning n_remaining=1) will get less priority over participants still with 2 or three meetings needing assignment.\n",
    "\n",
    "3) I randomly shuffled the participants within their priority groups. This means that participant emails are randomly ordered in the A) three remaining group, B) two remaining and C) one remaining group. This way we don't prioritize people according to the alphabetical ordering of their emails but just do random assignments. (I had implemented this because I had noticed initially that a lot of the T-Z emails weren't being assigned as readily).\n",
    "\n",
    "<font color='red'>**BIGGEST NOTE**:</font>\n",
    "This entire code is embedded within one giant function because I'm having it run this code repeatedly using different random seeds, until it finds the seed that ensures that ALL participants get assigned time slots. Then it stops and that's the seed number that's kept."
   ]
  },
  {
   "cell_type": "code",
   "execution_count": 240,
   "metadata": {
    "vscode": {
     "languageId": "python"
    }
   },
   "outputs": [
    {
     "name": "stdout",
     "output_type": "stream",
     "text": [
      "Trying seed 1...\n",
      "Trying seed 2...\n",
      "Trying seed 3...\n",
      "Success! All participants assigned using seed 3.\n"
     ]
    }
   ],
   "source": [
    "import random\n",
    "\n",
    "# Create copies of the datasets to use in the function, since we drop participants as we go\n",
    "slots_df = tslist_satmorn\n",
    "participants_df = ms_all.copy()\n",
    "\n",
    "# Get the earliest and latest timeslots\n",
    "earliest_time = slots_df['timeslot_start'].min()\n",
    "latest_time = slots_df['timeslot_start'].max()\n",
    "\n",
    "# Define a function to perform the assignment process\n",
    "def assign_slots_with_seed(participants_df, slots_df, seed):\n",
    "\n",
    "    # Add a column to flag timekeepers in the participants dataset\n",
    "    participants_df['is_timekeeper'] = participants_df['Email'].isin(timekeeps)\n",
    "\n",
    "    # Create the blank datasets and lists for the assignments and used-up slots\n",
    "    assignments = []\n",
    "    used_slots = set()\n",
    "\n",
    "    # Add a column to track the number of meetings each participant needs\n",
    "    participants_df['remaining_meetings'] = participants_df.groupby('Email')['Email'].transform('count')\n",
    "\n",
    "    # Repeat until all participants are assigned or no more slots remain\n",
    "    while not participants_df.empty:\n",
    "        assigned_any = False\n",
    "\n",
    "        for _, slot in slots_df.iterrows():\n",
    "            room_slot_id = (slot['timeslot_start'], slot['room_name'])\n",
    "\n",
    "            if room_slot_id in used_slots:\n",
    "                continue\n",
    "\n",
    "            if participants_df.empty:\n",
    "                break\n",
    "\n",
    "            sorted_participants = (\n",
    "                participants_df\n",
    "                .sample(frac=1, random_state=seed)  # Shuffle randomly\n",
    "                .sort_values(by='remaining_meetings', ascending=False)\n",
    "            )\n",
    "\n",
    "            for index, participant in sorted_participants.iterrows():\n",
    "\n",
    "                # Skip back-to-back assignments\n",
    "                assigned_slots = [\n",
    "                    (a['timeslot_start'], a['room_name']) for a in assignments if a['Email'] == participant['Email']\n",
    "                ]\n",
    "                if any(\n",
    "                    abs(slot['timeslot_start'] - assigned_time) <= timedelta(minutes=15)\n",
    "                    for assigned_time, _ in assigned_slots\n",
    "                ):\n",
    "                    continue\n",
    "\n",
    "                \n",
    "                # Skip the earliest and latest timeslots for timekeepers if possible\n",
    "                if participant['is_timekeeper'] and slot['timeslot_start'] in [earliest_time, latest_time]:\n",
    "                    # Check if there are other slots available for this participant\n",
    "                    has_alternative = any(\n",
    "                        set(participant['publisher']) == set(alt_slot['lit_guest_name']) and\n",
    "                        alt_slot['timeslot_start'] not in [earliest_time, latest_time] and\n",
    "                        (alt_slot['timeslot_start'], alt_slot['room_name']) not in used_slots\n",
    "                        for _, alt_slot in slots_df.iterrows()\n",
    "                    )\n",
    "                    if not has_alternative:\n",
    "                        continue\n",
    "\n",
    "                if set(participant['publisher']) == set(slot['lit_guest_name']):\n",
    "                    assignments.append({\n",
    "                        'Email': participant['Email'],\n",
    "                        'timeslot_start': slot['timeslot_start'],\n",
    "                        'room_name': slot['room_name'],\n",
    "                        'publisher': slot['lit_guest_name'],\n",
    "                        'virtual': participant['Virtual'],\n",
    "                        'Session': \"Manuscript critique\",\n",
    "                        'Timekeeper': participant['is_timekeeper']\n",
    "                    })\n",
    "                    used_slots.add(room_slot_id)\n",
    "                    participants_df.drop(index, inplace=True)\n",
    "                    participants_df['remaining_meetings'] = participants_df.groupby('Email')['Email'].transform('count')\n",
    "                    assigned_any = True\n",
    "                    break\n",
    "\n",
    "        if not assigned_any:\n",
    "            break\n",
    "\n",
    "    return assignments, participants_df\n",
    "\n",
    "# Initialize variables\n",
    "success = False\n",
    "max_attempts = 1000  # Limit the number of attempts\n",
    "seed = 0\n",
    "\n",
    "while not success and seed < max_attempts:\n",
    "    seed += 1\n",
    "    print(f\"Trying seed {seed}...\")\n",
    "    \n",
    "    # Copy the original dataframes to avoid modifying them directly\n",
    "    participants_copy = ms_all.copy()\n",
    "    slots_copy = tslist_satmorn.copy()\n",
    "\n",
    "    # Run the assignment process with the current seed\n",
    "    assignments, remaining_participants = assign_slots_with_seed(participants_copy, slots_copy, seed)\n",
    "\n",
    "    # Check if all participants were assigned\n",
    "    if remaining_participants.empty:\n",
    "        success = True\n",
    "        print(f\"Success! All participants assigned using seed {seed}.\")\n",
    "        break\n",
    "\n",
    "if success:\n",
    "    # Convert assignments to a DataFrame\n",
    "    assignments_df = pd.DataFrame(assignments)\n",
    "else:\n",
    "    print(\"Failed to assign all participants within the maximum number of attempts.\")\n"
   ]
  },
  {
   "cell_type": "markdown",
   "metadata": {},
   "source": [
    "Yay! This code works beautifully!! Everyone's been assigned and now let's just do a little cleaning, then repeat the process for the Saturday afternoon pitches."
   ]
  },
  {
   "cell_type": "code",
   "execution_count": 241,
   "metadata": {
    "vscode": {
     "languageId": "python"
    }
   },
   "outputs": [],
   "source": [
    "final_satmorn_assignments = assignments_df"
   ]
  },
  {
   "cell_type": "markdown",
   "metadata": {},
   "source": [
    "Let's just add in the first and last names, plus phones."
   ]
  },
  {
   "cell_type": "code",
   "execution_count": 242,
   "metadata": {
    "vscode": {
     "languageId": "python"
    }
   },
   "outputs": [],
   "source": [
    "final_satmorn_assignments2 = pd.merge(final_satmorn_assignments, registered[['Email', 'First Name', 'Last Name', 'phone']].drop_duplicates(), on='Email', how='inner')"
   ]
  },
  {
   "cell_type": "code",
   "execution_count": 243,
   "metadata": {
    "vscode": {
     "languageId": "python"
    }
   },
   "outputs": [],
   "source": [
    "del(assignments_df, ms_all, ms_critiques, participants_copy, slots_copy, slots_df, remaining_participants,\n",
    "    assignments, earliest_time, latest_time, seed, success, assign_slots_with_seed, final_friday_assignments, final_satmorn_assignments)"
   ]
  },
  {
   "cell_type": "code",
   "execution_count": 244,
   "metadata": {
    "vscode": {
     "languageId": "python"
    }
   },
   "outputs": [],
   "source": [
    "#  Save the dataset\n",
    "final_satmorn_assignments2.to_excel(f\"Outputs/Finalized datasets/Final manuscript critique assignments_{today}.xlsx\", index=False)"
   ]
  },
  {
   "cell_type": "markdown",
   "metadata": {},
   "source": [
    "## 4. Saturday Afternoon - Pitches"
   ]
  },
  {
   "cell_type": "markdown",
   "metadata": {},
   "source": [
    "Let's do the pitch assignments now! We'll do the exact same process, except using the saturday afternoon times and the pitch dataset."
   ]
  },
  {
   "cell_type": "code",
   "execution_count": 245,
   "metadata": {
    "vscode": {
     "languageId": "python"
    }
   },
   "outputs": [],
   "source": [
    "pitchA = pitches[['Email', 'Virtual', 'pitchA']]\n",
    "pitchB = pitches[['Email', 'Virtual', 'pitchB']]\n",
    "pitchC = pitches[['Email', 'Virtual', 'pitchC']]"
   ]
  },
  {
   "cell_type": "code",
   "execution_count": 246,
   "metadata": {
    "vscode": {
     "languageId": "python"
    }
   },
   "outputs": [],
   "source": [
    "pitchA = pitchA.rename(columns={'pitchA': 'publisher'})\n",
    "pitchB = pitchB.rename(columns={'pitchB': 'publisher'})\n",
    "pitchC = pitchC.rename(columns={'pitchC': 'publisher'})\n",
    "\n",
    "pitches_all = pd.merge(pd.merge(pitchA, pitchB, on=['Email', 'Virtual', 'publisher'], how=\"outer\"), pitchC, on=['Email', 'Virtual', 'publisher'], how='outer')"
   ]
  },
  {
   "cell_type": "code",
   "execution_count": 247,
   "metadata": {
    "vscode": {
     "languageId": "python"
    }
   },
   "outputs": [],
   "source": [
    "pitches_all = pitches_all.dropna()\n",
    "del(pitchA, pitchB, pitchC)"
   ]
  },
  {
   "cell_type": "code",
   "execution_count": 248,
   "metadata": {
    "vscode": {
     "languageId": "python"
    }
   },
   "outputs": [
    {
     "name": "stdout",
     "output_type": "stream",
     "text": [
      "Trying seed 1...\n"
     ]
    },
    {
     "name": "stderr",
     "output_type": "stream",
     "text": [
      "<positron-console-cell-248>:13: DeprecationWarning: DataFrameGroupBy.apply operated on the grouping columns. This behavior is deprecated, and in a future version of pandas the grouping columns will be excluded from the operation. Either pass `include_groups=False` to exclude the groupings or explicitly select the grouping columns after groupby to silence this warning.\n"
     ]
    },
    {
     "name": "stdout",
     "output_type": "stream",
     "text": [
      "Trying seed 2...\n"
     ]
    },
    {
     "name": "stderr",
     "output_type": "stream",
     "text": [
      "<positron-console-cell-248>:13: DeprecationWarning: DataFrameGroupBy.apply operated on the grouping columns. This behavior is deprecated, and in a future version of pandas the grouping columns will be excluded from the operation. Either pass `include_groups=False` to exclude the groupings or explicitly select the grouping columns after groupby to silence this warning.\n"
     ]
    },
    {
     "name": "stdout",
     "output_type": "stream",
     "text": [
      "Trying seed 3...\n"
     ]
    },
    {
     "name": "stderr",
     "output_type": "stream",
     "text": [
      "<positron-console-cell-248>:13: DeprecationWarning: DataFrameGroupBy.apply operated on the grouping columns. This behavior is deprecated, and in a future version of pandas the grouping columns will be excluded from the operation. Either pass `include_groups=False` to exclude the groupings or explicitly select the grouping columns after groupby to silence this warning.\n"
     ]
    },
    {
     "name": "stdout",
     "output_type": "stream",
     "text": [
      "Trying seed 4...\n"
     ]
    },
    {
     "name": "stderr",
     "output_type": "stream",
     "text": [
      "<positron-console-cell-248>:13: DeprecationWarning: DataFrameGroupBy.apply operated on the grouping columns. This behavior is deprecated, and in a future version of pandas the grouping columns will be excluded from the operation. Either pass `include_groups=False` to exclude the groupings or explicitly select the grouping columns after groupby to silence this warning.\n"
     ]
    },
    {
     "name": "stdout",
     "output_type": "stream",
     "text": [
      "Trying seed 5...\n"
     ]
    },
    {
     "name": "stderr",
     "output_type": "stream",
     "text": [
      "<positron-console-cell-248>:13: DeprecationWarning: DataFrameGroupBy.apply operated on the grouping columns. This behavior is deprecated, and in a future version of pandas the grouping columns will be excluded from the operation. Either pass `include_groups=False` to exclude the groupings or explicitly select the grouping columns after groupby to silence this warning.\n"
     ]
    },
    {
     "name": "stdout",
     "output_type": "stream",
     "text": [
      "Trying seed 6...\n"
     ]
    },
    {
     "name": "stderr",
     "output_type": "stream",
     "text": [
      "<positron-console-cell-248>:13: DeprecationWarning: DataFrameGroupBy.apply operated on the grouping columns. This behavior is deprecated, and in a future version of pandas the grouping columns will be excluded from the operation. Either pass `include_groups=False` to exclude the groupings or explicitly select the grouping columns after groupby to silence this warning.\n"
     ]
    },
    {
     "name": "stdout",
     "output_type": "stream",
     "text": [
      "Trying seed 7...\n"
     ]
    },
    {
     "name": "stderr",
     "output_type": "stream",
     "text": [
      "<positron-console-cell-248>:13: DeprecationWarning: DataFrameGroupBy.apply operated on the grouping columns. This behavior is deprecated, and in a future version of pandas the grouping columns will be excluded from the operation. Either pass `include_groups=False` to exclude the groupings or explicitly select the grouping columns after groupby to silence this warning.\n"
     ]
    },
    {
     "name": "stdout",
     "output_type": "stream",
     "text": [
      "Trying seed 8...\n"
     ]
    },
    {
     "name": "stderr",
     "output_type": "stream",
     "text": [
      "<positron-console-cell-248>:13: DeprecationWarning: DataFrameGroupBy.apply operated on the grouping columns. This behavior is deprecated, and in a future version of pandas the grouping columns will be excluded from the operation. Either pass `include_groups=False` to exclude the groupings or explicitly select the grouping columns after groupby to silence this warning.\n"
     ]
    },
    {
     "name": "stdout",
     "output_type": "stream",
     "text": [
      "Trying seed 9...\n"
     ]
    },
    {
     "name": "stderr",
     "output_type": "stream",
     "text": [
      "<positron-console-cell-248>:13: DeprecationWarning: DataFrameGroupBy.apply operated on the grouping columns. This behavior is deprecated, and in a future version of pandas the grouping columns will be excluded from the operation. Either pass `include_groups=False` to exclude the groupings or explicitly select the grouping columns after groupby to silence this warning.\n"
     ]
    },
    {
     "name": "stdout",
     "output_type": "stream",
     "text": [
      "Trying seed 10...\n"
     ]
    },
    {
     "name": "stderr",
     "output_type": "stream",
     "text": [
      "<positron-console-cell-248>:13: DeprecationWarning: DataFrameGroupBy.apply operated on the grouping columns. This behavior is deprecated, and in a future version of pandas the grouping columns will be excluded from the operation. Either pass `include_groups=False` to exclude the groupings or explicitly select the grouping columns after groupby to silence this warning.\n"
     ]
    },
    {
     "name": "stdout",
     "output_type": "stream",
     "text": [
      "Trying seed 11...\n"
     ]
    },
    {
     "name": "stderr",
     "output_type": "stream",
     "text": [
      "<positron-console-cell-248>:13: DeprecationWarning: DataFrameGroupBy.apply operated on the grouping columns. This behavior is deprecated, and in a future version of pandas the grouping columns will be excluded from the operation. Either pass `include_groups=False` to exclude the groupings or explicitly select the grouping columns after groupby to silence this warning.\n"
     ]
    },
    {
     "name": "stdout",
     "output_type": "stream",
     "text": [
      "Trying seed 12...\n"
     ]
    },
    {
     "name": "stderr",
     "output_type": "stream",
     "text": [
      "<positron-console-cell-248>:13: DeprecationWarning: DataFrameGroupBy.apply operated on the grouping columns. This behavior is deprecated, and in a future version of pandas the grouping columns will be excluded from the operation. Either pass `include_groups=False` to exclude the groupings or explicitly select the grouping columns after groupby to silence this warning.\n"
     ]
    },
    {
     "name": "stdout",
     "output_type": "stream",
     "text": [
      "Trying seed 13...\n"
     ]
    },
    {
     "name": "stderr",
     "output_type": "stream",
     "text": [
      "<positron-console-cell-248>:13: DeprecationWarning: DataFrameGroupBy.apply operated on the grouping columns. This behavior is deprecated, and in a future version of pandas the grouping columns will be excluded from the operation. Either pass `include_groups=False` to exclude the groupings or explicitly select the grouping columns after groupby to silence this warning.\n"
     ]
    },
    {
     "name": "stdout",
     "output_type": "stream",
     "text": [
      "Trying seed 14...\n"
     ]
    },
    {
     "name": "stderr",
     "output_type": "stream",
     "text": [
      "<positron-console-cell-248>:13: DeprecationWarning: DataFrameGroupBy.apply operated on the grouping columns. This behavior is deprecated, and in a future version of pandas the grouping columns will be excluded from the operation. Either pass `include_groups=False` to exclude the groupings or explicitly select the grouping columns after groupby to silence this warning.\n"
     ]
    },
    {
     "name": "stdout",
     "output_type": "stream",
     "text": [
      "Trying seed 15...\n"
     ]
    },
    {
     "name": "stderr",
     "output_type": "stream",
     "text": [
      "<positron-console-cell-248>:13: DeprecationWarning: DataFrameGroupBy.apply operated on the grouping columns. This behavior is deprecated, and in a future version of pandas the grouping columns will be excluded from the operation. Either pass `include_groups=False` to exclude the groupings or explicitly select the grouping columns after groupby to silence this warning.\n"
     ]
    },
    {
     "name": "stdout",
     "output_type": "stream",
     "text": [
      "Trying seed 16...\n"
     ]
    },
    {
     "name": "stderr",
     "output_type": "stream",
     "text": [
      "<positron-console-cell-248>:13: DeprecationWarning: DataFrameGroupBy.apply operated on the grouping columns. This behavior is deprecated, and in a future version of pandas the grouping columns will be excluded from the operation. Either pass `include_groups=False` to exclude the groupings or explicitly select the grouping columns after groupby to silence this warning.\n"
     ]
    },
    {
     "name": "stdout",
     "output_type": "stream",
     "text": [
      "Trying seed 17...\n"
     ]
    },
    {
     "name": "stderr",
     "output_type": "stream",
     "text": [
      "<positron-console-cell-248>:13: DeprecationWarning: DataFrameGroupBy.apply operated on the grouping columns. This behavior is deprecated, and in a future version of pandas the grouping columns will be excluded from the operation. Either pass `include_groups=False` to exclude the groupings or explicitly select the grouping columns after groupby to silence this warning.\n"
     ]
    },
    {
     "name": "stdout",
     "output_type": "stream",
     "text": [
      "Trying seed 18...\n"
     ]
    },
    {
     "name": "stderr",
     "output_type": "stream",
     "text": [
      "<positron-console-cell-248>:13: DeprecationWarning: DataFrameGroupBy.apply operated on the grouping columns. This behavior is deprecated, and in a future version of pandas the grouping columns will be excluded from the operation. Either pass `include_groups=False` to exclude the groupings or explicitly select the grouping columns after groupby to silence this warning.\n"
     ]
    },
    {
     "name": "stdout",
     "output_type": "stream",
     "text": [
      "Trying seed 19...\n"
     ]
    },
    {
     "name": "stderr",
     "output_type": "stream",
     "text": [
      "<positron-console-cell-248>:13: DeprecationWarning: DataFrameGroupBy.apply operated on the grouping columns. This behavior is deprecated, and in a future version of pandas the grouping columns will be excluded from the operation. Either pass `include_groups=False` to exclude the groupings or explicitly select the grouping columns after groupby to silence this warning.\n"
     ]
    },
    {
     "name": "stdout",
     "output_type": "stream",
     "text": [
      "Success! All participants assigned using seed 19.\n"
     ]
    }
   ],
   "source": [
    "import random\n",
    "\n",
    "# Get the earliest and latest timeslots\n",
    "earliest_time = tslist_sataft['timeslot_start'].min()\n",
    "latest_time = tslist_sataft['timeslot_start'].max()\n",
    "\n",
    "# Define a function to perform the assignment process\n",
    "def assign_slots_with_seed(participants_df, slots_df, seed):\n",
    "\n",
    "    # Shuffle the timeslots within each publisher group using the seed\n",
    "    shuffled_slots = (\n",
    "        slots_df.groupby('lit_guest_name', group_keys=False)\n",
    "        .apply(lambda group: group.sample(frac=1, random_state=seed))\n",
    "    )\n",
    "\n",
    "    # Add a column to flag timekeepers in the participants dataset\n",
    "    participants_df['is_timekeeper'] = participants_df['Email'].isin(timekeeps)\n",
    "\n",
    "    # Create the blank datasets and lists for the assignments and used-up slots\n",
    "    assignments = []\n",
    "    used_slots = set()\n",
    "\n",
    "    # Add a column to track the number of meetings each participant needs\n",
    "    participants_df['remaining_meetings'] = participants_df.groupby('Email')['Email'].transform('count')\n",
    "\n",
    "    # Repeat until all participants are assigned or no more slots remain\n",
    "    while not participants_df.empty:\n",
    "        assigned_any = False\n",
    "\n",
    "        for _, slot in shuffled_slots.iterrows():\n",
    "            room_slot_id = (slot['timeslot_start'], slot['room_name'])\n",
    "\n",
    "            if room_slot_id in used_slots:\n",
    "                continue\n",
    "\n",
    "            if participants_df.empty:\n",
    "                break\n",
    "\n",
    "            sorted_participants = (\n",
    "                participants_df\n",
    "                .sample(frac=1, random_state=seed)  # Shuffle randomly\n",
    "                .sort_values(by='remaining_meetings', ascending=False)\n",
    "            )\n",
    "\n",
    "            for index, participant in sorted_participants.iterrows():\n",
    "\n",
    "                # Skip back-to-back assignments\n",
    "                assigned_slots = [\n",
    "                    (a['timeslot_start'], a['room_name']) for a in assignments if a['Email'] == participant['Email']\n",
    "                ]\n",
    "                if any(\n",
    "                    abs(slot['timeslot_start'] - assigned_time) <= timedelta(minutes=15)\n",
    "                    for assigned_time, _ in assigned_slots\n",
    "                ):\n",
    "                    continue\n",
    "\n",
    "                # Skip the earliest and latest timeslots for timekeepers if possible\n",
    "                if participant['is_timekeeper'] and slot['timeslot_start'] in [earliest_time, latest_time]:\n",
    "                    # Check if there are other slots available for this participant\n",
    "                    if not any(\n",
    "                        set(participant['publisher']) == set(alt_slot['lit_guest_name']) and\n",
    "                        alt_slot['timeslot_start'] not in [earliest_time, latest_time] and\n",
    "                        (alt_slot['timeslot_start'], alt_slot['room_name']) not in used_slots\n",
    "                        for _, alt_slot in shuffled_slots.iterrows()\n",
    "                    ):\n",
    "                        print(f\"Timekeeper {participant['Email']} has no alternative slot; assigning to edge slot.\")\n",
    "                    else:\n",
    "                        continue\n",
    "\n",
    "                if set(participant['publisher']) == set(slot['lit_guest_name']):\n",
    "                    assignments.append({\n",
    "                        'Email': participant['Email'],\n",
    "                        'timeslot_start': slot['timeslot_start'],\n",
    "                        'room_name': slot['room_name'],\n",
    "                        'publisher': slot['lit_guest_name'],\n",
    "                        'virtual': participant['Virtual'],\n",
    "                        'Session': \"Pitch\",\n",
    "                        'Timekeeper': participant['is_timekeeper']\n",
    "                    })\n",
    "                    used_slots.add(room_slot_id)\n",
    "                    participants_df.drop(index, inplace=True)\n",
    "                    participants_df['remaining_meetings'] = participants_df.groupby('Email')['Email'].transform('count')\n",
    "                    assigned_any = True\n",
    "                    break\n",
    "\n",
    "        if not assigned_any:\n",
    "            break\n",
    "\n",
    "    return assignments, participants_df\n",
    "\n",
    "# Initialize variables\n",
    "success = False\n",
    "max_attempts = 1000  # Limit the number of attempts\n",
    "seed = 0\n",
    "\n",
    "while not success and seed < max_attempts:\n",
    "    seed += 1\n",
    "    print(f\"Trying seed {seed}...\")\n",
    "    \n",
    "    # Copy the original dataframes to avoid modifying them directly\n",
    "    participants_copy = pitches_all.copy()\n",
    "    slots_copy = tslist_sataft.copy()\n",
    "\n",
    "    # Run the assignment process with the current seed\n",
    "    assignments, remaining_participants = assign_slots_with_seed(participants_copy, slots_copy, seed)\n",
    "\n",
    "    # Check if all participants were assigned\n",
    "    if remaining_participants.empty:\n",
    "        success = True\n",
    "        print(f\"Success! All participants assigned using seed {seed}.\")\n",
    "        break\n",
    "\n",
    "if success:\n",
    "    # Convert assignments to a DataFrame\n",
    "    assignments_df = pd.DataFrame(assignments)\n",
    "else:\n",
    "    print(\"Failed to assign all participants within the maximum number of attempts.\")\n"
   ]
  },
  {
   "cell_type": "markdown",
   "metadata": {},
   "source": [
    "Yay! That worked great too. Let's just save it and delete any extraneous datasets."
   ]
  },
  {
   "cell_type": "code",
   "execution_count": 249,
   "metadata": {
    "vscode": {
     "languageId": "python"
    }
   },
   "outputs": [],
   "source": [
    "final_sataft_assignment = assignments_df\n",
    "final_sataft_assignments2 = pd.merge(final_sataft_assignment, registered[['Email', 'First Name', 'Last Name', 'phone']].drop_duplicates(), on='Email', how='inner')\n",
    "\n",
    "del(pitches, pitches_all, assignments_df, remaining_participants, timeslots, tslist_sataft, tslist_satmorn, times_friday2, times_sat,\n",
    "    slots_copy, assignments, earliest_time, latest_time, max_attempts, success, seed, assign_slots_with_seed, timedelta, participants_copy, final_sataft_assignment)"
   ]
  },
  {
   "cell_type": "markdown",
   "metadata": {},
   "source": [
    "Woohoo! Now we're officially all done with the assignments, and we just need to deal withe waitlists now. FInal step after that will be to print out everything we've got into exactly the excel and word files we want."
   ]
  },
  {
   "cell_type": "code",
   "execution_count": 250,
   "metadata": {
    "vscode": {
     "languageId": "python"
    }
   },
   "outputs": [],
   "source": [
    "# Save the dataset\n",
    "final_sataft_assignments2.to_excel(f\"Outputs/Finalized datasets/Finalized pitch assignments_{today}.xlsx\", index=False)"
   ]
  },
  {
   "cell_type": "markdown",
   "metadata": {},
   "source": [
    "# 2. Deal with the Waitlists"
   ]
  },
  {
   "cell_type": "markdown",
   "metadata": {},
   "source": [
    "Dealing with the waitlists is pretty simple. We already corrected some of the basic stuff earlier, like emails and phones. Now let's split into what they're waitlisted for:\n",
    "1) manuscript critiques\n",
    "2) pitches\n",
    "3) pre-conference edits\n",
    "4) book fairs\n",
    "5) query letter critiques"
   ]
  },
  {
   "cell_type": "code",
   "execution_count": 251,
   "metadata": {
    "vscode": {
     "languageId": "python"
    }
   },
   "outputs": [],
   "source": [
    "wait_ms = waitlist[waitlist['Session Name'].str.contains('Manuscript')]\n",
    "wait_pitch = waitlist[waitlist['Session Name'].str.contains('Pitch')]\n",
    "wait_prec = waitlist[waitlist['Session Name'].str.contains('Pre-conference')]\n",
    "\n",
    "# May also need to do bookfair and query letter critique waitlists"
   ]
  },
  {
   "cell_type": "markdown",
   "metadata": {},
   "source": [
    "Now let's change all the code so that instead of Manuscript A, B, C etc, it says 'Waitlisted'"
   ]
  },
  {
   "cell_type": "code",
   "execution_count": 252,
   "metadata": {
    "vscode": {
     "languageId": "python"
    }
   },
   "outputs": [
    {
     "name": "stderr",
     "output_type": "stream",
     "text": [
      "<positron-console-cell-252>:1: SettingWithCopyWarning: \n",
      "A value is trying to be set on a copy of a slice from a DataFrame.\n",
      "Try using .loc[row_indexer,col_indexer] = value instead\n",
      "\n",
      "See the caveats in the documentation: https://pandas.pydata.org/pandas-docs/stable/user_guide/indexing.html#returning-a-view-versus-a-copy\n",
      "<positron-console-cell-252>:2: SettingWithCopyWarning: \n",
      "A value is trying to be set on a copy of a slice from a DataFrame.\n",
      "Try using .loc[row_indexer,col_indexer] = value instead\n",
      "\n",
      "See the caveats in the documentation: https://pandas.pydata.org/pandas-docs/stable/user_guide/indexing.html#returning-a-view-versus-a-copy\n"
     ]
    }
   ],
   "source": [
    "wait_pitch['Session Name'] = wait_pitch['Session Name'].str.replace(\"Pitch [A-Z] with \", \"Waitlisted - Pitch with \", regex=True)\n",
    "wait_ms['Session Name'] = wait_ms['Session Name'].str.replace(\"Manuscript Critique [A-Z] with \", \"Waitlisted - Manuscript Critique with \", regex=True)"
   ]
  },
  {
   "cell_type": "markdown",
   "metadata": {},
   "source": [
    "We need to double check that no participant has more than 3 manuscript critique waitlist spots."
   ]
  },
  {
   "cell_type": "code",
   "execution_count": 253,
   "metadata": {
    "vscode": {
     "languageId": "python"
    }
   },
   "outputs": [
    {
     "name": "stdout",
     "output_type": "stream",
     "text": [
      "[3 2 1]\n",
      "[3 2 1]\n"
     ]
    }
   ],
   "source": [
    "print(wait_pitch['Email'].value_counts().unique())\n",
    "print(wait_ms['Email'].value_counts().unique())"
   ]
  },
  {
   "cell_type": "markdown",
   "metadata": {},
   "source": [
    "Good. As you can see above, nobody's got 4 or higher for how often their emails appear in these lists. Now let's sort by registration date for each Session Name, so that we assign a value of #1, #2, etc. by registration date for each Manuscript critique/pitch spot with each publisher."
   ]
  },
  {
   "cell_type": "code",
   "execution_count": 254,
   "metadata": {
    "vscode": {
     "languageId": "python"
    }
   },
   "outputs": [
    {
     "name": "stderr",
     "output_type": "stream",
     "text": [
      "<positron-console-cell-254>:2: SettingWithCopyWarning: \n",
      "A value is trying to be set on a copy of a slice from a DataFrame.\n",
      "Try using .loc[row_indexer,col_indexer] = value instead\n",
      "\n",
      "See the caveats in the documentation: https://pandas.pydata.org/pandas-docs/stable/user_guide/indexing.html#returning-a-view-versus-a-copy\n"
     ]
    }
   ],
   "source": [
    "# Sort by 'Session Name' and 'datetime', and rank participants\n",
    "wait_ms['Waitlist_ms'] = wait_ms.sort_values(['Session Name', 'datetime']) \\\n",
    "               .groupby('Session Name')['datetime'] \\\n",
    "               .rank(method='first').astype(int)\n",
    "\n",
    "# Sort DataFrame for display (optional)\n",
    "wait_ms = wait_ms.sort_values(['Session Name', 'Waitlist_ms']).reset_index(drop=True)"
   ]
  },
  {
   "cell_type": "code",
   "execution_count": 255,
   "metadata": {
    "vscode": {
     "languageId": "python"
    }
   },
   "outputs": [
    {
     "name": "stderr",
     "output_type": "stream",
     "text": [
      "<positron-console-cell-255>:2: SettingWithCopyWarning: \n",
      "A value is trying to be set on a copy of a slice from a DataFrame.\n",
      "Try using .loc[row_indexer,col_indexer] = value instead\n",
      "\n",
      "See the caveats in the documentation: https://pandas.pydata.org/pandas-docs/stable/user_guide/indexing.html#returning-a-view-versus-a-copy\n"
     ]
    }
   ],
   "source": [
    "# Sort by 'Session Name' and 'datetime', and rank participants\n",
    "wait_pitch['Waitlist_pitch'] = wait_pitch.sort_values(['Session Name', 'datetime']) \\\n",
    "               .groupby('Session Name')['datetime'] \\\n",
    "               .rank(method='first').astype(int)\n",
    "\n",
    "# Sort DataFrame for display (optional)\n",
    "wait_pitch = wait_pitch.sort_values(['Session Name', 'Waitlist_pitch']).reset_index(drop=True)"
   ]
  },
  {
   "cell_type": "markdown",
   "metadata": {},
   "source": [
    "Okay, looks good. Now let's tweak it a little bit more so we create an 'Agenda Item Name' that is 'Waitlisted - #1 - Manuscript Critique with [publisher].'"
   ]
  },
  {
   "cell_type": "code",
   "execution_count": 256,
   "metadata": {
    "vscode": {
     "languageId": "python"
    }
   },
   "outputs": [],
   "source": [
    "wait_pitch['Agenda Item Name'] = wait_pitch.apply(\n",
    "    lambda row: row['Session Name'].replace(\n",
    "        \"Waitlisted\", f\"Waitlist #{row['Waitlist_pitch']}\"\n",
    "    ) if \"Waitlisted\" in row['Session Name'] else row['Session Name'],\n",
    "    axis=1\n",
    ")"
   ]
  },
  {
   "cell_type": "code",
   "execution_count": 257,
   "metadata": {
    "vscode": {
     "languageId": "python"
    }
   },
   "outputs": [],
   "source": [
    "wait_ms['Agenda Item Name'] = wait_ms.apply(\n",
    "    lambda row: row['Session Name'].replace(\n",
    "        \"Waitlisted\", f\"Waitlist #{row['Waitlist_ms']}\"\n",
    "    ) if \"Waitlisted\" in row['Session Name'] else row['Session Name'],\n",
    "    axis=1\n",
    ")"
   ]
  },
  {
   "cell_type": "code",
   "execution_count": 258,
   "metadata": {
    "vscode": {
     "languageId": "python"
    }
   },
   "outputs": [],
   "source": [
    "# For right now, let's just merge all the waitlist stuff back together, and add in the participant info so that it's all in one place.\n",
    "wait_all = pd.merge(wait_ms, wait_pitch, how=\"outer\")\n",
    "\n",
    "# Let's extract the publisher\n",
    "wait_all['publisher'] = wait_all['Session Name'].str.replace(\"Waitlisted - Manuscript Critique with \", \"\")\n",
    "wait_all['publisher'] = wait_all['publisher'].str.replace(\"Waitlisted - Pitch with \", \"\")\n",
    "wait_all = wait_all[['Email', 'First Name', 'Last Name', 'phone', 'Agenda Item Name', 'publisher']]\n",
    "\n",
    "# print for George\n",
    "wait_all.to_excel(\"Outputs/Finalized Datasets/Waitlist participants.xlsx\", index=False)\n"
   ]
  },
  {
   "cell_type": "markdown",
   "metadata": {},
   "source": [
    "# 4. Print a bunch of excel documents"
   ]
  },
  {
   "cell_type": "markdown",
   "metadata": {},
   "source": [
    "We won't really do much with these particular excel documents, except to export them for manual review (and potentially manual changes)."
   ]
  },
  {
   "cell_type": "code",
   "execution_count": 259,
   "metadata": {
    "vscode": {
     "languageId": "python"
    }
   },
   "outputs": [],
   "source": [
    "final_room_pairings_Friday.to_excel(f\"Outputs/Finalized Datasets/Editor-agent pairings for Friday_{today}.xlsx\", index=False)"
   ]
  },
  {
   "cell_type": "code",
   "execution_count": 260,
   "metadata": {
    "vscode": {
     "languageId": "python"
    }
   },
   "outputs": [],
   "source": [
    "final_friday_assignments2.to_excel(f\"Outputs/Finalized Datasets/Friday query letter critique assignments_{today}.xlsx\", index=False)"
   ]
  },
  {
   "cell_type": "code",
   "execution_count": 261,
   "metadata": {
    "vscode": {
     "languageId": "python"
    }
   },
   "outputs": [],
   "source": [
    "final_sataft_assignments2.to_excel(f\"Outputs/Finalized Datasets/Saturday pitch assignments_{today}.xlsx\", index=False)"
   ]
  },
  {
   "cell_type": "code",
   "execution_count": 262,
   "metadata": {
    "vscode": {
     "languageId": "python"
    }
   },
   "outputs": [],
   "source": [
    "final_satmorn_assignments2.to_excel(f\"Outputs/Finalized Datasets/Saturday manuscript critique assignments_{today}.xlsx\", index=False)"
   ]
  },
  {
   "cell_type": "code",
   "execution_count": 263,
   "metadata": {
    "vscode": {
     "languageId": "python"
    }
   },
   "outputs": [],
   "source": [
    "registered.to_excel(f\"Outputs/Finalized Datasets/Registered_cleaned_{today}.xlsx\", index=False,\n",
    "                        columns=['Agenda Item Name', 'Email', 'First Name', 'Last Name', 'Mobile Phone Number', 'Virtual', 'Fiction genre', 'Nonfiction genre', 'phone'], )"
   ]
  },
  {
   "cell_type": "code",
   "execution_count": 264,
   "metadata": {
    "vscode": {
     "languageId": "python"
    }
   },
   "outputs": [],
   "source": [
    "waitlist.to_excel(f\"Outputs/Finalized Datasets/Waitlist_cleaned_{today}.xlsx\", index=False,\n",
    "                        columns=['Session Name', 'Email', 'First Name', 'Last Name', 'Mobile Phone Number', 'phone', 'virtual'], )"
   ]
  }
 ],
 "metadata": {
  "language_info": {
   "name": "plaintext"
  }
 },
 "nbformat": 4,
 "nbformat_minor": 2
}
